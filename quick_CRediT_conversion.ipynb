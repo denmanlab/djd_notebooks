{
 "cells": [
  {
   "cell_type": "code",
   "execution_count": 67,
   "metadata": {
    "collapsed": true
   },
   "outputs": [],
   "source": [
    "import numpy as np\n",
    "import pandas as pd\n",
    "def replace_right(source, target, replacement, replacements=None):\n",
    "    return replacement.join(source.rsplit(target, replacements))"
   ]
  },
  {
   "cell_type": "code",
   "execution_count": 119,
   "metadata": {
    "collapsed": true
   },
   "outputs": [],
   "source": [
    "filename = '/Users/danieljdenman/Desktop/ContributionstoNeuropixels paper.csv'"
   ]
  },
  {
   "cell_type": "code",
   "execution_count": 120,
   "metadata": {
    "collapsed": false
   },
   "outputs": [],
   "source": [
    "df = pd.read_csv(filename).transpose()\n",
    "df.reset_index(level=0, inplace=True)"
   ]
  },
  {
   "cell_type": "code",
   "execution_count": 92,
   "metadata": {
    "collapsed": false
   },
   "outputs": [
    {
     "data": {
      "text/html": [
       "<div>\n",
       "<table border=\"1\" class=\"dataframe\">\n",
       "  <thead>\n",
       "    <tr style=\"text-align: right;\">\n",
       "      <th></th>\n",
       "      <th>Unnamed: 0</th>\n",
       "      <th>Unnamed: 1</th>\n",
       "      <th>Jun</th>\n",
       "      <th>Steinmetz</th>\n",
       "      <th>Siegle</th>\n",
       "      <th>Denman</th>\n",
       "      <th>Bauza</th>\n",
       "      <th>Barbarits</th>\n",
       "      <th>Lee</th>\n",
       "      <th>Anastassiou</th>\n",
       "      <th>...</th>\n",
       "      <th>Musa</th>\n",
       "      <th>O'Keefe</th>\n",
       "      <th>Okun</th>\n",
       "      <th>Pachitariu</th>\n",
       "      <th>Putzeys</th>\n",
       "      <th>Rich</th>\n",
       "      <th>Rossant</th>\n",
       "      <th>Sun</th>\n",
       "      <th>Svoboda</th>\n",
       "      <th>TD Harris</th>\n",
       "    </tr>\n",
       "  </thead>\n",
       "  <tbody>\n",
       "    <tr>\n",
       "      <th>0</th>\n",
       "      <td>NaN</td>\n",
       "      <td>NaN</td>\n",
       "      <td>JJJ</td>\n",
       "      <td>NAS</td>\n",
       "      <td>JHS</td>\n",
       "      <td>DJD</td>\n",
       "      <td>MB1</td>\n",
       "      <td>BB</td>\n",
       "      <td>AKL</td>\n",
       "      <td>CAA</td>\n",
       "      <td>...</td>\n",
       "      <td>SM</td>\n",
       "      <td>JO</td>\n",
       "      <td>MO</td>\n",
       "      <td>MP</td>\n",
       "      <td>JP</td>\n",
       "      <td>PDR</td>\n",
       "      <td>CR</td>\n",
       "      <td>WS</td>\n",
       "      <td>KS</td>\n",
       "      <td>TDH</td>\n",
       "    </tr>\n",
       "    <tr>\n",
       "      <th>1</th>\n",
       "      <td>Study conception</td>\n",
       "      <td>Ideas; formulation of research question; state...</td>\n",
       "      <td>NaN</td>\n",
       "      <td>NaN</td>\n",
       "      <td>NaN</td>\n",
       "      <td>NaN</td>\n",
       "      <td>NaN</td>\n",
       "      <td>NaN</td>\n",
       "      <td>y</td>\n",
       "      <td>NaN</td>\n",
       "      <td>...</td>\n",
       "      <td>NaN</td>\n",
       "      <td></td>\n",
       "      <td>NaN</td>\n",
       "      <td>NaN</td>\n",
       "      <td>NaN</td>\n",
       "      <td>NaN</td>\n",
       "      <td>NaN</td>\n",
       "      <td>NaN</td>\n",
       "      <td></td>\n",
       "      <td>y</td>\n",
       "    </tr>\n",
       "    <tr>\n",
       "      <th>2</th>\n",
       "      <td>Methodology</td>\n",
       "      <td>Development or design of methodology; creation...</td>\n",
       "      <td>NaN</td>\n",
       "      <td>y</td>\n",
       "      <td>y</td>\n",
       "      <td>y</td>\n",
       "      <td></td>\n",
       "      <td>NaN</td>\n",
       "      <td>y</td>\n",
       "      <td>y</td>\n",
       "      <td>...</td>\n",
       "      <td>NaN</td>\n",
       "      <td>y</td>\n",
       "      <td>NaN</td>\n",
       "      <td>NaN</td>\n",
       "      <td>NaN</td>\n",
       "      <td>NaN</td>\n",
       "      <td>NaN</td>\n",
       "      <td>NaN</td>\n",
       "      <td>y</td>\n",
       "      <td>y</td>\n",
       "    </tr>\n",
       "    <tr>\n",
       "      <th>3</th>\n",
       "      <td>Computation</td>\n",
       "      <td>Programming, software development; designing c...</td>\n",
       "      <td>y</td>\n",
       "      <td>NaN</td>\n",
       "      <td>y</td>\n",
       "      <td>NaN</td>\n",
       "      <td>NaN</td>\n",
       "      <td>NaN</td>\n",
       "      <td>NaN</td>\n",
       "      <td>NaN</td>\n",
       "      <td>...</td>\n",
       "      <td>NaN</td>\n",
       "      <td>NaN</td>\n",
       "      <td>NaN</td>\n",
       "      <td>y</td>\n",
       "      <td>NaN</td>\n",
       "      <td>NaN</td>\n",
       "      <td>y</td>\n",
       "      <td>NaN</td>\n",
       "      <td>NaN</td>\n",
       "      <td>y</td>\n",
       "    </tr>\n",
       "    <tr>\n",
       "      <th>4</th>\n",
       "      <td>Formal analysis</td>\n",
       "      <td>Application of statistical, mathematical or ot...</td>\n",
       "      <td>y</td>\n",
       "      <td>y</td>\n",
       "      <td>y</td>\n",
       "      <td>y</td>\n",
       "      <td>y</td>\n",
       "      <td>NaN</td>\n",
       "      <td>NaN</td>\n",
       "      <td>NaN</td>\n",
       "      <td>...</td>\n",
       "      <td>NaN</td>\n",
       "      <td>NaN</td>\n",
       "      <td>NaN</td>\n",
       "      <td>NaN</td>\n",
       "      <td>NaN</td>\n",
       "      <td>NaN</td>\n",
       "      <td>NaN</td>\n",
       "      <td>NaN</td>\n",
       "      <td>NaN</td>\n",
       "      <td>NaN</td>\n",
       "    </tr>\n",
       "  </tbody>\n",
       "</table>\n",
       "<p>5 rows × 37 columns</p>\n",
       "</div>"
      ],
      "text/plain": [
       "         Unnamed: 0                                         Unnamed: 1  Jun  \\\n",
       "0               NaN                                                NaN  JJJ   \n",
       "1  Study conception  Ideas; formulation of research question; state...  NaN   \n",
       "2       Methodology  Development or design of methodology; creation...  NaN   \n",
       "3       Computation  Programming, software development; designing c...    y   \n",
       "4   Formal analysis  Application of statistical, mathematical or ot...    y   \n",
       "\n",
       "  Steinmetz Siegle Denman Bauza Barbarits  Lee Anastassiou    ...    Musa  \\\n",
       "0       NAS    JHS    DJD   MB1        BB  AKL         CAA    ...      SM   \n",
       "1       NaN    NaN    NaN   NaN       NaN    y         NaN    ...     NaN   \n",
       "2         y      y      y             NaN    y           y    ...     NaN   \n",
       "3       NaN      y    NaN   NaN       NaN  NaN         NaN    ...     NaN   \n",
       "4         y      y      y     y       NaN  NaN         NaN    ...     NaN   \n",
       "\n",
       "  O'Keefe Okun Pachitariu Putzeys Rich Rossant  Sun Svoboda TD Harris  \n",
       "0      JO   MO         MP      JP  PDR      CR   WS      KS       TDH  \n",
       "1          NaN        NaN     NaN  NaN     NaN  NaN                 y  \n",
       "2       y  NaN        NaN     NaN  NaN     NaN  NaN       y         y  \n",
       "3     NaN  NaN          y     NaN  NaN       y  NaN     NaN         y  \n",
       "4     NaN  NaN        NaN     NaN  NaN     NaN  NaN     NaN       NaN  \n",
       "\n",
       "[5 rows x 37 columns]"
      ]
     },
     "execution_count": 92,
     "metadata": {},
     "output_type": "execute_result"
    }
   ],
   "source": [
    "df.head()"
   ]
  },
  {
   "cell_type": "code",
   "execution_count": 99,
   "metadata": {
    "collapsed": false
   },
   "outputs": [
    {
     "data": {
      "text/html": [
       "<div>\n",
       "<table border=\"1\" class=\"dataframe\">\n",
       "  <thead>\n",
       "    <tr style=\"text-align: right;\">\n",
       "      <th></th>\n",
       "      <th>index</th>\n",
       "      <th>0</th>\n",
       "      <th>1</th>\n",
       "      <th>2</th>\n",
       "      <th>3</th>\n",
       "      <th>4</th>\n",
       "      <th>5</th>\n",
       "      <th>6</th>\n",
       "      <th>7</th>\n",
       "      <th>8</th>\n",
       "      <th>...</th>\n",
       "      <th>25</th>\n",
       "      <th>26</th>\n",
       "      <th>27</th>\n",
       "      <th>28</th>\n",
       "      <th>29</th>\n",
       "      <th>30</th>\n",
       "      <th>31</th>\n",
       "      <th>32</th>\n",
       "      <th>33</th>\n",
       "      <th>34</th>\n",
       "    </tr>\n",
       "  </thead>\n",
       "  <tbody>\n",
       "    <tr>\n",
       "      <th>0</th>\n",
       "      <td>Unnamed: 0</td>\n",
       "      <td>Jun</td>\n",
       "      <td>Steinmetz</td>\n",
       "      <td>Siegle</td>\n",
       "      <td>Denman</td>\n",
       "      <td>Bauza</td>\n",
       "      <td>Barbarits</td>\n",
       "      <td>Lee</td>\n",
       "      <td>Anastassiou</td>\n",
       "      <td>Andrei</td>\n",
       "      <td>...</td>\n",
       "      <td>Musa</td>\n",
       "      <td>O'Keefe</td>\n",
       "      <td>Okun</td>\n",
       "      <td>Pachitariu</td>\n",
       "      <td>Putzeys</td>\n",
       "      <td>Rich</td>\n",
       "      <td>Rossant</td>\n",
       "      <td>Sun</td>\n",
       "      <td>Svoboda</td>\n",
       "      <td>TD Harris</td>\n",
       "    </tr>\n",
       "    <tr>\n",
       "      <th>1</th>\n",
       "      <td>Unnamed: 1</td>\n",
       "      <td>JJJ</td>\n",
       "      <td>NAS</td>\n",
       "      <td>JHS</td>\n",
       "      <td>DJD</td>\n",
       "      <td>MB1</td>\n",
       "      <td>BB</td>\n",
       "      <td>AKL</td>\n",
       "      <td>CAA</td>\n",
       "      <td>AA</td>\n",
       "      <td>...</td>\n",
       "      <td>SM</td>\n",
       "      <td>JO</td>\n",
       "      <td>MO</td>\n",
       "      <td>MP</td>\n",
       "      <td>JP</td>\n",
       "      <td>PDR</td>\n",
       "      <td>CR</td>\n",
       "      <td>WS</td>\n",
       "      <td>KS</td>\n",
       "      <td>TDH</td>\n",
       "    </tr>\n",
       "    <tr>\n",
       "      <th>2</th>\n",
       "      <td>Project conception</td>\n",
       "      <td>NaN</td>\n",
       "      <td>NaN</td>\n",
       "      <td>NaN</td>\n",
       "      <td>NaN</td>\n",
       "      <td>NaN</td>\n",
       "      <td>NaN</td>\n",
       "      <td>y</td>\n",
       "      <td>NaN</td>\n",
       "      <td>NaN</td>\n",
       "      <td>...</td>\n",
       "      <td>NaN</td>\n",
       "      <td></td>\n",
       "      <td>NaN</td>\n",
       "      <td>NaN</td>\n",
       "      <td>NaN</td>\n",
       "      <td>NaN</td>\n",
       "      <td>NaN</td>\n",
       "      <td>NaN</td>\n",
       "      <td></td>\n",
       "      <td>y</td>\n",
       "    </tr>\n",
       "    <tr>\n",
       "      <th>3</th>\n",
       "      <td>Specification and Planning</td>\n",
       "      <td>NaN</td>\n",
       "      <td>y</td>\n",
       "      <td>NaN</td>\n",
       "      <td>NaN</td>\n",
       "      <td>y</td>\n",
       "      <td>y</td>\n",
       "      <td>y</td>\n",
       "      <td>NaN</td>\n",
       "      <td>NaN</td>\n",
       "      <td>...</td>\n",
       "      <td>y</td>\n",
       "      <td>y</td>\n",
       "      <td>NaN</td>\n",
       "      <td>NaN</td>\n",
       "      <td>y</td>\n",
       "      <td>NaN</td>\n",
       "      <td>NaN</td>\n",
       "      <td>NaN</td>\n",
       "      <td>y</td>\n",
       "      <td>y</td>\n",
       "    </tr>\n",
       "    <tr>\n",
       "      <th>4</th>\n",
       "      <td>Produced Devices</td>\n",
       "      <td>NaN</td>\n",
       "      <td>NaN</td>\n",
       "      <td>NaN</td>\n",
       "      <td>NaN</td>\n",
       "      <td>NaN</td>\n",
       "      <td>NaN</td>\n",
       "      <td>NaN</td>\n",
       "      <td>NaN</td>\n",
       "      <td>NaN</td>\n",
       "      <td>...</td>\n",
       "      <td>y</td>\n",
       "      <td>NaN</td>\n",
       "      <td>NaN</td>\n",
       "      <td>NaN</td>\n",
       "      <td>y</td>\n",
       "      <td>NaN</td>\n",
       "      <td>NaN</td>\n",
       "      <td>y</td>\n",
       "      <td>NaN</td>\n",
       "      <td>y</td>\n",
       "    </tr>\n",
       "  </tbody>\n",
       "</table>\n",
       "<p>5 rows × 36 columns</p>\n",
       "</div>"
      ],
      "text/plain": [
       "                        index    0          1       2       3      4  \\\n",
       "0                  Unnamed: 0  Jun  Steinmetz  Siegle  Denman  Bauza   \n",
       "1                  Unnamed: 1  JJJ        NAS     JHS     DJD    MB1   \n",
       "2         Project conception   NaN        NaN     NaN     NaN    NaN   \n",
       "3  Specification and Planning  NaN          y     NaN     NaN      y   \n",
       "4           Produced Devices   NaN        NaN     NaN     NaN    NaN   \n",
       "\n",
       "           5    6            7       8    ...        25       26    27  \\\n",
       "0  Barbarits  Lee  Anastassiou  Andrei    ...      Musa  O'Keefe  Okun   \n",
       "1         BB  AKL          CAA      AA    ...        SM       JO    MO   \n",
       "2        NaN    y          NaN     NaN    ...       NaN            NaN   \n",
       "3          y    y          NaN     NaN    ...         y        y   NaN   \n",
       "4        NaN  NaN          NaN     NaN    ...         y      NaN   NaN   \n",
       "\n",
       "           28       29    30       31   32       33         34  \n",
       "0  Pachitariu  Putzeys  Rich  Rossant  Sun  Svoboda  TD Harris  \n",
       "1          MP       JP   PDR       CR   WS       KS        TDH  \n",
       "2         NaN      NaN   NaN      NaN  NaN                   y  \n",
       "3         NaN        y   NaN      NaN  NaN        y          y  \n",
       "4         NaN        y   NaN      NaN    y      NaN          y  \n",
       "\n",
       "[5 rows x 36 columns]"
      ]
     },
     "execution_count": 99,
     "metadata": {},
     "output_type": "execute_result"
    }
   ],
   "source": [
    "df.head()"
   ]
  },
  {
   "cell_type": "code",
   "execution_count": 111,
   "metadata": {
    "collapsed": false
   },
   "outputs": [
    {
     "data": {
      "text/plain": [
       "True"
      ]
     },
     "execution_count": 111,
     "metadata": {},
     "output_type": "execute_result"
    }
   ],
   "source": [
    "df[author][row]=='y'"
   ]
  },
  {
   "cell_type": "code",
   "execution_count": 115,
   "metadata": {
    "collapsed": false
   },
   "outputs": [
    {
     "data": {
      "text/plain": [
       "'Funding acquisition'"
      ]
     },
     "execution_count": 115,
     "metadata": {},
     "output_type": "execute_result"
    }
   ],
   "source": [
    "category"
   ]
  },
  {
   "cell_type": "code",
   "execution_count": 114,
   "metadata": {
    "collapsed": false
   },
   "outputs": [
    {
     "data": {
      "text/plain": [
       "'T.D.H.'"
      ]
     },
     "execution_count": 114,
     "metadata": {},
     "output_type": "execute_result"
    }
   ],
   "source": [
    "''.join([c+'.' for c in df[author][1]])"
   ]
  },
  {
   "cell_type": "code",
   "execution_count": 121,
   "metadata": {
    "collapsed": false
   },
   "outputs": [
    {
     "name": "stdout",
     "output_type": "stream",
     "text": [
      "Project conception , A.K.L., B.D., C.K., and T.D.H.;\n",
      "Specification and Planning, N.A.S., M.B.1., B.B., A.K.L., T.J.B., D.A.G., K.D.H., B.K., C.K., C.M.L., S.M., J.O., J.P., K.S., and T.D.H.;\n",
      "Produced Devices , C.M.L., S.M., J.P., W.S., and T.D.H.;\n",
      "Tested Devices in Vitro, J.J.J., N.A.S., J.H.S., D.J.D., B.B., T.J.B., B.K., P.L., C.M.L., S.M., J.P., W.S., and T.D.H.;\n",
      "Tested Devices in vivo, J.J.J., N.A.S., J.H.S., D.J.D., M.B.1., C.A., M.B.2., T.J.B., V.B., J.C., D.A.G., M.O., and P.D.R.;\n",
      "Resources Computation Acquisition or Analysis Software, J.J.J., J.H.S., K.D.H., B.K., M.P., and C.R.;\n",
      "Provided Instrumentation or other materials, J.J.J., N.A.S., J.H.S., M.B.1., B.B., T.J.B., C.M.L., S.M., J.P., and W.S.;\n",
      "Design  of experiments, J.J.J., N.A.S., J.H.S., D.J.D., M.B.1., B.B., A.K.L., M.B.2., T.J.B., V.B., M.C., J.C., D.A.G., K.D.H., P.L., J.O., M.O., P.D.R., K.S., and T.D.H.;\n",
      "Software for Acquisition or Data Analysis, J.J.J., N.A.S., J.H.S., D.J.D., M.B.1., and C.R.;\n",
      "Performed Simulations, N.A.S., C.A.A., S.L.G., and C.M.;\n",
      "Data Analysis, J.J.J., N.A.S., J.H.S., D.J.D., M.B.1., B.B., C.A., V.B., J.C., and M.O.;\n",
      "Writing and Revising Manuscript, J.J.J., N.A.S., J.H.S., D.J.D., M.B.1., A.K.L., T.J.B., V.B., M.C., J.C., B.D., K.D.H., C.K., C.M.L., J.O., and T.D.H.;\n",
      "Prepared Figures, J.J.J., N.A.S., J.H.S., D.J.D., M.B.1., B.B., and J.C.;\n",
      "Supervision, D.J.D., T.J.B., V.B., M.C., B.D., K.D.H., C.K., J.O., K.S., and T.D.H.;\n",
      "Funding acquisition, A.K.L., V.B., M.C., K.D.H., M.H., C.K., K.S., and T.D.H.;\n"
     ]
    }
   ],
   "source": [
    "for row,category in enumerate(df['index']):\n",
    "    if not 'Unn' in category:\n",
    "        if type(category) == str:\n",
    "            strg = category+', '\n",
    "            initials = []\n",
    "            for column,author in enumerate(df.columns):\n",
    "                if 'index' != author:\n",
    "                    if df[author][row] == 'y':\n",
    "                        with_periods = ''.join([c+'.' for c in df[author][1]])\n",
    "                        strg = strg+with_periods+', '\n",
    "            strg=strg[:-2]\n",
    "            strg = replace_right(strg,',',', and',1)+';'\n",
    "            print strg"
   ]
  }
 ],
 "metadata": {
  "hide_input": false,
  "kernelspec": {
   "display_name": "Python 2",
   "language": "python",
   "name": "python2"
  },
  "language_info": {
   "codemirror_mode": {
    "name": "ipython",
    "version": 2
   },
   "file_extension": ".py",
   "mimetype": "text/x-python",
   "name": "python",
   "nbconvert_exporter": "python",
   "pygments_lexer": "ipython2",
   "version": "2.7.8"
  }
 },
 "nbformat": 4,
 "nbformat_minor": 0
}
