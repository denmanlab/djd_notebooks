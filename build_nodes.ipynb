{
 "cells": [
  {
   "cell_type": "markdown",
   "metadata": {},
   "source": [
    "# Generate nodes and assign their properties for the column"
   ]
  },
  {
   "cell_type": "code",
   "execution_count": 9,
   "metadata": {},
   "outputs": [],
   "source": [
    "import sys,os.path\n",
    "import json,yaml\n",
    "import pandas as pd\n",
    "import csv\n",
    "import numpy as np\n",
    "import math\n",
    "import pprint\n",
    "\n",
    "# sys.path.append('/Users/danieljdenman/Academics/cu/_science/models/V1\\ Network\\ Models\\ from\\ the\\ Allen\\ Institute/build_model/netbuilder/netbuilder')\n",
    "from netbuilder.network.network import Network\n",
    "import netbuilder.positions.frame_utils as fu\n",
    "import netbuilder.positions.cylinder as cyl\n",
    "from netbuilder.network.data_model.data_model import DataModel\n",
    "\n",
    "\n",
    "# %load_ext autoreload \n",
    "# # check on every execution call\n",
    "# %autoreload 2 \n",
    "\n",
    "#%matplotlib inline"
   ]
  },
  {
   "cell_type": "code",
   "execution_count": 2,
   "metadata": {
    "collapsed": false,
    "jupyter": {
     "outputs_hidden": false
    }
   },
   "outputs": [
    {
     "name": "stdout",
     "output_type": "stream",
     "text": [
      "full_path to json description: pop_queries.json\n"
     ]
    }
   ],
   "source": [
    "file_name_json = 'pop_queries.json' # get config file name from the command line argument\n",
    "\n",
    "# load description file with the information about the populations\n",
    "with open(file_name_json, 'r') as f: net_description=yaml.safe_load(f)\n",
    "\n",
    "print 'full_path to json description:',file_name_json\n",
    "\n",
    "#pp = pprint.PrettyPrinter(indent=2)\n",
    "#pp.pprint(net_description)"
   ]
  },
  {
   "cell_type": "code",
   "execution_count": 3,
   "metadata": {
    "collapsed": true,
    "jupyter": {
     "outputs_hidden": true
    }
   },
   "outputs": [],
   "source": [
    "# load cell models to choose from:\n",
    "\n",
    "cell_models_directory = '/Biophysical_network/cell_models/'\n",
    "\n",
    "# biophysical:\n",
    "bio_models_df = pd.read_csv(cell_models_directory+'/biophysical/bio_models_prop_ltd.csv',sep=' ',index_col='node_type_id');\n",
    "# intfire:\n",
    "bio_models_df.loc[:,'set_params_function'] = pd.Series(['biophys1']*len(bio_models_df), index=bio_models_df.index)\n",
    "\n",
    "lif_models_df = pd.read_csv(cell_models_directory+\"/intfire/lif_models_prop.csv\",sep=' ',index_col='node_type_id');   \n",
    "lif_models_df.loc[:,'set_params_function'] = pd.Series(['intfire1']*len(lif_models_df), index=lif_models_df.index)\n",
    "lif_pop2node_type_id_df = pd.read_csv(cell_models_directory+\"/intfire/lif_models_prop.csv\",sep=' ',index_col='pop_name');"
   ]
  },
  {
   "cell_type": "code",
   "execution_count": 4,
   "metadata": {
    "collapsed": false,
    "jupyter": {
     "outputs_hidden": false
    }
   },
   "outputs": [
    {
     "name": "stdout",
     "output_type": "stream",
     "text": [
      "e5Rbp4 :  26846\n",
      "e23Cux2 :  56057\n",
      "i6Pvalb :  4626\n",
      "e4Scnn1a :  13728\n",
      "i23Pvalb :  2927\n",
      "i6Htr3a :  841\n",
      "i23Htr3a :  4845\n",
      "e4Rorb :  11898\n",
      "i5Htr3a :  508\n",
      "e4other :  14644\n",
      "i5Pvalb :  2876\n",
      "i4Pvalb :  4461\n",
      "i23Sst :  2120\n",
      "i4Htr3a :  1231\n",
      "i4Sst :  2384\n",
      "e4Nr5a1 :  5491\n",
      "i1Htr3a :  4363\n",
      "i5Sst :  2538\n",
      "e5noRbp4 :  6712\n",
      "i6Sst :  4626\n",
      "e6Ntsr1 :  57202\n",
      "ncells_total: 230924\n"
     ]
    }
   ],
   "source": [
    "#    set somatic coordinates for the cells\n",
    "\n",
    "network = Network() # class for building a network\n",
    "network.seed(5)\n",
    "\n",
    "pops = net_description['pops']\n",
    "\n",
    "ncells_total = 0\n",
    "cell_rarefier = 1.0\n",
    "radial_range = net_description['radial_range']\n",
    "\n",
    "for pop_name,pop_prop in pops.items():\n",
    "#    print pop_prop\n",
    "    depth_range = pop_prop[\"depth_range\"]\n",
    "    ncells_pop = int(round(pop_prop['ncells']*cell_rarefier)) # rarefy by a factor\n",
    "\n",
    "    print pop_name, ': ', ncells_pop\n",
    "    pop_gids = network.create_nodes(type_name=pop_name, \n",
    "                                    N=ncells_pop,\n",
    "                                    instance_params = pop_prop[\"labels\"])\n",
    "    \n",
    "    y_range = -np.array(depth_range)    # use negative values for y\n",
    "    \n",
    "    positions = cyl.generate_random_positions(ncells_pop, y_range, radial_range) \n",
    "\n",
    "    network.update_nodes(array_data={'x_soma': positions[:,0]}, gids=pop_gids)\n",
    "    network.update_nodes(array_data={'y_soma': positions[:,1]}, gids=pop_gids)\n",
    "    network.update_nodes(array_data={'z_soma': positions[:,2]}, gids=pop_gids)\n",
    "\n",
    "    rotation_angle_yaxis = 2*math.pi*np.random.random(ncells_pop)\n",
    "    network.update_nodes(array_data={'rotation_angle_yaxis': rotation_angle_yaxis }, gids=pop_gids)\n",
    "\n",
    "    ncells_total+=ncells_pop\n",
    "\n",
    "print 'ncells_total:',ncells_total"
   ]
  },
  {
   "cell_type": "code",
   "execution_count": 5,
   "metadata": {
    "collapsed": false,
    "jupyter": {
     "outputs_hidden": false
    }
   },
   "outputs": [
    {
     "name": "stdout",
     "output_type": "stream",
     "text": [
      "| pop | ncells | in_query | in_range |\n",
      "e5Rbp4 :  26846   10   10\n",
      "e23Cux2 :  56057   2   1\n",
      "i6Pvalb :  4626   6   6\n",
      "e4Scnn1a :  13728   9   9\n",
      "i23Pvalb :  2927   4   4\n",
      "i6Htr3a :  841   4   4\n",
      "i23Htr3a :  4845   8   8\n",
      "e4Rorb :  11898   12   12\n",
      "i5Htr3a :  508   4   4\n",
      "e4other :  14644   6   6\n",
      "i5Pvalb :  2876   12   12\n",
      "i4Pvalb :  4461   3   3\n",
      "i23Sst :  2120   4   4\n",
      "i4Htr3a :  1231   1   1\n",
      "i4Sst :  2384   3   3\n",
      "e4Nr5a1 :  5491   10   10\n",
      "i1Htr3a :  4363   2   2\n",
      "i5Sst :  2538   11   9\n",
      "e5noRbp4 :  6712   20   20\n",
      "i6Sst :  4626   5   5\n",
      "e6Ntsr1 :  57202   5   5\n",
      "done\n",
      "total number of models used: 138\n"
     ]
    }
   ],
   "source": [
    "# Assign biophysically detailed models to cells:\n",
    "\n",
    "# Approach: choose models for each cell in the population based on the y_soma position\n",
    "\n",
    "length_sigma = 20 #(um) for sigma for gaussian density decay\n",
    "\n",
    "df_list = []\n",
    "\n",
    "model_counter = 0\n",
    "print \"| pop | ncells | in_query | in_range |\"\n",
    "for pop_name,pop_prop in pops.items():\n",
    "    models_pop_df = fu.query_df(bio_models_df,pop_prop[\"criteria\"])    # chose only models which satisfy the criteria\n",
    "    models_pop_df = models_pop_df.assign(pop_name=pop_name)    \n",
    "\n",
    "    models_range_df = fu.get_somatic_zones(models_pop_df, pop_prop[\"depth_range\"])# return frame which includes data on allowable models\n",
    "    nodes_pop = network.nodes(params={'type':pop_name}) # choose nodes from a particular population from biophysical cells\n",
    "    gids_pop = network.node_ids(params={'type':pop_name})\n",
    "    model_counter+=len(models_range_df)\n",
    "    df_list.append(models_pop_df.loc[models_range_df.index])\n",
    "\n",
    "   \n",
    "    print pop_name, ': ', len(list(gids_pop)),' ', len(models_pop_df), ' ', len(models_range_df)\n",
    "    for node in nodes_pop:  # assign model_id to individual nodes based on the value of y_soma\n",
    "        y_soma = node['y_soma']\n",
    "        loc_query = (models_range_df['ymin'] < y_soma) & (models_range_df['ymax'] > y_soma)     # find models which are allowed in this range\n",
    "\n",
    "        acceptable_models_df = models_range_df[loc_query]  # get the acceptable models for this y_soma location\n",
    "        if len(acceptable_models_df.index)==0:\n",
    "            print y_soma    # for debugging purposes in case there are no acceptable models\n",
    "\n",
    "        y_spec = acceptable_models_df[\"y_spec\"].values  # y coordinate of a specimen\n",
    "        prob = np.exp(-(y_soma-y_spec)**2/length_sigma**2/2)   # weight probability by a gaussian\n",
    "        prob = prob/sum(prob)   # normalize probability to sum to 1.    \n",
    "\n",
    "        node['node_type_id'] = np.random.choice(acceptable_models_df.index,p=prob)\n",
    "\n",
    "print 'done'\n",
    "print \"total number of models used:\", model_counter"
   ]
  },
  {
   "cell_type": "code",
   "execution_count": 6,
   "metadata": {
    "collapsed": false,
    "jupyter": {
     "outputs_hidden": false
    }
   },
   "outputs": [
    {
     "data": {
      "text/plain": [
       "138"
      ]
     },
     "execution_count": 6,
     "metadata": {},
     "output_type": "execute_result"
    }
   ],
   "source": [
    "#lif_models_df\n",
    "bio_models_query_df = pd.concat(df_list)\n",
    "len(bio_models_query_df.index)"
   ]
  },
  {
   "cell_type": "code",
   "execution_count": 8,
   "metadata": {
    "collapsed": true,
    "jupyter": {
     "outputs_hidden": true
    }
   },
   "outputs": [],
   "source": [
    "#bio_models_query_df"
   ]
  },
  {
   "cell_type": "code",
   "execution_count": 9,
   "metadata": {
    "collapsed": false,
    "jupyter": {
     "outputs_hidden": false
    }
   },
   "outputs": [
    {
     "name": "stdout",
     "output_type": "stream",
     "text": [
      "e5Rbp4 e23Cux2 i6Pvalb e4Scnn1a i23Pvalb i6Htr3a i23Htr3a e4Rorb i5Htr3a e4other i5Pvalb i4Pvalb i23Sst i4Htr3a i4Sst e4Nr5a1 i1Htr3a i5Sst e5noRbp4 i6Sst e6Ntsr1 done\n"
     ]
    }
   ],
   "source": [
    "# Assign intfire models cells:\n",
    "\n",
    "core_radius = 400 # convert cells beyond this radius to the IntFire cells:\n",
    "\n",
    "for pop_name,pop_prop in pops.items():\n",
    "    print pop_name,\n",
    "    nodes_pop = network.nodes(params={'type':pop_name}) # chose nodes from a particular population from biophysical cells\n",
    "    gids_pop = network.node_ids(params={'type':pop_name})\n",
    "\n",
    "    for node in nodes_pop:  # assign model_id to individual nodes based on the value of y_soma\n",
    "        y_soma = node['y_soma']\n",
    "        if node['x_soma']**2+node['z_soma']**2>core_radius**2:\n",
    "            node_type_id_bio = node['node_type_id']\n",
    "            node_type_id_intfire = lif_pop2node_type_id_df.loc[pop_name][\"node_type_id\"]\n",
    "            node['node_type_id'] = node_type_id_intfire\n",
    "            node['pop_name'] = 'LIF'+node[\"type\"]\n",
    "            node['level_of_detail'] = 'intfire'\n",
    "        else:\n",
    "            node['level_of_detail'] = 'biophysical'\n",
    "            node['pop_name'] = node[\"type\"]\n",
    "print 'done'"
   ]
  },
  {
   "cell_type": "code",
   "execution_count": 10,
   "metadata": {
    "collapsed": true,
    "jupyter": {
     "outputs_hidden": true
    }
   },
   "outputs": [],
   "source": [
    "nodes = list(network.nodes())\n",
    "nodes_df = pd.DataFrame(nodes); \n",
    "nodes_df.set_index('id',inplace=True)\n",
    "nodes_df.index.name=\"node_id\""
   ]
  },
  {
   "cell_type": "code",
   "execution_count": 11,
   "metadata": {
    "collapsed": true,
    "jupyter": {
     "outputs_hidden": true
    }
   },
   "outputs": [],
   "source": [
    "# save nodes to csv\n",
    "build_directory = \"build_model/V1\"\n",
    "\n",
    "cells_header = ['node_type_id','x_soma','y_soma','z_soma','rotation_angle_yaxis','pop_name','ei','location']\n",
    "nodes_df.to_csv(build_directory+'/v1_nodes100.csv',columns=cells_header,sep=' ')\n",
    "\n",
    "#bio_nodes_df.to_csv(output_dir+'/bio_nodes.csv',columns=cells_header,sep=' ')"
   ]
  },
  {
   "cell_type": "code",
   "execution_count": 24,
   "metadata": {
    "collapsed": true,
    "jupyter": {
     "outputs_hidden": true
    }
   },
   "outputs": [],
   "source": [
    "# save node types to csv:\n",
    "\n",
    "#models_df = pd.concat([bio_models_df, lif_models_df])\n",
    "\n",
    "#models_header = ['level_of_detail','morphology_file','parameters_file','rotation_angle_zaxis','set_params_function']\n",
    "#models_df.to_csv(build_directory+'/node_types.csv',columns=models_header,sep=' ',na_rep='NA')"
   ]
  },
  {
   "cell_type": "code",
   "execution_count": 12,
   "metadata": {
    "collapsed": true,
    "jupyter": {
     "outputs_hidden": true
    }
   },
   "outputs": [],
   "source": [
    "header = ['level_of_detail','morphology_file','parameters_file','rotation_angle_zaxis','pop_name','set_params_function']\n",
    "models_query_df = pd.concat([bio_models_query_df, lif_models_df])\n",
    "models_query_df.to_csv(build_directory+'/node_types_query100.csv',columns=header,sep=' ',na_rep='NA')"
   ]
  },
  {
   "cell_type": "code",
   "execution_count": 14,
   "metadata": {
    "collapsed": true,
    "jupyter": {
     "outputs_hidden": true
    }
   },
   "outputs": [],
   "source": [
    "nodes_df = pd.merge(left=bio_nodes_df,\n",
    "                    right=bio_models_df, # connection labels of all cells in the network, not just those on the rank\n",
    "                    how='left', \n",
    "                    left_on='model_id', \n",
    "                    right_index=True) # use 'model_id' key to merge"
   ]
  },
  {
   "cell_type": "code",
   "execution_count": null,
   "metadata": {
    "collapsed": true,
    "jupyter": {
     "outputs_hidden": true
    }
   },
   "outputs": [],
   "source": []
  }
 ],
 "metadata": {
  "kernelspec": {
   "display_name": "Python 3",
   "language": "python",
   "name": "python3"
  },
  "language_info": {
   "codemirror_mode": {
    "name": "ipython",
    "version": 3
   },
   "file_extension": ".py",
   "mimetype": "text/x-python",
   "name": "python",
   "nbconvert_exporter": "python",
   "pygments_lexer": "ipython3",
   "version": "3.7.6"
  }
 },
 "nbformat": 4,
 "nbformat_minor": 4
}
