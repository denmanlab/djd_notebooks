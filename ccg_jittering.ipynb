{
 "cells": [
  {
   "cell_type": "code",
   "execution_count": 32,
   "metadata": {},
   "outputs": [],
   "source": [
    "import dlab.generalephys as ephys\n",
    "import h5py\n",
    "import matplotlib.pyplot as plt\n",
    "import numpy as np\n",
    "import tqdm"
   ]
  },
  {
   "cell_type": "code",
   "execution_count": 120,
   "metadata": {},
   "outputs": [
    {
     "data": {
      "text/plain": [
       "41.68333333333334"
      ]
     },
     "execution_count": 120,
     "metadata": {},
     "output_type": "execute_result"
    }
   ],
   "source": [
    "61 * (41/60)"
   ]
  },
  {
   "cell_type": "code",
   "execution_count": null,
   "metadata": {},
   "outputs": [],
   "source": [
    "def ccg(train1,train2,binrange,binsize,correction=False):\n",
    "    diffs = []\n",
    "    count=0\n",
    "    if correction != False:\n",
    "        if correction == 'jitter':\n",
    "            train1 = jitter(train1,0.05)\n",
    "            train2 = jitter(train2,0.05)\n",
    "        else: \n",
    "            print('improper correction method specified')\n",
    "            return np.nan\n",
    "    if len(train1) > 1 and len(train2) > 1:\n",
    "        for spiketime_train1 in train1:\n",
    "            #for spiketime_train2 in train2:\n",
    "            if train2[-1] > spiketime_train1 + binrange[0]: # if there are any spikes from train2 after the start of the window \n",
    "                start = np.where(train2 > spiketime_train1 + binrange[0])[0][0]\n",
    "\n",
    "                if train2[-1] > spiketime_train1 + binrange[1]:#set the end of train2 to only relevant window around this spike\n",
    "                    end = np.where(train2 > spiketime_train1 + binrange[1])[0][0]\n",
    "                else:\n",
    "                    end = len(train2)\n",
    "\n",
    "                for spiketime_train2 in train2[start:end]:\n",
    "                    diffs.extend([float(spiketime_train1) - float(spiketime_train2)])\n",
    "                    count+=1\n",
    "        diffs = np.array(diffs)*-1\n",
    "        hist,edges = np.histogram(diffs,bins=int((binrange[1]-binrange[0])/binsize),range=binrange)\n",
    "        return (hist / float(len(train1)))*100,edges\n",
    "        #return (hist / float(len(train1)*len(train2) / 2.)  ,edges)\n",
    "        #return ((hist / (len(train1) * len(train2)) / 2.)*100 * binsize,edges)\n",
    "    else:\n",
    "        print('input spiketrains not long enough: 1:'+str(len(train1))+' 2:'+str(len(train2)))\n",
    "        return [0],[0,0]"
   ]
  },
  {
   "cell_type": "code",
   "execution_count": 3,
   "metadata": {},
   "outputs": [],
   "source": [
    "nwbdata = h5py.File('/Users/danieljdenman/Desktop/M319891_dual_31082017_withEyetracking.nwb')"
   ]
  },
  {
   "cell_type": "code",
   "execution_count": 4,
   "metadata": {},
   "outputs": [
    {
     "name": "stderr",
     "output_type": "stream",
     "text": [
      "/Users/danieljdenman/opt/anaconda3/lib/python3.7/site-packages/h5py/_hl/dataset.py:313: H5pyDeprecationWarning: dataset.value has been deprecated. Use dataset[()] instead.\n",
      "  \"Use dataset[()] instead.\", H5pyDeprecationWarning)\n"
     ]
    }
   ],
   "source": [
    "#chosen at random\n",
    "train1 = nwbdata['processing']['A']['UnitTimes']['545']['times'].value\n",
    "train2 = nwbdata['processing']['A']['UnitTimes']['63']['times'].value"
   ]
  },
  {
   "cell_type": "code",
   "execution_count": 5,
   "metadata": {},
   "outputs": [],
   "source": [
    "hist,edges = ephys.ccg(train1,train2,(-.5,.5),0.01)"
   ]
  },
  {
   "cell_type": "code",
   "execution_count": 13,
   "metadata": {},
   "outputs": [
    {
     "data": {
      "text/plain": [
       "[<matplotlib.lines.Line2D at 0x7facc8fabed0>]"
      ]
     },
     "execution_count": 13,
     "metadata": {},
     "output_type": "execute_result"
    },
    {
     "data": {
      "image/png": "[encoded data removed]",
      "text/plain": [
       "<Figure size 432x288 with 1 Axes>"
      ]
     },
     "metadata": {
      "needs_background": "light"
     },
     "output_type": "display_data"
    }
   ],
   "source": [
    "plt.plot(edges[1:],hist)"
   ]
  },
  {
   "cell_type": "code",
   "execution_count": 108,
   "metadata": {},
   "outputs": [],
   "source": [
    "def jitter(train,binsize):\n",
    "    start = np.min(train) - (binsize/2.)\n",
    "    end = np.max(train) + binsize\n",
    "    bin_left_edges = np.arange(start,end,binsize)\n",
    "    to = [train1[np.where((train1 < bin_left_edges[i+1]) & (train1 > bin_left_edges[i]))[0]] - bin_left_edges[i]  for i in tqdm.tqdm(range(len(bin_left_edges)-1))]\n",
    "    all_to = np.concatenate(to).ravel()\n",
    "    jittered = []\n",
    "    spike_indices = np.arange(all_to.shape[0]).tolist()\n",
    "    np.random.shuffle(spike_indices)\n",
    "    for i,bin_ in tqdm.tqdm(enumerate(to)):\n",
    "        spikes = []\n",
    "        for spike in bin_:\n",
    "            spikes.extend([all_to[spike_indices.pop(0)]])\n",
    "        jittered.append(np.array(spikes) + bin_left_edges[i])\n",
    "    jittered = np.concatenate(jittered).ravel()\n",
    "    return jittered"
   ]
  },
  {
   "cell_type": "code",
   "execution_count": 109,
   "metadata": {},
   "outputs": [
    {
     "name": "stderr",
     "output_type": "stream",
     "text": [
      "100%|██████████| 107086/107086 [00:06<00:00, 17600.81it/s]\n",
      "107086it [00:00, 135553.79it/s]\n",
      "100%|██████████| 107270/107270 [00:05<00:00, 19403.38it/s]\n",
      "107270it [00:00, 110212.33it/s]\n"
     ]
    }
   ],
   "source": [
    "jtrain1 = jitter(train1,0.05)\n",
    "jtrain2 = jitter(train2,0.05)"
   ]
  },
  {
   "cell_type": "code",
   "execution_count": 110,
   "metadata": {},
   "outputs": [
    {
     "data": {
      "text/plain": [
       "array([   7.84097903,    9.22229305,   11.21729012, ..., 5361.94671884,\n",
       "       5361.94185499, 5362.04437501])"
      ]
     },
     "execution_count": 110,
     "metadata": {},
     "output_type": "execute_result"
    }
   ],
   "source": [
    "jtrain2"
   ]
  },
  {
   "cell_type": "code",
   "execution_count": 111,
   "metadata": {},
   "outputs": [
    {
     "name": "stderr",
     "output_type": "stream",
     "text": [
      "100%|██████████| 107086/107086 [00:05<00:00, 18718.31it/s]\n",
      "107086it [00:01, 78254.69it/s]\n",
      "100%|██████████| 107270/107270 [00:05<00:00, 18539.70it/s]\n",
      "107270it [00:01, 59275.70it/s]\n"
     ]
    }
   ],
   "source": [
    "hist_jit,edges = ephys.ccg(jitter(train1,0.05),jitter(train2,0.05),(-.5,.5),0.01)"
   ]
  },
  {
   "cell_type": "code",
   "execution_count": 119,
   "metadata": {},
   "outputs": [
    {
     "data": {
      "text/plain": [
       "<matplotlib.lines.Line2D at 0x7face8cd1e50>"
      ]
     },
     "execution_count": 119,
     "metadata": {},
     "output_type": "execute_result"
    },
    {
     "data": {
      "image/png": "[encoded data removed]",
      "text/plain": [
       "<Figure size 432x288 with 1 Axes>"
      ]
     },
     "metadata": {
      "needs_background": "light"
     },
     "output_type": "display_data"
    }
   ],
   "source": [
    "plt.plot(edges[1:],hist)\n",
    "plt.plot(edges[1:],hist_jit)\n",
    "plt.gca().axvline(0.05,c='r',ls='--')\n",
    "plt.gca().axvline(-0.05,c='r',ls='--')"
   ]
  },
  {
   "cell_type": "code",
   "execution_count": null,
   "metadata": {},
   "outputs": [],
   "source": []
  }
 ],
 "metadata": {
  "kernelspec": {
   "display_name": "Python 3",
   "language": "python",
   "name": "python3"
  },
  "language_info": {
   "codemirror_mode": {
    "name": "ipython",
    "version": 3
   },
   "file_extension": ".py",
   "mimetype": "text/x-python",
   "name": "python",
   "nbconvert_exporter": "python",
   "pygments_lexer": "ipython3",
   "version": "3.7.4"
  }
 },
 "nbformat": 4,
 "nbformat_minor": 4
}
