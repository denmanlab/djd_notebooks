{
 "cells": [
  {
   "cell_type": "code",
   "execution_count": 32,
   "metadata": {
    "collapsed": false,
    "jupyter": {
     "outputs_hidden": false
    }
   },
   "outputs": [
    {
     "name": "stdout",
     "output_type": "stream",
     "text": [
      "The autoreload extension is already loaded. To reload it, use:\n",
      "  %reload_ext autoreload\n"
     ]
    }
   ],
   "source": [
    "import djd.generalephys as ephys\n",
    "import numpy as np\n",
    "import os,sys,glob,copy,csv\n",
    "import matplotlib.pyplot as plt\n",
    "import cPickle as pkl\n",
    "\n",
    "%matplotlib inline\n",
    "%load_ext autoreload\n",
    "%autoreload 2\n"
   ]
  },
  {
   "cell_type": "code",
   "execution_count": 31,
   "metadata": {
    "collapsed": false,
    "jupyter": {
     "outputs_hidden": false
    }
   },
   "outputs": [],
   "source": [
    "lfp_path = '/Volumes/DATA2/temporal/M260866/260686_2016-08-22_10-41-42_in2_flashes/experiment1_100-1_0.dat'\n",
    "rawdata = np.memmap(lfp_path, dtype=np.int16, mode='r',order='C')\n",
    "channels = np.linspace(0,383,384).astype(int)\n",
    "site_positions = ephys.option234_positions[channels]\n",
    "lfpdata = np.reshape(rawdata,(384,-1),order='F')  * 0.195\n",
    "sample_rate = 2500.\n",
    "print 'recording is '+str(lfpdata.shape[1]/sample_rate)+' seconds'"
   ]
  },
  {
   "cell_type": "code",
   "execution_count": 24,
   "metadata": {
    "collapsed": false,
    "jupyter": {
     "outputs_hidden": false
    }
   },
   "outputs": [
    {
     "name": "stdout",
     "output_type": "stream",
     "text": [
      "loading events...\n"
     ]
    }
   ],
   "source": [
    "events = ephys.oe.loadEvents(os.path.join(os.path.dirname(lfp_path),'experiment1_all_channels_0.events'))\n",
    "recording_start_time = int(open(os.path.join(os.path.dirname(lfp_path),'experiment1_messages_0.events'),'r').readlines()[0].split(' ')[0])/30000. \n",
    "flash_times = np.array(events['timestamps'][6:]/30000. - recording_start_time)[::2]"
   ]
  },
  {
   "cell_type": "code",
   "execution_count": null,
   "metadata": {
    "collapsed": true,
    "jupyter": {
     "outputs_hidden": true
    }
   },
   "outputs": [],
   "source": [
    "#some other flash data paths:\n",
    "lfp_path = '/Volumes/Public/Dan/ephys/M230381/227381_2016-08-10_10-46-36_in2_to1.3mm_flashes/experiment1_100-1_0.dat'\n",
    "lfp_path = '/Volumes/Public/Dan/ephys/M260865/260685_2016-08-17_10-33-34_in2_flashes'\n",
    "lfp_path = '/Volumes/Public/Dan/ephys/M260865/260685_2016-08-17_07-47-08_in1_flashes/experiment1_100-1_0.dat'\n",
    "lfp_path = '/Volumes/Public/Dan/ephys/M260866/260686_2016-08-22_07-58-03_in1_flash/experiment1_100-1_0.dat'\n",
    "lfp_path = '/Volumes/Public/Dan/ephys/M260866/260686_2016-08-22_10-41-42_in2_flashes/experiment1_100-1_0.dat'"
   ]
  }
 ],
 "metadata": {
  "kernelspec": {
   "display_name": "Python 3",
   "language": "python",
   "name": "python3"
  },
  "language_info": {
   "codemirror_mode": {
    "name": "ipython",
    "version": 3
   },
   "file_extension": ".py",
   "mimetype": "text/x-python",
   "name": "python",
   "nbconvert_exporter": "python",
   "pygments_lexer": "ipython3",
   "version": "3.8.10"
  }
 },
 "nbformat": 4,
 "nbformat_minor": 4
}
