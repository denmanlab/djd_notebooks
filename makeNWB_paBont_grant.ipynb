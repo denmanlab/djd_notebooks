{
 "cells": [
  {
   "cell_type": "code",
   "execution_count": 1,
   "id": "e2f3973d-812e-4ba3-b834-7562bb262c53",
   "metadata": {},
   "outputs": [],
   "source": [
    "import numpy as np\n",
    "import pandas as pd\n",
    "import matplotlib.pyplot as plt\n",
    "import seaborn as sns\n",
    "import h5py\n",
    "import os,sys,glob, json\n",
    "import _pickle as pkl\n",
    "import dlab\n",
    "from tqdm.notebook import tqdm\n",
    "%matplotlib inline\n",
    "%load_ext autoreload\n",
    "%autoreload 2\n",
    "plt.style.use('dark_background')\n"
   ]
  },
  {
   "cell_type": "code",
   "execution_count": 2,
   "id": "21dac9c3-860d-4e34-8a03-2dba015a58f5",
   "metadata": {},
   "outputs": [],
   "source": [
    "import matplotlib \n",
    "matplotlib.rcParams.update({'figure.max_open_warning': 0})"
   ]
  },
  {
   "cell_type": "code",
   "execution_count": 3,
   "id": "5aa242e0-fe1e-4edd-81b5-3e1980db28b8",
   "metadata": {},
   "outputs": [],
   "source": [
    "recording_folder = '/Volumes/DATA7/grant/rotation/2023-09-29_16-07-39_PaBont2'\n",
    "# recording_folder = '/Volumes/s2/Grant/rotation/2023-09-29_16-07-39_PaBont2'\n",
    "\n",
    "experimenter = 'grh'\n",
    "experiment_description= 'Denman Lab, University of Colorado Anschutz. Test of PaBoNT axon silencing of V1 axons'\n",
    "\n",
    "# #spikeglx\n",
    "# probes = [os.path.basename(f) for f in np.sort(glob.glob(recording_folder+'/*-AP*'))]\n",
    "\n",
    "probeids = ['A','B','C'] \n",
    "probedepths = [1050,1050,3450] "
   ]
  },
  {
   "cell_type": "code",
   "execution_count": 4,
   "id": "4d2e2549",
   "metadata": {},
   "outputs": [],
   "source": [
    "stim_path = '/Volumes/DATA7/grant/rotation/2023-09-29_16-07-39_PaBont2/stim'\n",
    "gratings_pkl = pkl.load(open(glob.glob(stim_path+'/*gratings_o*')[0],'rb'))\n",
    "gratings_pkl_o = pkl.load(open(glob.glob(stim_path+'/*gratings_o*')[1],'rb'))\n",
    "\n",
    "scene_pkl = pkl.load(open(glob.glob(stim_path+'/*scene_f*')[0],'rb'))\n",
    "scene_pkl_o = pkl.load(open(glob.glob(stim_path+'/*scene_f*')[1],'rb'))\n",
    "\n",
    "image_start_frame = [int(start_frame) for start_frame,end_frame in scene_pkl['bgsweepframes']]\n",
    "image_start_frame_o = [int(start_frame) for start_frame,end_frame in scene_pkl_o['bgsweepframes']]\n",
    "image_order = scene_pkl['bgsweeporder']\n",
    "image_order_o = scene_pkl_o['bgsweeporder']"
   ]
  },
  {
   "cell_type": "code",
   "execution_count": 5,
   "id": "15b37e24-14b9-4907-9c1e-e4afe4d62a56",
   "metadata": {},
   "outputs": [],
   "source": [
    "from open_ephys.analysis import Session\n",
    "\n",
    "directory = recording_folder # for example\n",
    "\n",
    "session = Session(recording_folder)"
   ]
  },
  {
   "cell_type": "code",
   "execution_count": 6,
   "id": "26b63fe5-1ef8-40ed-90fe-d54da4c470f8",
   "metadata": {},
   "outputs": [],
   "source": [
    "events_df = pd.DataFrame(session.recordnodes[0].recordings[0].events)#"
   ]
  },
  {
   "cell_type": "code",
   "execution_count": 7,
   "id": "fe65359e",
   "metadata": {},
   "outputs": [
    {
     "data": {
      "text/html": [
       "<div>\n",
       "<style scoped>\n",
       "    .dataframe tbody tr th:only-of-type {\n",
       "        vertical-align: middle;\n",
       "    }\n",
       "\n",
       "    .dataframe tbody tr th {\n",
       "        vertical-align: top;\n",
       "    }\n",
       "\n",
       "    .dataframe thead th {\n",
       "        text-align: right;\n",
       "    }\n",
       "</style>\n",
       "<table border=\"1\" class=\"dataframe\">\n",
       "  <thead>\n",
       "    <tr style=\"text-align: right;\">\n",
       "      <th></th>\n",
       "      <th>line</th>\n",
       "      <th>sample_number</th>\n",
       "      <th>timestamp</th>\n",
       "      <th>processor_id</th>\n",
       "      <th>stream_index</th>\n",
       "      <th>stream_name</th>\n",
       "      <th>state</th>\n",
       "    </tr>\n",
       "  </thead>\n",
       "  <tbody>\n",
       "    <tr>\n",
       "      <th>0</th>\n",
       "      <td>1</td>\n",
       "      <td>101492653</td>\n",
       "      <td>3386.402741</td>\n",
       "      <td>106</td>\n",
       "      <td>4</td>\n",
       "      <td>ProbeC-AP</td>\n",
       "      <td>0</td>\n",
       "    </tr>\n",
       "    <tr>\n",
       "      <th>1</th>\n",
       "      <td>1</td>\n",
       "      <td>8457752</td>\n",
       "      <td>3386.402776</td>\n",
       "      <td>106</td>\n",
       "      <td>3</td>\n",
       "      <td>ProbeB-LFP</td>\n",
       "      <td>0</td>\n",
       "    </tr>\n",
       "    <tr>\n",
       "      <th>2</th>\n",
       "      <td>1</td>\n",
       "      <td>101493035</td>\n",
       "      <td>3386.402875</td>\n",
       "      <td>106</td>\n",
       "      <td>2</td>\n",
       "      <td>ProbeB-AP</td>\n",
       "      <td>0</td>\n",
       "    </tr>\n",
       "    <tr>\n",
       "      <th>3</th>\n",
       "      <td>1</td>\n",
       "      <td>101492903</td>\n",
       "      <td>3386.402884</td>\n",
       "      <td>106</td>\n",
       "      <td>0</td>\n",
       "      <td>ProbeA-AP</td>\n",
       "      <td>0</td>\n",
       "    </tr>\n",
       "    <tr>\n",
       "      <th>4</th>\n",
       "      <td>8</td>\n",
       "      <td>101599890</td>\n",
       "      <td>3386.402900</td>\n",
       "      <td>107</td>\n",
       "      <td>6</td>\n",
       "      <td>PXI-6133</td>\n",
       "      <td>0</td>\n",
       "    </tr>\n",
       "    <tr>\n",
       "      <th>...</th>\n",
       "      <td>...</td>\n",
       "      <td>...</td>\n",
       "      <td>...</td>\n",
       "      <td>...</td>\n",
       "      <td>...</td>\n",
       "      <td>...</td>\n",
       "      <td>...</td>\n",
       "    </tr>\n",
       "    <tr>\n",
       "      <th>836186</th>\n",
       "      <td>1</td>\n",
       "      <td>25407903</td>\n",
       "      <td>10173.222491</td>\n",
       "      <td>106</td>\n",
       "      <td>3</td>\n",
       "      <td>ProbeB-LFP</td>\n",
       "      <td>0</td>\n",
       "    </tr>\n",
       "    <tr>\n",
       "      <th>836187</th>\n",
       "      <td>1</td>\n",
       "      <td>25407869</td>\n",
       "      <td>10173.222800</td>\n",
       "      <td>106</td>\n",
       "      <td>1</td>\n",
       "      <td>ProbeA-LFP</td>\n",
       "      <td>0</td>\n",
       "    </tr>\n",
       "    <tr>\n",
       "      <th>836188</th>\n",
       "      <td>1</td>\n",
       "      <td>304894840</td>\n",
       "      <td>10173.223351</td>\n",
       "      <td>106</td>\n",
       "      <td>2</td>\n",
       "      <td>ProbeB-AP</td>\n",
       "      <td>0</td>\n",
       "    </tr>\n",
       "    <tr>\n",
       "      <th>836189</th>\n",
       "      <td>1</td>\n",
       "      <td>304893672</td>\n",
       "      <td>10173.223528</td>\n",
       "      <td>106</td>\n",
       "      <td>4</td>\n",
       "      <td>ProbeC-AP</td>\n",
       "      <td>0</td>\n",
       "    </tr>\n",
       "    <tr>\n",
       "      <th>836190</th>\n",
       "      <td>1</td>\n",
       "      <td>304894430</td>\n",
       "      <td>10173.223593</td>\n",
       "      <td>106</td>\n",
       "      <td>0</td>\n",
       "      <td>ProbeA-AP</td>\n",
       "      <td>0</td>\n",
       "    </tr>\n",
       "  </tbody>\n",
       "</table>\n",
       "<p>836191 rows × 7 columns</p>\n",
       "</div>"
      ],
      "text/plain": [
       "        line  sample_number     timestamp  processor_id  stream_index  \\\n",
       "0          1      101492653   3386.402741           106             4   \n",
       "1          1        8457752   3386.402776           106             3   \n",
       "2          1      101493035   3386.402875           106             2   \n",
       "3          1      101492903   3386.402884           106             0   \n",
       "4          8      101599890   3386.402900           107             6   \n",
       "...      ...            ...           ...           ...           ...   \n",
       "836186     1       25407903  10173.222491           106             3   \n",
       "836187     1       25407869  10173.222800           106             1   \n",
       "836188     1      304894840  10173.223351           106             2   \n",
       "836189     1      304893672  10173.223528           106             4   \n",
       "836190     1      304894430  10173.223593           106             0   \n",
       "\n",
       "       stream_name  state  \n",
       "0        ProbeC-AP      0  \n",
       "1       ProbeB-LFP      0  \n",
       "2        ProbeB-AP      0  \n",
       "3        ProbeA-AP      0  \n",
       "4         PXI-6133      0  \n",
       "...            ...    ...  \n",
       "836186  ProbeB-LFP      0  \n",
       "836187  ProbeA-LFP      0  \n",
       "836188   ProbeB-AP      0  \n",
       "836189   ProbeC-AP      0  \n",
       "836190   ProbeA-AP      0  \n",
       "\n",
       "[836191 rows x 7 columns]"
      ]
     },
     "execution_count": 7,
     "metadata": {},
     "output_type": "execute_result"
    }
   ],
   "source": [
    "session.recordnodes[0].recordings[0].events"
   ]
  },
  {
   "cell_type": "code",
   "execution_count": 8,
   "id": "18e12e66-672d-411c-b1fc-cf26c9b9657a",
   "metadata": {},
   "outputs": [],
   "source": [
    "ni_df = events_df[events_df.stream_name == 'PXI-6133' ]"
   ]
  },
  {
   "cell_type": "code",
   "execution_count": 9,
   "id": "9c367371-a43c-4204-b8ef-09d01423c0b2",
   "metadata": {},
   "outputs": [
    {
     "data": {
      "text/html": [
       "<div>\n",
       "<style scoped>\n",
       "    .dataframe tbody tr th:only-of-type {\n",
       "        vertical-align: middle;\n",
       "    }\n",
       "\n",
       "    .dataframe tbody tr th {\n",
       "        vertical-align: top;\n",
       "    }\n",
       "\n",
       "    .dataframe thead th {\n",
       "        text-align: right;\n",
       "    }\n",
       "</style>\n",
       "<table border=\"1\" class=\"dataframe\">\n",
       "  <thead>\n",
       "    <tr style=\"text-align: right;\">\n",
       "      <th></th>\n",
       "      <th>line</th>\n",
       "      <th>sample_number</th>\n",
       "      <th>timestamp</th>\n",
       "      <th>processor_id</th>\n",
       "      <th>stream_index</th>\n",
       "      <th>stream_name</th>\n",
       "      <th>state</th>\n",
       "    </tr>\n",
       "  </thead>\n",
       "  <tbody>\n",
       "    <tr>\n",
       "      <th>4</th>\n",
       "      <td>8</td>\n",
       "      <td>101599890</td>\n",
       "      <td>3386.402900</td>\n",
       "      <td>107</td>\n",
       "      <td>6</td>\n",
       "      <td>PXI-6133</td>\n",
       "      <td>0</td>\n",
       "    </tr>\n",
       "    <tr>\n",
       "      <th>11</th>\n",
       "      <td>8</td>\n",
       "      <td>101614905</td>\n",
       "      <td>3386.903400</td>\n",
       "      <td>107</td>\n",
       "      <td>6</td>\n",
       "      <td>PXI-6133</td>\n",
       "      <td>1</td>\n",
       "    </tr>\n",
       "    <tr>\n",
       "      <th>15</th>\n",
       "      <td>8</td>\n",
       "      <td>101629920</td>\n",
       "      <td>3387.403900</td>\n",
       "      <td>107</td>\n",
       "      <td>6</td>\n",
       "      <td>PXI-6133</td>\n",
       "      <td>0</td>\n",
       "    </tr>\n",
       "    <tr>\n",
       "      <th>21</th>\n",
       "      <td>8</td>\n",
       "      <td>101644935</td>\n",
       "      <td>3387.904400</td>\n",
       "      <td>107</td>\n",
       "      <td>6</td>\n",
       "      <td>PXI-6133</td>\n",
       "      <td>1</td>\n",
       "    </tr>\n",
       "    <tr>\n",
       "      <th>28</th>\n",
       "      <td>8</td>\n",
       "      <td>101659950</td>\n",
       "      <td>3388.404900</td>\n",
       "      <td>107</td>\n",
       "      <td>6</td>\n",
       "      <td>PXI-6133</td>\n",
       "      <td>0</td>\n",
       "    </tr>\n",
       "    <tr>\n",
       "      <th>...</th>\n",
       "      <td>...</td>\n",
       "      <td>...</td>\n",
       "      <td>...</td>\n",
       "      <td>...</td>\n",
       "      <td>...</td>\n",
       "      <td>...</td>\n",
       "      <td>...</td>\n",
       "    </tr>\n",
       "    <tr>\n",
       "      <th>835904</th>\n",
       "      <td>5</td>\n",
       "      <td>304513227</td>\n",
       "      <td>10150.181461</td>\n",
       "      <td>107</td>\n",
       "      <td>6</td>\n",
       "      <td>PXI-6133</td>\n",
       "      <td>0</td>\n",
       "    </tr>\n",
       "    <tr>\n",
       "      <th>835917</th>\n",
       "      <td>5</td>\n",
       "      <td>304543254</td>\n",
       "      <td>10151.182361</td>\n",
       "      <td>107</td>\n",
       "      <td>6</td>\n",
       "      <td>PXI-6133</td>\n",
       "      <td>1</td>\n",
       "    </tr>\n",
       "    <tr>\n",
       "      <th>835930</th>\n",
       "      <td>5</td>\n",
       "      <td>304573724</td>\n",
       "      <td>10152.198028</td>\n",
       "      <td>107</td>\n",
       "      <td>6</td>\n",
       "      <td>PXI-6133</td>\n",
       "      <td>0</td>\n",
       "    </tr>\n",
       "    <tr>\n",
       "      <th>835947</th>\n",
       "      <td>5</td>\n",
       "      <td>304603885</td>\n",
       "      <td>10153.203394</td>\n",
       "      <td>107</td>\n",
       "      <td>6</td>\n",
       "      <td>PXI-6133</td>\n",
       "      <td>1</td>\n",
       "    </tr>\n",
       "    <tr>\n",
       "      <th>835959</th>\n",
       "      <td>5</td>\n",
       "      <td>304633911</td>\n",
       "      <td>10154.204261</td>\n",
       "      <td>107</td>\n",
       "      <td>6</td>\n",
       "      <td>PXI-6133</td>\n",
       "      <td>0</td>\n",
       "    </tr>\n",
       "  </tbody>\n",
       "</table>\n",
       "<p>754825 rows × 7 columns</p>\n",
       "</div>"
      ],
      "text/plain": [
       "        line  sample_number     timestamp  processor_id  stream_index  \\\n",
       "4          8      101599890   3386.402900           107             6   \n",
       "11         8      101614905   3386.903400           107             6   \n",
       "15         8      101629920   3387.403900           107             6   \n",
       "21         8      101644935   3387.904400           107             6   \n",
       "28         8      101659950   3388.404900           107             6   \n",
       "...      ...            ...           ...           ...           ...   \n",
       "835904     5      304513227  10150.181461           107             6   \n",
       "835917     5      304543254  10151.182361           107             6   \n",
       "835930     5      304573724  10152.198028           107             6   \n",
       "835947     5      304603885  10153.203394           107             6   \n",
       "835959     5      304633911  10154.204261           107             6   \n",
       "\n",
       "       stream_name  state  \n",
       "4         PXI-6133      0  \n",
       "11        PXI-6133      1  \n",
       "15        PXI-6133      0  \n",
       "21        PXI-6133      1  \n",
       "28        PXI-6133      0  \n",
       "...            ...    ...  \n",
       "835904    PXI-6133      0  \n",
       "835917    PXI-6133      1  \n",
       "835930    PXI-6133      0  \n",
       "835947    PXI-6133      1  \n",
       "835959    PXI-6133      0  \n",
       "\n",
       "[754825 rows x 7 columns]"
      ]
     },
     "execution_count": 9,
     "metadata": {},
     "output_type": "execute_result"
    }
   ],
   "source": [
    "ni_df"
   ]
  },
  {
   "cell_type": "code",
   "execution_count": 10,
   "id": "710af6c9-a3c6-4ed2-8880-b7d43d662925",
   "metadata": {},
   "outputs": [],
   "source": [
    "ni_ts = {}\n",
    "df_up = ni_df[ni_df.state==1]\n",
    "for ch in ni_df.line.unique():\n",
    "    ni_ts[ch] = df_up[df_up.line == ch].timestamp"
   ]
  },
  {
   "cell_type": "code",
   "execution_count": 11,
   "id": "31e213fc-15ff-4c33-b114-23236b9eb07f",
   "metadata": {},
   "outputs": [
    {
     "data": {
      "text/plain": [
       "<matplotlib.legend.Legend at 0x7fc160d7b250>"
      ]
     },
     "execution_count": 11,
     "metadata": {},
     "output_type": "execute_result"
    },
    {
     "data": {
      "image/png": "[encoded data removed]",
      "text/plain": [
       "<Figure size 432x288 with 1 Axes>"
      ]
     },
     "metadata": {},
     "output_type": "display_data"
    }
   ],
   "source": [
    "for ch in ([2,3,4,5,8]):\n",
    "    plt.plot(np.array(ni_ts[ch]),\n",
    "             np.ones(len(ni_ts[ch]))*ch,\n",
    "             '|',label=ch)\n",
    "plt.legend()\n",
    "# plt.xlim(gratings_times.values[-1] -1, gratings_times.values[-1]+60)"
   ]
  },
  {
   "cell_type": "code",
   "execution_count": 12,
   "id": "d10386f8-4056-445e-8ef7-4db136cc277d",
   "metadata": {
    "tags": []
   },
   "outputs": [],
   "source": [
    "# eye_camera_frame_times = ni_ts[7]\n",
    "opto_df = ni_df[ni_df.line==5]\n",
    "opto_off_times = opto_df[opto_df.state==0].timestamp\n",
    "opto_on_times = opto_df[opto_df.state==1].timestamp\n",
    "\n",
    "df_flash = ni_df[ni_df.line==3]\n",
    "flash_times = df_flash[df_flash.state==1].timestamp[1:101]#first 100 are flash onset\n",
    "\n",
    "arbMatrix_start_time = flash_times.values[-1]\n",
    "df_strf = ni_df[ni_df.line==2]\n",
    "arbMatrix_times = df_strf[df_strf.state==1].timestamp[df_strf[df_strf.state==1].timestamp > arbMatrix_start_time][:12000]\n",
    "\n",
    "gratings_start_time = arbMatrix_times.values[-1]\n",
    "df_gratings = ni_df[ni_df.line==2]\n",
    "gratings_times = df_gratings[df_gratings.state==1].timestamp[df_gratings[df_gratings.state==1].timestamp > gratings_start_time][:640]\n",
    "\n",
    "images_start_time = gratings_times.values[-1]\n",
    "df_images = ni_df[ni_df.line==2]\n",
    "images_times = df_images[df_images.state==1].timestamp[df_images[df_images.state==1].timestamp > images_start_time][:int(image_start_frame[-1])+1].values[image_start_frame]\n",
    "\n",
    "df_flash_o = ni_df[ni_df.line==3]\n",
    "flash_times_o = df_flash_o[df_flash_o.state==1].timestamp[df_flash_o[df_flash_o.state==1].timestamp > images_times[-1]][1:101]#first 100 are flash onset\n",
    "\n",
    "arbMatrix_start_time_o = flash_times_o.values[-1]\n",
    "df_strf_o = ni_df[ni_df.line==2]\n",
    "arbMatrix_times_o = df_strf_o[df_strf_o.state==1].timestamp[df_strf_o[df_strf_o.state==1].timestamp > arbMatrix_start_time_o][:12000]\n",
    "\n",
    "gratings_start_time_o = arbMatrix_times_o.values[-1]\n",
    "df_gratings_o = ni_df[ni_df.line==2]\n",
    "gratings_times_o = df_gratings_o[df_gratings_o.state==1].timestamp[df_gratings_o[df_gratings_o.state==1].timestamp > gratings_start_time_o][2:642]\n",
    "\n",
    "images_start_time_o = gratings_times_o.values[-1]\n",
    "df_images_o = ni_df[ni_df.line==2]\n",
    "images_times_o = df_images_o[df_images_o.state==1].timestamp[df_images_o[df_images_o.state==1].timestamp > images_start_time_o][:int(image_start_frame_o[-1])+1].values[image_start_frame_o]\n",
    "\n",
    "\n"
   ]
  },
  {
   "cell_type": "code",
   "execution_count": 13,
   "id": "450357c5-77a7-41fa-9e7c-61bf34c52402",
   "metadata": {},
   "outputs": [
    {
     "data": {
      "text/plain": [
       "[<matplotlib.lines.Line2D at 0x7fc150a1b390>]"
      ]
     },
     "execution_count": 13,
     "metadata": {},
     "output_type": "execute_result"
    },
    {
     "data": {
      "image/png": "[encoded data removed]",
      "text/plain": [
       "<Figure size 432x288 with 1 Axes>"
      ]
     },
     "metadata": {},
     "output_type": "display_data"
    }
   ],
   "source": [
    "plt.plot(np.diff(flash_times))\n",
    "plt.plot(np.diff(flash_times_o))"
   ]
  },
  {
   "cell_type": "code",
   "execution_count": 14,
   "id": "3cbcca90",
   "metadata": {},
   "outputs": [
    {
     "data": {
      "text/plain": [
       "(0.0, 0.1)"
      ]
     },
     "execution_count": 14,
     "metadata": {},
     "output_type": "execute_result"
    },
    {
     "data": {
      "image/png": "[encoded data removed]",
      "text/plain": [
       "<Figure size 432x288 with 1 Axes>"
      ]
     },
     "metadata": {},
     "output_type": "display_data"
    }
   ],
   "source": [
    "plt.plot(np.diff(arbMatrix_times))\n",
    "plt.plot(np.diff(arbMatrix_times_o)+0.02)\n",
    "plt.ylim(0,0.1)"
   ]
  },
  {
   "cell_type": "code",
   "execution_count": 15,
   "id": "90c5d7f9-2397-4b4e-a83b-9803e6ba05aa",
   "metadata": {},
   "outputs": [
    {
     "data": {
      "text/plain": [
       "[<matplotlib.lines.Line2D at 0x7fc191b88290>]"
      ]
     },
     "execution_count": 15,
     "metadata": {},
     "output_type": "execute_result"
    },
    {
     "data": {
      "image/png": "[encoded data removed]",
      "text/plain": [
       "<Figure size 432x288 with 1 Axes>"
      ]
     },
     "metadata": {},
     "output_type": "display_data"
    }
   ],
   "source": [
    "plt.plot(np.diff(gratings_times))\n",
    "plt.plot(np.diff(gratings_times_o))\n",
    "# plt.xlim(0,10)"
   ]
  },
  {
   "cell_type": "code",
   "execution_count": 16,
   "id": "4708c7fc",
   "metadata": {},
   "outputs": [
    {
     "data": {
      "text/plain": [
       "[<matplotlib.lines.Line2D at 0x7fc1517d0190>]"
      ]
     },
     "execution_count": 16,
     "metadata": {},
     "output_type": "execute_result"
    },
    {
     "data": {
      "image/png": "[encoded data removed]",
      "text/plain": [
       "<Figure size 432x288 with 1 Axes>"
      ]
     },
     "metadata": {},
     "output_type": "display_data"
    }
   ],
   "source": [
    "plt.plot(np.diff(images_times))\n",
    "plt.plot(np.diff(images_times_o))\n",
    "# plt.xlim(0,10)"
   ]
  },
  {
   "cell_type": "code",
   "execution_count": 17,
   "id": "4ee3bbd7-59ec-4708-8ab1-6cd080b7123f",
   "metadata": {},
   "outputs": [],
   "source": [
    "stimuli_times = {'luminance_flash':flash_times,\n",
    "                'spatioluminance_noise':arbMatrix_times,\n",
    "                'gratings':gratings_times,\n",
    "                'scenes':images_times,\n",
    "                'luminance_flash_opto':flash_times_o,\n",
    "                'spatioluminance_noise_opto':arbMatrix_times_o,\n",
    "                'gratings_opto':gratings_times_o,\n",
    "                'scenes_opto':images_times_o,\n",
    "                  }"
   ]
  },
  {
   "cell_type": "code",
   "execution_count": 18,
   "id": "09ed8c33-d15d-4c69-a5a7-76839bbb59ba",
   "metadata": {},
   "outputs": [],
   "source": [
    "#finish loading the stimuli\n",
    "arbMatrix_matrix = pkl.load(open(np.sort(glob.glob(stim_path+'/*'))[0],'rb'))\n",
    "arbMatrix_matrix_o = pkl.load(open(np.sort(glob.glob(stim_path+'/*'))[1],'rb'))\n",
    "\n",
    "\n",
    "#stimulus list\n",
    "stimuli = {'luminance_flash':None,\n",
    "            'spatioluminance_noise':arbMatrix_matrix,\n",
    "            'gratings':gratings_pkl,\n",
    "            'scenes':image_order,\n",
    "            'luminance_flash_opto':None,\n",
    "            'spatioluminance_noise_opto':arbMatrix_matrix_o,\n",
    "            'gratings_opto':gratings_pkl_o,\n",
    "            'scenes_opto':image_order_o,\n",
    "           } "
   ]
  },
  {
   "cell_type": "markdown",
   "id": "d6f8f027-f9e9-49ad-ba70-0dbf93928293",
   "metadata": {},
   "source": [
    "## Assemble NWB"
   ]
  },
  {
   "cell_type": "code",
   "execution_count": 19,
   "id": "9e06c51d-e2ea-4e3f-8e12-3122cfd5a4de",
   "metadata": {},
   "outputs": [],
   "source": [
    "import pynwb\n",
    "from hdmf.backends.hdf5.h5_utils import H5DataIO\n",
    "from hdmf.utils import StrDataset"
   ]
  },
  {
   "cell_type": "code",
   "execution_count": 56,
   "id": "1b954ec8-dc70-4cf7-9467-a200291e5394",
   "metadata": {},
   "outputs": [],
   "source": [
    "from datetime import datetime\n",
    "from dateutil.tz import tzlocal\n",
    "from pynwb import NWBFile\n",
    "\n",
    "nwbfile = NWBFile('Axon silencing with PaBoNT; PaBoNT_2', \n",
    "                  recording_folder, \n",
    "                  datetime.now(tzlocal()),\n",
    "                  experimenter=experimenter,\n",
    "                  lab='Denman Lab',\n",
    "                  institution='University of Colorado',\n",
    "                  experiment_description=experiment_description,\n",
    "                  session_id=os.path.basename(recording_folder))"
   ]
  },
  {
   "cell_type": "markdown",
   "id": "8eee578f-8e9c-4562-93ca-ba16fc5e6abe",
   "metadata": {},
   "source": [
    "add stimulus information"
   ]
  },
  {
   "cell_type": "code",
   "execution_count": 57,
   "id": "7f5237a4-5d31-41f5-bfac-78823deda098",
   "metadata": {},
   "outputs": [],
   "source": [
    "for stim in stimuli_times.keys():\n",
    "    nwbfile.add_epoch(np.array(stimuli_times[stim])[0], \n",
    "                      np.array(stimuli_times[stim])[-1]+3.,\n",
    "                      [stim])"
   ]
  },
  {
   "cell_type": "code",
   "execution_count": 58,
   "id": "406147b3-f079-4046-9779-8b960ec02c33",
   "metadata": {},
   "outputs": [],
   "source": [
    "nwbfile.add_trial_column('stimulus', 'the stimulus during this trial')\n",
    "\n",
    "#optogenetics\n",
    "nwbfile.add_trial_column('optogenetics_LED_state',    'whether or not the LED was on or off for this trial. 1=on,0=off. exact opto times are available in optogenetics_states field of NWB')\n",
    "\n",
    "#flashCSD\n",
    "nwbfile.add_trial_column('flash_luminance', 'the luminance of the flash on this trial. 1=bright,0=dark')\n",
    "\n",
    "#gratings_orientation\n",
    "nwbfile.add_trial_column('contrast', 'index of each trial into a matrix of images')\n",
    "nwbfile.add_trial_column('temporal_frequency', 'index of each trial into a matrix of images')\n",
    "nwbfile.add_trial_column('spatial_frequency', 'index of each trial into a matrix of images')\n",
    "nwbfile.add_trial_column('orientation', 'index of each trial into a matrix of images')\n",
    "\n",
    "#arbMatrix and scene flicker\n",
    "nwbfile.add_trial_column('stimulus_index', 'index of each trial into a matrix or list of images')\n",
    "\n",
    "stim_vals = {'optogenetics_LED_state':-1,\n",
    "             'flash_luminance':-1,\n",
    "             'contrast':-1,\n",
    "             'temporal_frequency':-1,\n",
    "             'spatial_frequency':-1,\n",
    "             'orientation':-1,\n",
    "             'stimulus_index':-1,}\n",
    "\n",
    "lums = [0,1]#['white','black']\n",
    "stim = 'luminance_flash'\n",
    "for i,trial_start in enumerate(np.array(stimuli_times[stim])):\n",
    "    nwbfile.add_trial(start_time=trial_start, stop_time=trial_start+np.mean(np.diff(stimuli_times[stim])), stimulus=stim,\n",
    "                      flash_luminance=lums[i%2],\n",
    "                      optogenetics_LED_state=0,\n",
    "                      contrast = stim_vals['contrast'],\n",
    "                     temporal_frequency = stim_vals['temporal_frequency'],\n",
    "                     spatial_frequency = stim_vals['spatial_frequency'],\n",
    "                     orientation = stim_vals['orientation'],\n",
    "                      stimulus_index = stim_vals['stimulus_index'],\n",
    "                     )\n",
    "stim = 'luminance_flash_opto'\n",
    "for i,trial_start in enumerate(np.array(stimuli_times[stim])):\n",
    "    nwbfile.add_trial(start_time=trial_start, stop_time=trial_start+np.mean(np.diff(stimuli_times[stim])), stimulus=stim,\n",
    "                      flash_luminance=lums[i%2],\n",
    "                      optogenetics_LED_state=1,\n",
    "                      contrast = stim_vals['contrast'],\n",
    "                     temporal_frequency = stim_vals['temporal_frequency'],\n",
    "                     spatial_frequency = stim_vals['spatial_frequency'],\n",
    "                     orientation = stim_vals['orientation'],\n",
    "                      stimulus_index = stim_vals['stimulus_index'],\n",
    "                     )\n",
    "\n",
    "stim = 'spatioluminance_noise'\n",
    "for i,trial_start in enumerate(stimuli_times[stim]):\n",
    "    nwbfile.add_trial(start_time=trial_start, stop_time=trial_start+np.mean(np.diff(stimuli_times[stim])),stimulus=stim,\n",
    "                      flash_luminance = stim_vals['flash_luminance'],\n",
    "                      stimulus_index=i,\n",
    "                      contrast = stim_vals['contrast'],\n",
    "                     temporal_frequency = stim_vals['temporal_frequency'],\n",
    "                     spatial_frequency = stim_vals['spatial_frequency'],\n",
    "                     orientation = stim_vals['orientation'],\n",
    "                      optogenetics_LED_state = 0)\n",
    "\n",
    "stim = 'spatioluminance_noise_opto'\n",
    "for i,trial_start in enumerate(stimuli_times[stim]):\n",
    "    nwbfile.add_trial(start_time=trial_start, stop_time=trial_start+np.mean(np.diff(stimuli_times[stim])),stimulus=stim,\n",
    "                      flash_luminance = stim_vals['flash_luminance'],\n",
    "                      stimulus_index=i,\n",
    "                      contrast = stim_vals['contrast'],\n",
    "                     temporal_frequency = stim_vals['temporal_frequency'],\n",
    "                     spatial_frequency = stim_vals['spatial_frequency'],\n",
    "                     orientation = stim_vals['orientation'],\n",
    "                      optogenetics_LED_state = 1)\n",
    "stim = 'gratings'\n",
    "info = [stimuli[stim]['bgsweeptable'][ind] for ind in stimuli[stim]['bgsweeporder']]\n",
    "for i,trial_start in enumerate(stimuli_times[stim]):\n",
    "    nwbfile.add_trial(start_time=trial_start, stop_time=trial_start+np.mean(np.diff(stimuli_times[stim])), stimulus=stim,\n",
    "                        flash_luminance = stim_vals['flash_luminance'],\n",
    "                      stimulus_index = stim_vals['stimulus_index'],\n",
    "                      contrast=info[i][0],\n",
    "                     temporal_frequency=info[i][2],\n",
    "                     spatial_frequency=info[i][3],\n",
    "                     orientation=info[i][-2],\n",
    "                     optogenetics_LED_state=0)\n",
    "\n",
    "stim = 'gratings_opto'\n",
    "info = [stimuli[stim]['bgsweeptable'][ind] for ind in stimuli[stim]['bgsweeporder']]\n",
    "for i,trial_start in enumerate(stimuli_times[stim]):\n",
    "    nwbfile.add_trial(start_time=trial_start, stop_time=trial_start+np.mean(np.diff(stimuli_times[stim])), stimulus=stim,\n",
    "                        flash_luminance = stim_vals['flash_luminance'],\n",
    "                      stimulus_index = stim_vals['stimulus_index'],\n",
    "                      contrast=info[i][0],\n",
    "                     temporal_frequency=info[i][2],\n",
    "                     spatial_frequency=info[i][3],\n",
    "                     orientation=info[i][-2],\n",
    "                     optogenetics_LED_state=1)\n",
    "                     \n",
    "stim = 'scenes'\n",
    "for i,trial_start in enumerate(stimuli_times[stim]):\n",
    "    nwbfile.add_trial(start_time=trial_start, stop_time=trial_start+np.mean(np.diff(stimuli_times[stim])),stimulus=stim,\n",
    "                      flash_luminance = stim_vals['flash_luminance'],\n",
    "                      stimulus_index=stimuli[stim][i],\n",
    "                      contrast = stim_vals['contrast'],\n",
    "                     temporal_frequency = stim_vals['temporal_frequency'],\n",
    "                     spatial_frequency = stim_vals['spatial_frequency'],\n",
    "                     orientation = stim_vals['orientation'],\n",
    "                      optogenetics_LED_state = 0)\n",
    "\n",
    "stim = 'scenes_opto'\n",
    "for i,trial_start in enumerate(stimuli_times[stim]):\n",
    "    nwbfile.add_trial(start_time=trial_start, stop_time=trial_start+np.mean(np.diff(stimuli_times[stim])),stimulus=stim,\n",
    "                      flash_luminance = stim_vals['flash_luminance'],\n",
    "                      stimulus_index=stimuli[stim][i],\n",
    "                      contrast = stim_vals['contrast'],\n",
    "                     temporal_frequency = stim_vals['temporal_frequency'],\n",
    "                     spatial_frequency = stim_vals['spatial_frequency'],\n",
    "                     orientation = stim_vals['orientation'],\n",
    "                      optogenetics_LED_state = 1)\n",
    "    "
   ]
  },
  {
   "cell_type": "code",
   "execution_count": 42,
   "id": "9539ac61-8c73-49b4-b4ef-13eed47a913b",
   "metadata": {},
   "outputs": [],
   "source": [
    "df = nwbfile.trials.to_dataframe()"
   ]
  },
  {
   "cell_type": "code",
   "execution_count": 43,
   "id": "cb70b956",
   "metadata": {},
   "outputs": [
    {
     "data": {
      "text/html": [
       "<div>\n",
       "<style scoped>\n",
       "    .dataframe tbody tr th:only-of-type {\n",
       "        vertical-align: middle;\n",
       "    }\n",
       "\n",
       "    .dataframe tbody tr th {\n",
       "        vertical-align: top;\n",
       "    }\n",
       "\n",
       "    .dataframe thead th {\n",
       "        text-align: right;\n",
       "    }\n",
       "</style>\n",
       "<table border=\"1\" class=\"dataframe\">\n",
       "  <thead>\n",
       "    <tr style=\"text-align: right;\">\n",
       "      <th></th>\n",
       "      <th>start_time</th>\n",
       "      <th>stop_time</th>\n",
       "      <th>stimulus</th>\n",
       "      <th>optogenetics_LED_state</th>\n",
       "      <th>flash_luminance</th>\n",
       "      <th>contrast</th>\n",
       "      <th>temporal_frequency</th>\n",
       "      <th>spatial_frequency</th>\n",
       "      <th>orientation</th>\n",
       "      <th>stimulus_index</th>\n",
       "    </tr>\n",
       "    <tr>\n",
       "      <th>id</th>\n",
       "      <th></th>\n",
       "      <th></th>\n",
       "      <th></th>\n",
       "      <th></th>\n",
       "      <th></th>\n",
       "      <th></th>\n",
       "      <th></th>\n",
       "      <th></th>\n",
       "      <th></th>\n",
       "      <th></th>\n",
       "    </tr>\n",
       "  </thead>\n",
       "  <tbody>\n",
       "    <tr>\n",
       "      <th>0</th>\n",
       "      <td>3570.826467</td>\n",
       "      <td>3573.829202</td>\n",
       "      <td>luminance_flash</td>\n",
       "      <td>0</td>\n",
       "      <td>0</td>\n",
       "      <td>-1</td>\n",
       "      <td>-1</td>\n",
       "      <td>-1.0</td>\n",
       "      <td>-1</td>\n",
       "      <td>-1</td>\n",
       "    </tr>\n",
       "    <tr>\n",
       "      <th>1</th>\n",
       "      <td>3573.820467</td>\n",
       "      <td>3576.823202</td>\n",
       "      <td>luminance_flash</td>\n",
       "      <td>0</td>\n",
       "      <td>1</td>\n",
       "      <td>-1</td>\n",
       "      <td>-1</td>\n",
       "      <td>-1.0</td>\n",
       "      <td>-1</td>\n",
       "      <td>-1</td>\n",
       "    </tr>\n",
       "    <tr>\n",
       "      <th>2</th>\n",
       "      <td>3576.823233</td>\n",
       "      <td>3579.825968</td>\n",
       "      <td>luminance_flash</td>\n",
       "      <td>0</td>\n",
       "      <td>0</td>\n",
       "      <td>-1</td>\n",
       "      <td>-1</td>\n",
       "      <td>-1.0</td>\n",
       "      <td>-1</td>\n",
       "      <td>-1</td>\n",
       "    </tr>\n",
       "    <tr>\n",
       "      <th>3</th>\n",
       "      <td>3579.825867</td>\n",
       "      <td>3582.828602</td>\n",
       "      <td>luminance_flash</td>\n",
       "      <td>0</td>\n",
       "      <td>1</td>\n",
       "      <td>-1</td>\n",
       "      <td>-1</td>\n",
       "      <td>-1.0</td>\n",
       "      <td>-1</td>\n",
       "      <td>-1</td>\n",
       "    </tr>\n",
       "    <tr>\n",
       "      <th>4</th>\n",
       "      <td>3582.828467</td>\n",
       "      <td>3585.831202</td>\n",
       "      <td>luminance_flash</td>\n",
       "      <td>0</td>\n",
       "      <td>0</td>\n",
       "      <td>-1</td>\n",
       "      <td>-1</td>\n",
       "      <td>-1.0</td>\n",
       "      <td>-1</td>\n",
       "      <td>-1</td>\n",
       "    </tr>\n",
       "    <tr>\n",
       "      <th>...</th>\n",
       "      <td>...</td>\n",
       "      <td>...</td>\n",
       "      <td>...</td>\n",
       "      <td>...</td>\n",
       "      <td>...</td>\n",
       "      <td>...</td>\n",
       "      <td>...</td>\n",
       "      <td>...</td>\n",
       "      <td>...</td>\n",
       "      <td>...</td>\n",
       "    </tr>\n",
       "    <tr>\n",
       "      <th>27475</th>\n",
       "      <td>10118.996425</td>\n",
       "      <td>10119.997369</td>\n",
       "      <td>scenes_opto</td>\n",
       "      <td>1</td>\n",
       "      <td>-1</td>\n",
       "      <td>-1</td>\n",
       "      <td>-1</td>\n",
       "      <td>-1.0</td>\n",
       "      <td>-1</td>\n",
       "      <td>15</td>\n",
       "    </tr>\n",
       "    <tr>\n",
       "      <th>27476</th>\n",
       "      <td>10119.997359</td>\n",
       "      <td>10120.998302</td>\n",
       "      <td>scenes_opto</td>\n",
       "      <td>1</td>\n",
       "      <td>-1</td>\n",
       "      <td>-1</td>\n",
       "      <td>-1</td>\n",
       "      <td>-1.0</td>\n",
       "      <td>-1</td>\n",
       "      <td>16</td>\n",
       "    </tr>\n",
       "    <tr>\n",
       "      <th>27477</th>\n",
       "      <td>10120.998259</td>\n",
       "      <td>10121.999202</td>\n",
       "      <td>scenes_opto</td>\n",
       "      <td>1</td>\n",
       "      <td>-1</td>\n",
       "      <td>-1</td>\n",
       "      <td>-1</td>\n",
       "      <td>-1.0</td>\n",
       "      <td>-1</td>\n",
       "      <td>17</td>\n",
       "    </tr>\n",
       "    <tr>\n",
       "      <th>27478</th>\n",
       "      <td>10121.999359</td>\n",
       "      <td>10123.000303</td>\n",
       "      <td>scenes_opto</td>\n",
       "      <td>1</td>\n",
       "      <td>-1</td>\n",
       "      <td>-1</td>\n",
       "      <td>-1</td>\n",
       "      <td>-1.0</td>\n",
       "      <td>-1</td>\n",
       "      <td>18</td>\n",
       "    </tr>\n",
       "    <tr>\n",
       "      <th>27479</th>\n",
       "      <td>10123.000259</td>\n",
       "      <td>10124.001203</td>\n",
       "      <td>scenes_opto</td>\n",
       "      <td>1</td>\n",
       "      <td>-1</td>\n",
       "      <td>-1</td>\n",
       "      <td>-1</td>\n",
       "      <td>-1.0</td>\n",
       "      <td>-1</td>\n",
       "      <td>19</td>\n",
       "    </tr>\n",
       "  </tbody>\n",
       "</table>\n",
       "<p>27480 rows × 10 columns</p>\n",
       "</div>"
      ],
      "text/plain": [
       "         start_time     stop_time         stimulus  optogenetics_LED_state  \\\n",
       "id                                                                           \n",
       "0       3570.826467   3573.829202  luminance_flash                       0   \n",
       "1       3573.820467   3576.823202  luminance_flash                       0   \n",
       "2       3576.823233   3579.825968  luminance_flash                       0   \n",
       "3       3579.825867   3582.828602  luminance_flash                       0   \n",
       "4       3582.828467   3585.831202  luminance_flash                       0   \n",
       "...             ...           ...              ...                     ...   \n",
       "27475  10118.996425  10119.997369      scenes_opto                       1   \n",
       "27476  10119.997359  10120.998302      scenes_opto                       1   \n",
       "27477  10120.998259  10121.999202      scenes_opto                       1   \n",
       "27478  10121.999359  10123.000303      scenes_opto                       1   \n",
       "27479  10123.000259  10124.001203      scenes_opto                       1   \n",
       "\n",
       "       flash_luminance  contrast  temporal_frequency  spatial_frequency  \\\n",
       "id                                                                        \n",
       "0                    0        -1                  -1               -1.0   \n",
       "1                    1        -1                  -1               -1.0   \n",
       "2                    0        -1                  -1               -1.0   \n",
       "3                    1        -1                  -1               -1.0   \n",
       "4                    0        -1                  -1               -1.0   \n",
       "...                ...       ...                 ...                ...   \n",
       "27475               -1        -1                  -1               -1.0   \n",
       "27476               -1        -1                  -1               -1.0   \n",
       "27477               -1        -1                  -1               -1.0   \n",
       "27478               -1        -1                  -1               -1.0   \n",
       "27479               -1        -1                  -1               -1.0   \n",
       "\n",
       "       orientation  stimulus_index  \n",
       "id                                  \n",
       "0               -1              -1  \n",
       "1               -1              -1  \n",
       "2               -1              -1  \n",
       "3               -1              -1  \n",
       "4               -1              -1  \n",
       "...            ...             ...  \n",
       "27475           -1              15  \n",
       "27476           -1              16  \n",
       "27477           -1              17  \n",
       "27478           -1              18  \n",
       "27479           -1              19  \n",
       "\n",
       "[27480 rows x 10 columns]"
      ]
     },
     "execution_count": 43,
     "metadata": {},
     "output_type": "execute_result"
    }
   ],
   "source": [
    "df"
   ]
  },
  {
   "cell_type": "code",
   "execution_count": 44,
   "id": "f9bb1a15",
   "metadata": {},
   "outputs": [
    {
     "data": {
      "text/plain": [
       "[<matplotlib.lines.Line2D at 0x7fbf804c3850>]"
      ]
     },
     "execution_count": 44,
     "metadata": {},
     "output_type": "execute_result"
    },
    {
     "data": {
      "image/png": "[encoded data removed]",
      "text/plain": [
       "<Figure size 432x288 with 1 Axes>"
      ]
     },
     "metadata": {},
     "output_type": "display_data"
    }
   ],
   "source": [
    "plt.plot(df[df.stimulus=='scenes'].start_time,df[df.stimulus=='scenes'].stimulus_index)"
   ]
  },
  {
   "cell_type": "markdown",
   "id": "6afb8069-041e-4c1a-9be5-9b4aab991816",
   "metadata": {},
   "source": [
    "## add optogenetics"
   ]
  },
  {
   "cell_type": "code",
   "execution_count": 26,
   "id": "1a60ea1e-fc3c-4d46-8fb9-c1c8b29cbf2e",
   "metadata": {},
   "outputs": [
    {
     "data": {
      "text/plain": [
       "77"
      ]
     },
     "execution_count": 26,
     "metadata": {},
     "output_type": "execute_result"
    }
   ],
   "source": [
    "np.array(opto_off_times).shape[0]"
   ]
  },
  {
   "cell_type": "code",
   "execution_count": 59,
   "id": "8500243c-0ad7-4219-b5b9-9a543cc912a1",
   "metadata": {},
   "outputs": [
    {
     "data": {
      "text/plain": [
       "optogenetics_states pynwb.epoch.TimeIntervals at 0x140459979054608\n",
       "Fields:\n",
       "  colnames: ['start_time' 'stop_time' 'power' 'wavelength']\n",
       "  columns: (\n",
       "    start_time <class 'hdmf.common.table.VectorData'>,\n",
       "    stop_time <class 'hdmf.common.table.VectorData'>,\n",
       "    power <class 'hdmf.common.table.VectorData'>,\n",
       "    wavelength <class 'hdmf.common.table.VectorData'>\n",
       "  )\n",
       "  description: intervals for optical fiber, fiber at power = 1.5AU on cyclops driver. fiber 565nm, \n",
       "  id: id <class 'hdmf.common.table.ElementIdentifiers'>"
      ]
     },
     "execution_count": 59,
     "metadata": {},
     "output_type": "execute_result"
    }
   ],
   "source": [
    "opto_states = pynwb.epoch.TimeIntervals(\n",
    "    name=\"optogenetics_states\",\n",
    "    description=\"intervals for optical fiber, fiber at power = 1.5AU on cyclops driver. fiber 565nm, \",\n",
    ")\n",
    "opto_states.add_column(name=\"power\", description=\"power of fiber\")\n",
    "opto_states.add_column(name=\"wavelength\", description=\"wavelength of light\")\n",
    "\n",
    "for i in range(np.array(opto_off_times).shape[0]):\n",
    "    opto_states.add_row(start_time=np.array(opto_on_times)[i], stop_time=np.array(opto_off_times)[i], power=1.5, wavelength=565)\n",
    "\n",
    "nwbfile.add_time_intervals(opto_states)"
   ]
  },
  {
   "cell_type": "markdown",
   "id": "7e120cac-6b74-4aee-be80-bb26614b9eb9",
   "metadata": {},
   "source": [
    "### add ephys data\n",
    "first add electrodes and raw data link"
   ]
  },
  {
   "cell_type": "code",
   "execution_count": 28,
   "id": "d3d41244-8f01-4025-96ed-f4f560ce475d",
   "metadata": {},
   "outputs": [
    {
     "name": "stdout",
     "output_type": "stream",
     "text": [
      "no Allen Institute NWB API. get this from http://stash.corp.alleninstitute.org/projects/INF/repos/ainwb/browse\n",
      "no OpenEphys.py get this from https://github.com/open-ephys/analysis-tools\n"
     ]
    }
   ],
   "source": [
    "from dlab.nwbtools import df_from_phy, load_phy_template, option234_positions, multi_load_unit_data\n"
   ]
  },
  {
   "cell_type": "code",
   "execution_count": 35,
   "id": "48960bb3",
   "metadata": {},
   "outputs": [],
   "source": [
    "recording_folder = os.path.join('/Volumes/DATA7/grant/rotation/2023-09-29_16-07-39_PaBont2','Record Node 103','experiment1/recording1/continuous')"
   ]
  },
  {
   "cell_type": "code",
   "execution_count": 37,
   "id": "ddd28c6b-a17e-4d02-807b-41852e6923be",
   "metadata": {},
   "outputs": [],
   "source": [
    "df_units = multi_load_unit_data(recording_folder,probe_depths=probedepths)"
   ]
  },
  {
   "cell_type": "code",
   "execution_count": 46,
   "id": "912429f1-97c2-498f-814b-eb0a832f7e2f",
   "metadata": {},
   "outputs": [],
   "source": [
    "probes = ['A','B','C']\n",
    "locations = ['VISp','VISl','VISa;CA1;DG;LP']\n",
    "descriptions = ['Neuropixels1.0','Neuropixels1.0','Neuropixels1.0'] "
   ]
  },
  {
   "cell_type": "code",
   "execution_count": 60,
   "id": "fd5dee5d-b54d-46de-ba92-5772ed9ab961",
   "metadata": {},
   "outputs": [],
   "source": [
    "device = nwbfile.create_device(name='DenmanLab_EphysRig1')\n",
    "\n",
    "for i, probe in enumerate(probes):\n",
    "    electrode_name = 'probe'+str(i)\n",
    "    description = descriptions[i]\n",
    "    location = locations[i]\n",
    "\n",
    "    electrode_group = nwbfile.create_electrode_group(electrode_name,\n",
    "                                                     description=description,\n",
    "                                                     location=location,\n",
    "                                                     device=device)\n",
    "    for ch in range(option234_positions.shape[0]):\n",
    "        nwbfile.add_electrode(x=option234_positions[ch,0],y=0.,z=option234_positions[0,1],imp=0.0,location='none',filtering='high pass 300Hz',group=electrode_group)\n",
    "    \n",
    "#     if len(glob.glob(os.path.join(recording_folder,probes[1])+'/*lf.b*')) > 0:\n",
    "#         ephys_ts = pynwb.ecephys.ElectricalSeries('lfp_probe'+probeids[i],\n",
    "#                                 data=H5DataIO(data=StrDataset(glob.glob(os.path.join(recording_folder,probes[1])+'/*lf.b*')[0]),    \n",
    "#                                         link_data=True),\n",
    "#                                 electrodes = electrode_group,\n",
    "#                                 starting_time=0,\n",
    "#                                 rate=2500,\n",
    "#                                 resolution=0.001,\n",
    "#                                 comments=\"V1, depth = 1500um\",\n",
    "#                                 description=\"V1, depth = 1500um\")\n",
    "#         nwbfile.add_acquisition(ephys_ts)"
   ]
  },
  {
   "cell_type": "code",
   "execution_count": 61,
   "id": "e2720703-2d68-4ee8-a4a7-1f44a8b365ce",
   "metadata": {},
   "outputs": [],
   "source": [
    "# nwbfile.add_unit_column('location', 'the anatomical location of this unit')\n",
    "# nwbfile.add_unit_column('quality', 'the quality for the inference of this unit')\n",
    "# nwbfile.add_unit_column('quality_ISIviolations', 'the quality for the inference of this unit')\n",
    "# nwbfile.add_unit_column('quality_sn', 'the quality for the inference of this unit')\n",
    "# nwbfile.add_unit_column('quality_distance', 'the quality for the inference of this unit')\n",
    "\n",
    "nwbfile.add_unit_column('depth', 'the depth of this unit from the pia')\n",
    "nwbfile.add_unit_column('xpos', 'the x position on probe')\n",
    "nwbfile.add_unit_column('ypos', 'the y position on probe')\n",
    "# nwbfile.add_unit_column('template', 'Kilosort template')\n",
    "nwbfile.add_unit_column('label', 'user label')\n",
    "nwbfile.add_unit_column('KSlabel', 'Kilosort label')\n",
    "nwbfile.add_unit_column('KSamplitude', 'Kilosort amplitude')\n",
    "nwbfile.add_unit_column('KScontamination', 'Kilosort ISI contamination')\n",
    "nwbfile.add_unit_column('probe', 'probe ID')\n",
    "\n",
    "labels =np.array(['noise','mua','good'])\n",
    "\n",
    "for i,unit_row in df_units.iterrows():\n",
    "    try: lbl = np.argwhere(unit_row.group==labels)[0][0]\n",
    "    except: lbl=0\n",
    "    try: klbl = np.argwhere(unit_row.KSlabel==labels)[0][0]\n",
    "    except: klbl=0\n",
    "    nwbfile.add_unit(id=int(unit_row.name), \n",
    "                     spike_times=unit_row.times,\n",
    "                    #  electrodes = np.where(unit_row.waveform_weights > 0)[0],\n",
    "                    #  waveform_mean = unit_row.template,\n",
    "# #                       quality=0.95\n",
    "                     depth = unit_row.depth,\n",
    "                     xpos= unit_row.xpos,\n",
    "                     ypos= unit_row.zpos,\n",
    "#                      # template= unit_row.template,\n",
    "                     label= lbl,\n",
    "                     KSlabel= klbl,\n",
    "                     KSamplitude= unit_row.KSamplitude,\n",
    "                     KScontamination= unit_row.KScontamination,\n",
    "                     probe= unit_row.probe,\n",
    "                    )"
   ]
  },
  {
   "cell_type": "code",
   "execution_count": 62,
   "id": "bcb96ae6-e3cb-4e1e-ace6-4695cebbc1a9",
   "metadata": {},
   "outputs": [],
   "source": [
    "nwb_path = '/Users/danieljdenman/Desktop/2023-09-29_16-07-39_PaBont2.nwb'\n",
    "with pynwb.NWBHDF5IO(nwb_path, 'w') as io:\n",
    "    io.write(nwbfile)"
   ]
  },
  {
   "cell_type": "code",
   "execution_count": null,
   "id": "38cf1550-42e9-45b8-ae87-9b56982ac666",
   "metadata": {},
   "outputs": [],
   "source": []
  },
  {
   "cell_type": "markdown",
   "id": "0f8e0f4f-fff4-40b4-a93f-188c02f81849",
   "metadata": {},
   "source": [
    "# Load data"
   ]
  },
  {
   "cell_type": "code",
   "execution_count": 63,
   "id": "6174c72f-f6c2-4e17-8e68-165e1b2a3816",
   "metadata": {},
   "outputs": [],
   "source": [
    "nwb = h5py.File(nwb_path,'r')"
   ]
  },
  {
   "cell_type": "code",
   "execution_count": 64,
   "id": "44ffc2d2-5e54-4ac9-89f4-e0b214559c9b",
   "metadata": {},
   "outputs": [
    {
     "data": {
      "text/plain": [
       "<HDF5 file \"2023-09-29_16-07-39_PaBont2.nwb\" (mode r)>"
      ]
     },
     "execution_count": 64,
     "metadata": {},
     "output_type": "execute_result"
    }
   ],
   "source": [
    "nwb"
   ]
  },
  {
   "cell_type": "markdown",
   "id": "bb46618f-c54b-42a0-9e62-7aaa11bb74df",
   "metadata": {},
   "source": [
    "# browse with NWBwidget"
   ]
  },
  {
   "cell_type": "code",
   "execution_count": 65,
   "id": "5bdc00ac-6103-4c60-99d3-580dc1006f64",
   "metadata": {},
   "outputs": [],
   "source": [
    "from pynwb import NWBHDF5IO\n",
    "from nwbwidgets import nwb2widget"
   ]
  },
  {
   "cell_type": "code",
   "execution_count": 66,
   "id": "f45157df-15ce-4494-9b5e-da1306949f6a",
   "metadata": {
    "tags": []
   },
   "outputs": [
    {
     "data": {
      "application/vnd.jupyter.widget-view+json": {
       "model_id": "fb69fc41a5ac444eb7f464348ef023a0",
       "version_major": 2,
       "version_minor": 0
      },
      "text/plain": [
       "VBox(children=(HBox(children=(Label(value='session_description:', layout=Layout(max_height='40px', max_width='…"
      ]
     },
     "metadata": {},
     "output_type": "display_data"
    }
   ],
   "source": [
    "io = NWBHDF5IO(nwb_path, mode='r')\n",
    "nwb_ = io.read()\n",
    "\n",
    "nwb2widget(nwb_)"
   ]
  },
  {
   "cell_type": "code",
   "execution_count": 67,
   "id": "9ca9b7ea-eff1-4558-a85a-c7d119205cfa",
   "metadata": {},
   "outputs": [],
   "source": [
    "df_stim = nwb_.trials.to_dataframe()\n",
    "df_opto = nwb_.get_time_intervals('optogenetics_states').to_dataframe()\n",
    "df_units = nwb_.units.to_dataframe()"
   ]
  },
  {
   "cell_type": "code",
   "execution_count": 68,
   "id": "a26f4af1-8ed7-49fa-9f8a-9127d64f0fff",
   "metadata": {},
   "outputs": [],
   "source": [
    "optogenetics_LED_state = []\n",
    "for i,row in df_stim.iterrows():\n",
    "    if np.min(np.abs(df_opto.start_time.values - row.start_time))<0.1:\n",
    "        optogenetics_LED_state.extend([1])\n",
    "    else:\n",
    "        optogenetics_LED_state.extend([0])\n",
    "df_stim['optogenetics_LED_state']= optogenetics_LED_state"
   ]
  },
  {
   "cell_type": "code",
   "execution_count": null,
   "id": "65705a09-37a7-46a6-a2e4-ba9426d8540e",
   "metadata": {},
   "outputs": [],
   "source": []
  },
  {
   "cell_type": "markdown",
   "id": "89e895a5-dcfb-4c71-a688-4ea175aa1d73",
   "metadata": {},
   "source": [
    "## flash responses \n",
    "[no probes in this nwb yet having data issue with my local copy]"
   ]
  },
  {
   "cell_type": "code",
   "execution_count": 69,
   "id": "1162acab-2a53-4bff-acc9-90ed42ad12a8",
   "metadata": {},
   "outputs": [],
   "source": [
    "import dlab.psth_and_raster as psth\n",
    "from dlab.generalephys import cleanAxes\n",
    "df1=df_units"
   ]
  },
  {
   "cell_type": "markdown",
   "id": "8c84c78c-e979-40d3-a1a9-325c0e500fde",
   "metadata": {},
   "source": [
    "plot one unit"
   ]
  },
  {
   "cell_type": "code",
   "execution_count": 99,
   "id": "da51fc27",
   "metadata": {},
   "outputs": [
    {
     "name": "stderr",
     "output_type": "stream",
     "text": [
      "/Users/danieljdenman/opt/anaconda3/lib/python3.7/site-packages/ipykernel_launcher.py:1: UserWarning: Boolean Series key will be reindexed to match DataFrame index.\n",
      "  \"\"\"Entry point for launching an IPython kernel.\n"
     ]
    },
    {
     "data": {
      "text/html": [
       "<div>\n",
       "<style scoped>\n",
       "    .dataframe tbody tr th:only-of-type {\n",
       "        vertical-align: middle;\n",
       "    }\n",
       "\n",
       "    .dataframe tbody tr th {\n",
       "        vertical-align: top;\n",
       "    }\n",
       "\n",
       "    .dataframe thead th {\n",
       "        text-align: right;\n",
       "    }\n",
       "</style>\n",
       "<table border=\"1\" class=\"dataframe\">\n",
       "  <thead>\n",
       "    <tr style=\"text-align: right;\">\n",
       "      <th></th>\n",
       "      <th>depth</th>\n",
       "      <th>xpos</th>\n",
       "      <th>ypos</th>\n",
       "      <th>label</th>\n",
       "      <th>KSlabel</th>\n",
       "      <th>KSamplitude</th>\n",
       "      <th>KScontamination</th>\n",
       "      <th>probe</th>\n",
       "      <th>spike_times</th>\n",
       "    </tr>\n",
       "    <tr>\n",
       "      <th>id</th>\n",
       "      <th></th>\n",
       "      <th></th>\n",
       "      <th></th>\n",
       "      <th></th>\n",
       "      <th></th>\n",
       "      <th></th>\n",
       "      <th></th>\n",
       "      <th></th>\n",
       "      <th></th>\n",
       "    </tr>\n",
       "  </thead>\n",
       "  <tbody>\n",
       "    <tr>\n",
       "      <th>29</th>\n",
       "      <td>813.996154</td>\n",
       "      <td>27.528879</td>\n",
       "      <td>3603.996154</td>\n",
       "      <td>2</td>\n",
       "      <td>2</td>\n",
       "      <td>572.8</td>\n",
       "      <td>0.0</td>\n",
       "      <td>A</td>\n",
       "      <td>[3386.2787936926634, 3386.4762239421048, 3387....</td>\n",
       "    </tr>\n",
       "    <tr>\n",
       "      <th>32</th>\n",
       "      <td>792.803147</td>\n",
       "      <td>41.666452</td>\n",
       "      <td>3582.803147</td>\n",
       "      <td>2</td>\n",
       "      <td>2</td>\n",
       "      <td>1386.1</td>\n",
       "      <td>2.4</td>\n",
       "      <td>A</td>\n",
       "      <td>[3629.2553374850354, 3629.2592080121462, 3933....</td>\n",
       "    </tr>\n",
       "    <tr>\n",
       "      <th>34</th>\n",
       "      <td>778.075075</td>\n",
       "      <td>32.093488</td>\n",
       "      <td>3568.075075</td>\n",
       "      <td>2</td>\n",
       "      <td>2</td>\n",
       "      <td>1010.5</td>\n",
       "      <td>3.0</td>\n",
       "      <td>A</td>\n",
       "      <td>[3386.416998203919, 3387.161728179539, 3387.55...</td>\n",
       "    </tr>\n",
       "    <tr>\n",
       "      <th>35</th>\n",
       "      <td>756.210150</td>\n",
       "      <td>48.650015</td>\n",
       "      <td>3546.210150</td>\n",
       "      <td>2</td>\n",
       "      <td>1</td>\n",
       "      <td>1146.8</td>\n",
       "      <td>19.5</td>\n",
       "      <td>A</td>\n",
       "      <td>[3402.0644048621198, 3402.0902639872365, 3403....</td>\n",
       "    </tr>\n",
       "    <tr>\n",
       "      <th>38</th>\n",
       "      <td>703.155128</td>\n",
       "      <td>25.058841</td>\n",
       "      <td>3493.155128</td>\n",
       "      <td>2</td>\n",
       "      <td>2</td>\n",
       "      <td>848.8</td>\n",
       "      <td>0.0</td>\n",
       "      <td>A</td>\n",
       "      <td>[3386.1430916773625, 3386.231746768255, 3387.5...</td>\n",
       "    </tr>\n",
       "    <tr>\n",
       "      <th>...</th>\n",
       "      <td>...</td>\n",
       "      <td>...</td>\n",
       "      <td>...</td>\n",
       "      <td>...</td>\n",
       "      <td>...</td>\n",
       "      <td>...</td>\n",
       "      <td>...</td>\n",
       "      <td>...</td>\n",
       "      <td>...</td>\n",
       "    </tr>\n",
       "    <tr>\n",
       "      <th>868</th>\n",
       "      <td>300.011540</td>\n",
       "      <td>53.000000</td>\n",
       "      <td>3090.011540</td>\n",
       "      <td>2</td>\n",
       "      <td>2</td>\n",
       "      <td>2094.0</td>\n",
       "      <td>0.0</td>\n",
       "      <td>A</td>\n",
       "      <td>[3965.679485528516, 4701.734050515822, 4754.55...</td>\n",
       "    </tr>\n",
       "    <tr>\n",
       "      <th>869</th>\n",
       "      <td>266.533415</td>\n",
       "      <td>35.082866</td>\n",
       "      <td>3056.533415</td>\n",
       "      <td>2</td>\n",
       "      <td>2</td>\n",
       "      <td>601.7</td>\n",
       "      <td>1.0</td>\n",
       "      <td>A</td>\n",
       "      <td>[3386.1092912983468, 3386.150732631745, 3386.1...</td>\n",
       "    </tr>\n",
       "    <tr>\n",
       "      <th>870</th>\n",
       "      <td>254.486232</td>\n",
       "      <td>44.463573</td>\n",
       "      <td>3044.486232</td>\n",
       "      <td>2</td>\n",
       "      <td>2</td>\n",
       "      <td>948.9</td>\n",
       "      <td>3.4</td>\n",
       "      <td>A</td>\n",
       "      <td>[3420.303129423343, 3424.882863898088, 3426.17...</td>\n",
       "    </tr>\n",
       "    <tr>\n",
       "      <th>871</th>\n",
       "      <td>242.058724</td>\n",
       "      <td>26.336798</td>\n",
       "      <td>3032.058724</td>\n",
       "      <td>2</td>\n",
       "      <td>2</td>\n",
       "      <td>4035.9</td>\n",
       "      <td>0.0</td>\n",
       "      <td>A</td>\n",
       "      <td>[3415.167885210484, 3440.0492147147893, 3440.2...</td>\n",
       "    </tr>\n",
       "    <tr>\n",
       "      <th>872</th>\n",
       "      <td>250.989046</td>\n",
       "      <td>36.835109</td>\n",
       "      <td>3040.989046</td>\n",
       "      <td>2</td>\n",
       "      <td>1</td>\n",
       "      <td>1403.6</td>\n",
       "      <td>13.9</td>\n",
       "      <td>A</td>\n",
       "      <td>[3395.7384497909975, 3395.7421201186803, 3395....</td>\n",
       "    </tr>\n",
       "  </tbody>\n",
       "</table>\n",
       "<p>83 rows × 9 columns</p>\n",
       "</div>"
      ],
      "text/plain": [
       "          depth       xpos         ypos  label  KSlabel  KSamplitude  \\\n",
       "id                                                                     \n",
       "29   813.996154  27.528879  3603.996154      2        2        572.8   \n",
       "32   792.803147  41.666452  3582.803147      2        2       1386.1   \n",
       "34   778.075075  32.093488  3568.075075      2        2       1010.5   \n",
       "35   756.210150  48.650015  3546.210150      2        1       1146.8   \n",
       "38   703.155128  25.058841  3493.155128      2        2        848.8   \n",
       "..          ...        ...          ...    ...      ...          ...   \n",
       "868  300.011540  53.000000  3090.011540      2        2       2094.0   \n",
       "869  266.533415  35.082866  3056.533415      2        2        601.7   \n",
       "870  254.486232  44.463573  3044.486232      2        2        948.9   \n",
       "871  242.058724  26.336798  3032.058724      2        2       4035.9   \n",
       "872  250.989046  36.835109  3040.989046      2        1       1403.6   \n",
       "\n",
       "     KScontamination probe                                        spike_times  \n",
       "id                                                                             \n",
       "29               0.0     A  [3386.2787936926634, 3386.4762239421048, 3387....  \n",
       "32               2.4     A  [3629.2553374850354, 3629.2592080121462, 3933....  \n",
       "34               3.0     A  [3386.416998203919, 3387.161728179539, 3387.55...  \n",
       "35              19.5     A  [3402.0644048621198, 3402.0902639872365, 3403....  \n",
       "38               0.0     A  [3386.1430916773625, 3386.231746768255, 3387.5...  \n",
       "..               ...   ...                                                ...  \n",
       "868              0.0     A  [3965.679485528516, 4701.734050515822, 4754.55...  \n",
       "869              1.0     A  [3386.1092912983468, 3386.150732631745, 3386.1...  \n",
       "870              3.4     A  [3420.303129423343, 3424.882863898088, 3426.17...  \n",
       "871              0.0     A  [3415.167885210484, 3440.0492147147893, 3440.2...  \n",
       "872             13.9     A  [3395.7384497909975, 3395.7421201186803, 3395....  \n",
       "\n",
       "[83 rows x 9 columns]"
      ]
     },
     "execution_count": 99,
     "metadata": {},
     "output_type": "execute_result"
    }
   ],
   "source": [
    "df_units[df_units.probe=='A'][df_units.label==2] # these are the \"good\" labelled units"
   ]
  },
  {
   "cell_type": "code",
   "execution_count": 98,
   "id": "aa7b6d5e-30d2-457d-b695-f48b1c7e7dca",
   "metadata": {
    "tags": []
   },
   "outputs": [
    {
     "name": "stderr",
     "output_type": "stream",
     "text": [
      "/Users/danieljdenman/opt/anaconda3/lib/python3.7/site-packages/ipykernel_launcher.py:2: UserWarning: Boolean Series key will be reindexed to match DataFrame index.\n",
      "  \n"
     ]
    },
    {
     "data": {
      "image/png": "[encoded data removed]",
      "text/plain": [
       "<Figure size 432x288 with 1 Axes>"
      ]
     },
     "metadata": {},
     "output_type": "display_data"
    },
    {
     "data": {
      "image/png": "[encoded data removed]",
      "text/plain": [
       "<Figure size 432x288 with 2 Axes>"
      ]
     },
     "metadata": {},
     "output_type": "display_data"
    }
   ],
   "source": [
    "unit=869\n",
    "df1 = df_units[df_units.probe=='A'][df_units.label==2]\n",
    "f,ax=plt.subplots(1,1)\n",
    "psth.psth_line(times=df1[df1.index==unit].spike_times.values[0],\n",
    "         triggers=df_stim[(df_stim.stimulus=='luminance_flash') & (df_stim.optogenetics_LED_state == 0)].start_time.values,\n",
    "              ymax=60,binsize=0.05,axes=ax,color='#487697')\n",
    "psth.psth_line(times=df1[df1.index==unit].spike_times.values[0],\n",
    "         triggers=df_stim[(df_stim.stimulus=='luminance_flash_opto') ].start_time.values,\n",
    "              ymax=60,binsize=0.05,axes=ax,color='#ffaa00')\n",
    "plt.tight_layout()\n",
    "# f.savefig('/Users/danieljdenman/Academics/grants/applications/20230305_R01_NEI_resub/figures/eArch_LM_psth.eps')\n",
    "# f.savefig('/Users/danieljdenman/Academics/grants/applications/20230305_R01_NEI_resub/figures/eArch_LM_psth.png')\n",
    "\n",
    "f,ax=plt.subplots(2,1)\n",
    "psth.raster(times=df1[df1.index==unit].spike_times.values[0],\n",
    "         triggers=df_stim[(df_stim.stimulus=='luminance_flash') & (df_stim.optogenetics_LED_state == 0)].start_time.values,\n",
    "              axes=ax[0],color='#487697',timeDomain=True,post=1.5,ms=8)\n",
    "psth.raster(times=df1[df1.index==unit].spike_times.values[0],\n",
    "         triggers=df_stim[(df_stim.stimulus=='luminance_flash_opto') ].start_time.values,\n",
    "              axes=ax[1],color='#ffaa00',timeDomain=True,post=1.5,ms=8)\n",
    "for ax_ in ax: ax_.set_xlim(-0.5,1.0)\n",
    "plt.tight_layout()\n",
    "# f.savefig('/Users/danieljdenman/Academics/grants/applications/20230305_R01_NEI_resub/figures/eArch_LM_raster.eps')"
   ]
  },
  {
   "cell_type": "code",
   "execution_count": null,
   "id": "aa5fc41c",
   "metadata": {},
   "outputs": [],
   "source": []
  }
 ],
 "metadata": {
  "kernelspec": {
   "display_name": "Python 3 (ipykernel)",
   "language": "python",
   "name": "python3"
  },
  "language_info": {
   "codemirror_mode": {
    "name": "ipython",
    "version": 3
   },
   "file_extension": ".py",
   "mimetype": "text/x-python",
   "name": "python",
   "nbconvert_exporter": "python",
   "pygments_lexer": "ipython3",
   "version": "3.7.15"
  }
 },
 "nbformat": 4,
 "nbformat_minor": 5
}
