{
 "cells": [
  {
   "cell_type": "code",
   "execution_count": 1,
   "metadata": {},
   "outputs": [],
   "source": [
    "import numpy as np\n",
    "import matplotlib.pyplot as plt\n",
    "import os,sys,glob"
   ]
  },
  {
   "cell_type": "code",
   "execution_count": 45,
   "metadata": {},
   "outputs": [],
   "source": [
    "path = r'/Users/danieljdenman/Desktop/2021-08-16_16-23-23/RecordNode101/experiment1/recording1/events/NI-DAQmx-100.0/TTL_1'"
   ]
  },
  {
   "cell_type": "code",
   "execution_count": 46,
   "metadata": {},
   "outputs": [],
   "source": [
    "base = '/'\n",
    "for folder in path.split('/')[1:]:\n",
    "    base = base+folder+'/'\n",
    "    if folder[:2] == '20': break\n",
    "stim_path = os.path.join(base,'stim')"
   ]
  },
  {
   "cell_type": "code",
   "execution_count": 55,
   "metadata": {},
   "outputs": [],
   "source": [
    "import _pickle as pkl"
   ]
  },
  {
   "cell_type": "code",
   "execution_count": 56,
   "metadata": {},
   "outputs": [],
   "source": [
    "gratings_pkl = pkl.load(open(glob.glob(stim_path+'/*')[0],'rb'))\n",
    "scene_pkl = pkl.load(open(glob.glob(stim_path+'/*')[2],'rb'))\n",
    "arbMatrixcolor_pkl = pkl.load(open(glob.glob(stim_path+'/*')[3],'rb'))\n",
    "arbMatrix_pkl = pkl.load(open(glob.glob(stim_path+'/*')[1],'rb'))"
   ]
  },
  {
   "cell_type": "code",
   "execution_count": 47,
   "metadata": {},
   "outputs": [],
   "source": [
    "from open_ephys.analysis import Session\n",
    "session = Session(base)\n",
    "df_events = session.recordnodes[0].recordings[0].events\n",
    "df_events['times']=df_events.timestamp/48000."
   ]
  },
  {
   "cell_type": "code",
   "execution_count": 63,
   "metadata": {},
   "outputs": [
    {
     "name": "stderr",
     "output_type": "stream",
     "text": [
      "/Users/danieljdenman/opt/anaconda3/lib/python3.7/site-packages/ipykernel_launcher.py:2: UserWarning: Boolean Series key will be reindexed to match DataFrame index.\n",
      "  \n",
      "/Users/danieljdenman/opt/anaconda3/lib/python3.7/site-packages/ipykernel_launcher.py:2: UserWarning: Boolean Series key will be reindexed to match DataFrame index.\n",
      "  \n",
      "/Users/danieljdenman/opt/anaconda3/lib/python3.7/site-packages/ipykernel_launcher.py:2: UserWarning: Boolean Series key will be reindexed to match DataFrame index.\n",
      "  \n",
      "/Users/danieljdenman/opt/anaconda3/lib/python3.7/site-packages/ipykernel_launcher.py:2: UserWarning: Boolean Series key will be reindexed to match DataFrame index.\n",
      "  \n",
      "/Users/danieljdenman/opt/anaconda3/lib/python3.7/site-packages/ipykernel_launcher.py:2: UserWarning: Boolean Series key will be reindexed to match DataFrame index.\n",
      "  \n"
     ]
    },
    {
     "data": {
      "text/plain": [
       "<matplotlib.legend.Legend at 0x7fcfe9204c90>"
      ]
     },
     "execution_count": 63,
     "metadata": {},
     "output_type": "execute_result"
    },
    {
     "data": {
      "image/png": "[encoded data removed]",
      "text/plain": [
       "<Figure size 432x288 with 1 Axes>"
      ]
     },
     "metadata": {
      "needs_background": "light"
     },
     "output_type": "display_data"
    }
   ],
   "source": [
    "for ch in ([1,2,3,4,5]):\n",
    "    plt.plot(df_events[df_events.channel==ch][df_events.state==1].times.values,label=ch)\n",
    "plt.legend()"
   ]
  },
  {
   "cell_type": "code",
   "execution_count": 83,
   "metadata": {},
   "outputs": [
    {
     "name": "stdout",
     "output_type": "stream",
     "text": [
      "df_gratings: 220\n",
      "df_scenes: 2864\n",
      "df_noise: 7201\n",
      "df_noise_color: 7200\n"
     ]
    },
    {
     "name": "stderr",
     "output_type": "stream",
     "text": [
      "/Users/danieljdenman/opt/anaconda3/lib/python3.7/site-packages/ipykernel_launcher.py:1: UserWarning: Boolean Series key will be reindexed to match DataFrame index.\n",
      "  \"\"\"Entry point for launching an IPython kernel.\n",
      "/Users/danieljdenman/opt/anaconda3/lib/python3.7/site-packages/ipykernel_launcher.py:2: UserWarning: Boolean Series key will be reindexed to match DataFrame index.\n",
      "  \n",
      "/Users/danieljdenman/opt/anaconda3/lib/python3.7/site-packages/ipykernel_launcher.py:3: UserWarning: Boolean Series key will be reindexed to match DataFrame index.\n",
      "  This is separate from the ipykernel package so we can avoid doing imports until\n",
      "/Users/danieljdenman/opt/anaconda3/lib/python3.7/site-packages/ipykernel_launcher.py:4: UserWarning: Boolean Series key will be reindexed to match DataFrame index.\n",
      "  after removing the cwd from sys.path.\n"
     ]
    }
   ],
   "source": [
    "df_gratings = df_events[df_events.channel==2][df_events.state==1]\n",
    "df_scenes = df_events[df_events.channel==3][df_events.state==1]\n",
    "df_noise = df_events[df_events.channel==4][df_events.state==1]\n",
    "df_noise_color= df_events[df_events.channel==5][df_events.state==1]\n",
    "print('df_gratings: '+str(df_gratings.shape[0]))\n",
    "print('df_scenes: '+str(df_scenes.shape[0]))\n",
    "print('df_noise: '+str(df_noise.shape[0]))\n",
    "print('df_noise_color: '+str(df_noise_color.shape[0]))"
   ]
  },
  {
   "cell_type": "code",
   "execution_count": 81,
   "metadata": {},
   "outputs": [
    {
     "data": {
      "text/plain": [
       "[<matplotlib.lines.Line2D at 0x7fcff9706790>]"
      ]
     },
     "execution_count": 81,
     "metadata": {},
     "output_type": "execute_result"
    },
    {
     "data": {
      "image/png": "[encoded data removed]",
      "text/plain": [
       "<Figure size 432x288 with 1 Axes>"
      ]
     },
     "metadata": {
      "needs_background": "light"
     },
     "output_type": "display_data"
    }
   ],
   "source": [
    "plt.plot(np.diff(df_scenes.times))"
   ]
  },
  {
   "cell_type": "code",
   "execution_count": 79,
   "metadata": {},
   "outputs": [
    {
     "data": {
      "text/plain": [
       "2950"
      ]
     },
     "execution_count": 79,
     "metadata": {},
     "output_type": "execute_result"
    }
   ],
   "source": [
    "len(scene_pkl['bgsweeporder'])"
   ]
  },
  {
   "cell_type": "code",
   "execution_count": 127,
   "metadata": {},
   "outputs": [
    {
     "ename": "TypeError",
     "evalue": "Expected an input array of unsigned byte data type",
     "output_type": "error",
     "traceback": [
      "\u001b[0;31m---------------------------------------------------------------------------\u001b[0m",
      "\u001b[0;31mTypeError\u001b[0m                                 Traceback (most recent call last)",
      "\u001b[0;32m<ipython-input-127-1efcd8f00749>\u001b[0m in \u001b[0;36m<module>\u001b[0;34m\u001b[0m\n\u001b[0;32m----> 1\u001b[0;31m \u001b[0mchannels_\u001b[0m \u001b[0;34m=\u001b[0m \u001b[0mnp\u001b[0m\u001b[0;34m.\u001b[0m\u001b[0munpackbits\u001b[0m\u001b[0;34m(\u001b[0m\u001b[0mchannel_states\u001b[0m\u001b[0;34m.\u001b[0m\u001b[0mview\u001b[0m\u001b[0;34m(\u001b[0m\u001b[0mnp\u001b[0m\u001b[0;34m.\u001b[0m\u001b[0muint16\u001b[0m\u001b[0;34m)\u001b[0m\u001b[0;34m)\u001b[0m\u001b[0;34m.\u001b[0m\u001b[0mreshape\u001b[0m\u001b[0;34m(\u001b[0m\u001b[0mtimestamps\u001b[0m\u001b[0;34m.\u001b[0m\u001b[0mshape\u001b[0m\u001b[0;34m[\u001b[0m\u001b[0;36m0\u001b[0m\u001b[0;34m]\u001b[0m\u001b[0;34m,\u001b[0m\u001b[0;36m16\u001b[0m\u001b[0;34m)\u001b[0m\u001b[0;34m\u001b[0m\u001b[0;34m\u001b[0m\u001b[0m\n\u001b[0m",
      "\u001b[0;32m<__array_function__ internals>\u001b[0m in \u001b[0;36munpackbits\u001b[0;34m(*args, **kwargs)\u001b[0m\n",
      "\u001b[0;31mTypeError\u001b[0m: Expected an input array of unsigned byte data type"
     ]
    }
   ],
   "source": [
    "channels_ = np.unpackbits(channel_states.view(np.uint16)).reshape(timestamps.shape[0],16)"
   ]
  },
  {
   "cell_type": "code",
   "execution_count": 9,
   "metadata": {},
   "outputs": [
    {
     "data": {
      "text/plain": [
       "<matplotlib.legend.Legend at 0x7fe6b0a8ced0>"
      ]
     },
     "execution_count": 9,
     "metadata": {},
     "output_type": "execute_result"
    },
    {
     "data": {
      "image/png": "[encoded data removed]",
      "text/plain": [
       "<Figure size 432x288 with 1 Axes>"
      ]
     },
     "metadata": {
      "needs_background": "light"
     },
     "output_type": "display_data"
    }
   ],
   "source": [
    "breaks = np.where((np.diff(timestamps))>2)[0]\n",
    "stim_times = {}\n",
    "stim_times['0']= timestamps[:breaks[0]]\n",
    "for i,stim in enumerate(np.arange(len(breaks)-1)):\n",
    "    stim_times[str(i+1)] = timestamps[np.where((np.diff(timestamps))>2)[0][i]:np.where((np.diff(timestamps))>2)[0][i+1]]\n",
    "stim_times[str(len(breaks))]= timestamps[breaks[-1]:]\n",
    "\n",
    "for i in stim_times.keys():\n",
    "    plt.plot(stim_times[i],label=str(i))\n",
    "plt.legend(title='stimulus number')"
   ]
  },
  {
   "cell_type": "code",
   "execution_count": 29,
   "metadata": {},
   "outputs": [],
   "source": [
    "base = '/'\n",
    "for folder in path.split('/')[1:]:\n",
    "    base = base+folder+'/'\n",
    "    if folder[:2] == '20': break\n",
    "stim_path = os.path.join(base,'stim')"
   ]
  },
  {
   "cell_type": "markdown",
   "metadata": {},
   "source": [
    "stimulus order\n",
    "1. gratings orientation\n",
    "2. scene flicker\n",
    "3. arbMatrix highspeed\n",
    "4. arbMatrix color\n"
   ]
  },
  {
   "cell_type": "code",
   "execution_count": 59,
   "metadata": {},
   "outputs": [
    {
     "data": {
      "text/plain": [
       "['/Users/danieljdenman/Desktop/2021-08-16_12-19-00/stim/210816124102-arbMatrix_highspeed-test.pkl',\n",
       " '/Users/danieljdenman/Desktop/2021-08-16_12-19-00/stim/2021-08-16-123458891692.pkl',\n",
       " '/Users/danieljdenman/Desktop/2021-08-16_12-19-00/stim/210816123454-scene_flicker_shuffled-test.pkl',\n",
       " '/Users/danieljdenman/Desktop/2021-08-16_12-19-00/stim/2021-08-16-124712885587color_.pkl']"
      ]
     },
     "execution_count": 59,
     "metadata": {},
     "output_type": "execute_result"
    }
   ],
   "source": [
    "glob.glob(stim_path+'/*')"
   ]
  },
  {
   "cell_type": "code",
   "execution_count": 72,
   "metadata": {},
   "outputs": [
    {
     "data": {
      "text/plain": [
       "(7200, 64, 64)"
      ]
     },
     "execution_count": 72,
     "metadata": {},
     "output_type": "execute_result"
    }
   ],
   "source": [
    "arbMatrix_pkl.shape"
   ]
  },
  {
   "cell_type": "code",
   "execution_count": 100,
   "metadata": {},
   "outputs": [
    {
     "data": {
      "text/plain": [
       "(42376,)"
      ]
     },
     "execution_count": 100,
     "metadata": {},
     "output_type": "execute_result"
    }
   ],
   "source": [
    "stim_times['2'].shape"
   ]
  },
  {
   "cell_type": "code",
   "execution_count": 104,
   "metadata": {},
   "outputs": [
    {
     "data": {
      "text/plain": [
       "(2, 0)"
      ]
     },
     "execution_count": 104,
     "metadata": {},
     "output_type": "execute_result"
    }
   ],
   "source": [
    "np.shape(scene_pkl['droppedframes'])"
   ]
  },
  {
   "cell_type": "code",
   "execution_count": 115,
   "metadata": {},
   "outputs": [
    {
     "data": {
      "text/plain": [
       "2950"
      ]
     },
     "execution_count": 115,
     "metadata": {},
     "output_type": "execute_result"
    }
   ],
   "source": [
    "np.shape(scene_pkl['bgsweeporder'])[0]"
   ]
  },
  {
   "cell_type": "code",
   "execution_count": 82,
   "metadata": {},
   "outputs": [
    {
     "data": {
      "text/plain": [
       "dict_keys(['window', 'params', 'showmouse', 'fps', 'degreemode', 'domain', 'miniwindow', 'script', 'wwidth', 'wheight', 'monitor', 'vsynccount', 'stimuli', 'runs', 'shuffle', 'preexpsec', 'postexpsec', 'postsweepsec', 'sweeplength', 'blanksweeps', 'logdir', 'backupdir', 'mouseid', 'userid', 'nidevice', 'bgcolor', 'syncsqr', 'syncsqrloc', 'syncsqrfreq', 'syncsqrcolorsequence', 'syncpulse', 'syncpulseport', 'syncpulselines', 'trigger', 'triggerdiport', 'triggerdiline', 'savesweeptable', 'eyetracker', 'syncsqrBit', 'sweepsdisplayed', 'errors', 'bgSweep', 'fgSweep', 'bgFrame', 'fgFrame', 'bgsweeptable', 'bgsweeporder', 'bgdimnames', 'fgsweeptable', 'fgsweeporder', 'fgdimnames', 'bgStim', 'fgStim', 'do', 'sweepBit', 'frameBit', 'startdatetime', 'starttime', 'stoptime', 'stopdatetime', 'intervalsms', 'droppedframes', 'scripttext', 'platform', 'vsyncintervals', 'bgsweepframes', 'keys', 'unpickleable'])"
      ]
     },
     "execution_count": 82,
     "metadata": {},
     "output_type": "execute_result"
    }
   ],
   "source": [
    "gratings_pkl.keys()"
   ]
  },
  {
   "cell_type": "code",
   "execution_count": null,
   "metadata": {},
   "outputs": [],
   "source": []
  }
 ],
 "metadata": {
  "kernelspec": {
   "display_name": "Python 3",
   "language": "python",
   "name": "python3"
  },
  "language_info": {
   "codemirror_mode": {
    "name": "ipython",
    "version": 3
   },
   "file_extension": ".py",
   "mimetype": "text/x-python",
   "name": "python",
   "nbconvert_exporter": "python",
   "pygments_lexer": "ipython3",
   "version": "3.7.4"
  }
 },
 "nbformat": 4,
 "nbformat_minor": 4
}
