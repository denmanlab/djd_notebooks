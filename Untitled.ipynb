{
 "cells": [
  {
   "cell_type": "code",
   "execution_count": 1,
   "metadata": {},
   "outputs": [],
   "source": [
    "import sys\n",
    "sys.path.append('/Applications/NEURON-7.7/nrn/lib/python')"
   ]
  },
  {
   "cell_type": "code",
   "execution_count": 2,
   "metadata": {},
   "outputs": [],
   "source": [
    "import numpy as np\n",
    "from bmtk.builder.networks import NetworkBuilder\n",
    "from bmtk.builder.auxi.node_params import positions_columinar, xiter_random"
   ]
  },
  {
   "cell_type": "code",
   "execution_count": 3,
   "metadata": {},
   "outputs": [],
   "source": [
    "import bmtk"
   ]
  },
  {
   "cell_type": "code",
   "execution_count": 4,
   "metadata": {},
   "outputs": [
    {
     "data": {
      "text/plain": [
       "'0.0.8'"
      ]
     },
     "execution_count": 4,
     "metadata": {},
     "output_type": "execute_result"
    }
   ],
   "source": [
    "bmtk.__version__"
   ]
  },
  {
   "cell_type": "code",
   "execution_count": 5,
   "metadata": {},
   "outputs": [],
   "source": [
    "from bmtk.builder.networks import NetworkBuilder"
   ]
  },
  {
   "cell_type": "code",
   "execution_count": 6,
   "metadata": {},
   "outputs": [],
   "source": [
    "from bmtk.utils.sim_setup import build_env_bionet"
   ]
  },
  {
   "cell_type": "code",
   "execution_count": 7,
   "metadata": {},
   "outputs": [],
   "source": [
    "from mpi4py import MPI\n",
    "comm = MPI.COMM_WORLD\n",
    "MPI_RANK = comm.Get_rank()"
   ]
  },
  {
   "cell_type": "markdown",
   "metadata": {},
   "source": [
    "# generate smaller networks from the big network"
   ]
  },
  {
   "cell_type": "code",
   "execution_count": 13,
   "metadata": {},
   "outputs": [],
   "source": [
    "path = '/Users/danieljdenman/Academics/cu/_science/models/V1\\ Network\\ Models\\ from\\ the\\ Allen\\ Institute/Biophysical_network/network/'\n",
    "v1_base = 'v1_nodes'"
   ]
  },
  {
   "cell_type": "code",
   "execution_count": 14,
   "metadata": {},
   "outputs": [],
   "source": [
    "import h5py, os"
   ]
  },
  {
   "cell_type": "code",
   "execution_count": 16,
   "metadata": {},
   "outputs": [
    {
     "ename": "FileNotFoundError",
     "evalue": "[Errno 2] No such file or directory: '/Users/danieljdenman/Academics/cu/_science/models/V1\\\\ Network\\\\ Models\\\\ from\\\\ the\\\\ Allen\\\\ Institute/Biophysical_network/network/v1_nodes.h5'",
     "output_type": "error",
     "traceback": [
      "\u001b[0;31m---------------------------------------------------------------------------\u001b[0m",
      "\u001b[0;31mFileNotFoundError\u001b[0m                         Traceback (most recent call last)",
      "\u001b[0;32m<ipython-input-16-4212e4b74dad>\u001b[0m in \u001b[0;36m<module>\u001b[0;34m\u001b[0m\n\u001b[0;32m----> 1\u001b[0;31m \u001b[0mv1h5\u001b[0m \u001b[0;34m=\u001b[0m \u001b[0mh5py\u001b[0m\u001b[0;34m.\u001b[0m\u001b[0mFile\u001b[0m\u001b[0;34m(\u001b[0m\u001b[0mopen\u001b[0m\u001b[0;34m(\u001b[0m\u001b[0mos\u001b[0m\u001b[0;34m.\u001b[0m\u001b[0mpath\u001b[0m\u001b[0;34m.\u001b[0m\u001b[0mjoin\u001b[0m\u001b[0;34m(\u001b[0m\u001b[0mpath\u001b[0m\u001b[0;34m,\u001b[0m\u001b[0mv1_base\u001b[0m\u001b[0;34m+\u001b[0m\u001b[0;34m'.h5'\u001b[0m\u001b[0;34m)\u001b[0m\u001b[0;34m,\u001b[0m\u001b[0;34m'r'\u001b[0m\u001b[0;34m)\u001b[0m\u001b[0;34m)\u001b[0m\u001b[0;34m\u001b[0m\u001b[0;34m\u001b[0m\u001b[0m\n\u001b[0m",
      "\u001b[0;31mFileNotFoundError\u001b[0m: [Errno 2] No such file or directory: '/Users/danieljdenman/Academics/cu/_science/models/V1\\\\ Network\\\\ Models\\\\ from\\\\ the\\\\ Allen\\\\ Institute/Biophysical_network/network/v1_nodes.h5'"
     ]
    }
   ],
   "source": [
    "v1h5 = h5py.File(open(os.path.join(path,v1_base+'.h5'),'r'))"
   ]
  },
  {
   "cell_type": "code",
   "execution_count": null,
   "metadata": {},
   "outputs": [],
   "source": []
  },
  {
   "cell_type": "code",
   "execution_count": null,
   "metadata": {},
   "outputs": [],
   "source": []
  },
  {
   "cell_type": "code",
   "execution_count": 8,
   "metadata": {},
   "outputs": [],
   "source": [
    "network_dir='sim_v1_dbs/network_debug'"
   ]
  },
  {
   "cell_type": "raw",
   "metadata": {},
   "source": [
    "python -m bmtk.utils.sim_setup  \\\n",
    "   --report-vars v,spikes           \\                             \n",
    "   --network sim_v1_dbs/network_debug     \\                              \n",
    "   --dt 0.05             \\\n",
    "   --tstop 500.0       \\  \n",
    "   --include-examples   \\\n",
    "   --compile-mechanisms \\ \n",
    "   bionet sim_v1_dbs"
   ]
  },
  {
   "cell_type": "code",
   "execution_count": 9,
   "metadata": {},
   "outputs": [],
   "source": [
    "from bmtk.utils.sim_setup import build_env_bionet\n",
    "build_env_bionet(base_dir='sim_v1_dbs',      \n",
    "                 network_dir=network_dir,\n",
    "                 tstop=2000.0, dt=0.01,\n",
    "                 report_vars=['v', 'cai'],     # Record membrane potential and spikes\n",
    "                 include_examples=False,    # Copies components files\n",
    "                 compile_mechanisms=True   # Will try to compile NEURON mechanisms\n",
    "                )"
   ]
  },
  {
   "cell_type": "markdown",
   "metadata": {},
   "source": [
    "manually added the extracellular input to stimulation_config.json"
   ]
  },
  {
   "cell_type": "code",
   "execution_count": 10,
   "metadata": {},
   "outputs": [],
   "source": [
    "from bmtk.simulator.bionet.pyfunction_cache import synaptic_weight"
   ]
  },
  {
   "cell_type": "code",
   "execution_count": 11,
   "metadata": {},
   "outputs": [],
   "source": [
    "@synaptic_weight\n",
    "def DirectionRule_others(edge_props, src_node, trg_node):\n",
    "    nsyn = 1 # edge_props['nsyns']\n",
    "    sigma = edge_props['weight_sigma']\n",
    "    src_tuning = src_node['tuning_angle']\n",
    "    tar_tuning = trg_node['tuning_angle']\n",
    "\n",
    "    delta_tuning_180 = abs(abs((abs(tar_tuning - src_tuning) % 360.0) - 180.0) - 180.0)\n",
    "    w_multiplier_180 = np.exp(-(delta_tuning_180 / sigma) ** 2)\n",
    "    return w_multiplier_180 * edge_props['syn_weight']\n",
    "\n",
    "\n",
    "@synaptic_weight\n",
    "def DirectionRule_EE(edge_props, src_node, trg_node):\n",
    "    nsyn = 1 # edge_props['nsyns']\n",
    "    sigma = edge_props['weight_sigma']\n",
    "\n",
    "    src_tuning = src_node['tuning_angle']\n",
    "    x_src = src_node['x']\n",
    "    z_src = src_node['z']\n",
    "\n",
    "    tar_tuning = trg_node['tuning_angle']\n",
    "    x_tar = trg_node['x']\n",
    "    z_tar = trg_node['z']\n",
    "\n",
    "    delta_tuning_180 = abs(abs((abs(tar_tuning - src_tuning) % 360.0) - 180.0) - 180.0)\n",
    "    w_multiplier_180 = np.exp(-(delta_tuning_180 / sigma) ** 2)\n",
    "\n",
    "    delta_x = (x_tar - x_src) * 0.07\n",
    "    delta_z = (z_tar - z_src) * 0.04\n",
    "\n",
    "    theta_pref = tar_tuning * (np.pi / 180.)\n",
    "    xz = delta_x * np.cos(theta_pref) + delta_z * np.sin(theta_pref)\n",
    "    sigma_phase = 1.0\n",
    "    phase_scale_ratio = np.exp(- (xz ** 2 / (2 * sigma_phase ** 2)))\n",
    "\n",
    "    # To account for the 0.07 vs 0.04 dimensions. This ensures\n",
    "    # the horizontal neurons are scaled by 5.5/4 (from the midpoint\n",
    "    # of 4 & 7). Also, ensures the vertical is scaled by 5.5/7. This\n",
    "    # was a basic linear estimate to get the numbers (y = ax + b).\n",
    "    theta_tar_scale = abs(abs(abs(180.0 - abs(tar_tuning) % 360.0) - 90.0) - 90.0)\n",
    "    phase_scale_ratio = phase_scale_ratio * (5.5 / 4 - 11. / 1680 * theta_tar_scale)\n",
    "\n",
    "    return w_multiplier_180 * phase_scale_ratio * edge_props['syn_weight']\n"
   ]
  },
  {
   "cell_type": "code",
   "execution_count": 9,
   "metadata": {},
   "outputs": [
    {
     "name": "stdout",
     "output_type": "stream",
     "text": [
      "2020-04-30 00:59:36,304 [INFO] Created log file\n",
      "2020-04-30 00:59:36,411 [ERROR] Source node population None not found. Please update v1_to_v1 edges\n",
      "<bmtk.simulator.core.sonata_reader.network_reader.SonataEdges object at 0x7fca38b3ff10>\n",
      "2020-04-30 00:59:36,414 [INFO] Building cells.\n",
      "2020-04-30 00:59:38,388 [INFO] Building recurrent connections\n",
      "2020-04-30 00:59:41,734 [INFO] Running simulation for 3000.000 ms with the time step 0.100 ms\n",
      "2020-04-30 00:59:41,735 [INFO] Starting timestep: 0 at t_sim: 0.000 ms\n",
      "2020-04-30 00:59:41,736 [INFO] Block save every 5000 steps\n",
      "2020-04-30 00:59:41,754 [INFO]     step:5000 t_sim:500.00 ms\n",
      "2020-04-30 00:59:41,822 [INFO]     step:10000 t_sim:1000.00 ms\n",
      "2020-04-30 00:59:41,889 [INFO]     step:15000 t_sim:1500.00 ms\n",
      "2020-04-30 00:59:41,957 [INFO]     step:20000 t_sim:2000.00 ms\n",
      "2020-04-30 00:59:42,028 [INFO]     step:25000 t_sim:2500.00 ms\n",
      "2020-04-30 00:59:42,094 [INFO]     step:30000 t_sim:3000.00 ms\n"
     ]
    },
    {
     "ename": "AttributeError",
     "evalue": "'NoneType' object has no attribute 'close'",
     "output_type": "error",
     "traceback": [
      "\u001b[0;31m---------------------------------------------------------------------------\u001b[0m",
      "\u001b[0;31mAttributeError\u001b[0m                            Traceback (most recent call last)",
      "\u001b[0;32m<ipython-input-9-1d5cecf94307>\u001b[0m in \u001b[0;36m<module>\u001b[0;34m\u001b[0m\n\u001b[1;32m      6\u001b[0m \u001b[0mnet\u001b[0m \u001b[0;34m=\u001b[0m \u001b[0mbionet\u001b[0m\u001b[0;34m.\u001b[0m\u001b[0mBioNetwork\u001b[0m\u001b[0;34m.\u001b[0m\u001b[0mfrom_config\u001b[0m\u001b[0;34m(\u001b[0m\u001b[0mconf\u001b[0m\u001b[0;34m)\u001b[0m\u001b[0;34m\u001b[0m\u001b[0;34m\u001b[0m\u001b[0m\n\u001b[1;32m      7\u001b[0m \u001b[0msim\u001b[0m \u001b[0;34m=\u001b[0m \u001b[0mbionet\u001b[0m\u001b[0;34m.\u001b[0m\u001b[0mBioSimulator\u001b[0m\u001b[0;34m.\u001b[0m\u001b[0mfrom_config\u001b[0m\u001b[0;34m(\u001b[0m\u001b[0mconf\u001b[0m\u001b[0;34m,\u001b[0m \u001b[0mnetwork\u001b[0m\u001b[0;34m=\u001b[0m\u001b[0mnet\u001b[0m\u001b[0;34m)\u001b[0m\u001b[0;34m\u001b[0m\u001b[0;34m\u001b[0m\u001b[0m\n\u001b[0;32m----> 8\u001b[0;31m \u001b[0msim\u001b[0m\u001b[0;34m.\u001b[0m\u001b[0mrun\u001b[0m\u001b[0;34m(\u001b[0m\u001b[0;34m)\u001b[0m\u001b[0;34m\u001b[0m\u001b[0;34m\u001b[0m\u001b[0m\n\u001b[0m",
      "\u001b[0;32m~/opt/anaconda3/envs/nest/lib/python3.7/site-packages/bmtk-0.0.8-py3.7.egg/bmtk/simulator/bionet/biosimulator.py\u001b[0m in \u001b[0;36mrun\u001b[0;34m(self)\u001b[0m\n\u001b[1;32m    245\u001b[0m \u001b[0;34m\u001b[0m\u001b[0m\n\u001b[1;32m    246\u001b[0m         \u001b[0;32mfor\u001b[0m \u001b[0mmod\u001b[0m \u001b[0;32min\u001b[0m \u001b[0mself\u001b[0m\u001b[0;34m.\u001b[0m\u001b[0m_sim_mods\u001b[0m\u001b[0;34m:\u001b[0m\u001b[0;34m\u001b[0m\u001b[0;34m\u001b[0m\u001b[0m\n\u001b[0;32m--> 247\u001b[0;31m             \u001b[0mmod\u001b[0m\u001b[0;34m.\u001b[0m\u001b[0mfinalize\u001b[0m\u001b[0;34m(\u001b[0m\u001b[0mself\u001b[0m\u001b[0;34m)\u001b[0m\u001b[0;34m\u001b[0m\u001b[0;34m\u001b[0m\u001b[0m\n\u001b[0m\u001b[1;32m    248\u001b[0m         \u001b[0mpc\u001b[0m\u001b[0;34m.\u001b[0m\u001b[0mbarrier\u001b[0m\u001b[0;34m(\u001b[0m\u001b[0;34m)\u001b[0m\u001b[0;34m\u001b[0m\u001b[0;34m\u001b[0m\u001b[0m\n\u001b[1;32m    249\u001b[0m \u001b[0;34m\u001b[0m\u001b[0m\n",
      "\u001b[0;32m~/opt/anaconda3/envs/nest/lib/python3.7/site-packages/bmtk-0.0.8-py3.7.egg/bmtk/simulator/bionet/modules/record_cellvars.py\u001b[0m in \u001b[0;36mfinalize\u001b[0;34m(self, sim)\u001b[0m\n\u001b[1;32m    162\u001b[0m         \u001b[0;31m# TODO: Build in mpi signaling into var_recorder\u001b[0m\u001b[0;34m\u001b[0m\u001b[0;34m\u001b[0m\u001b[0;34m\u001b[0m\u001b[0m\n\u001b[1;32m    163\u001b[0m         \u001b[0mpc\u001b[0m\u001b[0;34m.\u001b[0m\u001b[0mbarrier\u001b[0m\u001b[0;34m(\u001b[0m\u001b[0;34m)\u001b[0m\u001b[0;34m\u001b[0m\u001b[0;34m\u001b[0m\u001b[0m\n\u001b[0;32m--> 164\u001b[0;31m         \u001b[0mself\u001b[0m\u001b[0;34m.\u001b[0m\u001b[0m_var_recorder\u001b[0m\u001b[0;34m.\u001b[0m\u001b[0mclose\u001b[0m\u001b[0;34m(\u001b[0m\u001b[0;34m)\u001b[0m\u001b[0;34m\u001b[0m\u001b[0;34m\u001b[0m\u001b[0m\n\u001b[0m\u001b[1;32m    165\u001b[0m \u001b[0;34m\u001b[0m\u001b[0m\n\u001b[1;32m    166\u001b[0m         \u001b[0;31m#pc.barrier()\u001b[0m\u001b[0;34m\u001b[0m\u001b[0;34m\u001b[0m\u001b[0;34m\u001b[0m\u001b[0m\n",
      "\u001b[0;32m~/opt/anaconda3/envs/nest/lib/python3.7/site-packages/bmtk-0.0.8-py3.7.egg/bmtk/utils/reports/compartment/compartment_writer.py\u001b[0m in \u001b[0;36mclose\u001b[0;34m(self)\u001b[0m\n\u001b[1;32m    376\u001b[0m         \u001b[0;32mfor\u001b[0m \u001b[0mpop_grp\u001b[0m \u001b[0;32min\u001b[0m \u001b[0mself\u001b[0m\u001b[0;34m.\u001b[0m\u001b[0m_pop_tables\u001b[0m\u001b[0;34m.\u001b[0m\u001b[0mvalues\u001b[0m\u001b[0;34m(\u001b[0m\u001b[0;34m)\u001b[0m\u001b[0;34m:\u001b[0m\u001b[0;34m\u001b[0m\u001b[0;34m\u001b[0m\u001b[0m\n\u001b[1;32m    377\u001b[0m             \u001b[0mpop_grp\u001b[0m\u001b[0;34m.\u001b[0m\u001b[0mclose\u001b[0m\u001b[0;34m(\u001b[0m\u001b[0;34m)\u001b[0m\u001b[0;34m\u001b[0m\u001b[0;34m\u001b[0m\u001b[0m\n\u001b[0;32m--> 378\u001b[0;31m         \u001b[0mself\u001b[0m\u001b[0;34m.\u001b[0m\u001b[0m_h5_handle\u001b[0m\u001b[0;34m.\u001b[0m\u001b[0mclose\u001b[0m\u001b[0;34m(\u001b[0m\u001b[0;34m)\u001b[0m\u001b[0;34m\u001b[0m\u001b[0;34m\u001b[0m\u001b[0m\n\u001b[0m\u001b[1;32m    379\u001b[0m         \u001b[0;32mif\u001b[0m \u001b[0mself\u001b[0m\u001b[0;34m.\u001b[0m\u001b[0m_mpi_size\u001b[0m \u001b[0;34m>\u001b[0m \u001b[0;36m1\u001b[0m\u001b[0;34m:\u001b[0m\u001b[0;34m\u001b[0m\u001b[0;34m\u001b[0m\u001b[0m\n\u001b[1;32m    380\u001b[0m             \u001b[0mself\u001b[0m\u001b[0;34m.\u001b[0m\u001b[0mmerge\u001b[0m\u001b[0;34m(\u001b[0m\u001b[0;34m)\u001b[0m\u001b[0;34m\u001b[0m\u001b[0;34m\u001b[0m\u001b[0m\n",
      "\u001b[0;31mAttributeError\u001b[0m: 'NoneType' object has no attribute 'close'"
     ]
    }
   ],
   "source": [
    "from bmtk.simulator import bionet\n",
    "\n",
    "\n",
    "conf = bionet.Config.from_json('sim_v1_dbs/simulation_config_debug.json')\n",
    "conf.build_env()\n",
    "net = bionet.BioNetwork.from_config(conf)\n",
    "sim = bionet.BioSimulator.from_config(conf, network=net)\n",
    "sim.run()"
   ]
  },
  {
   "cell_type": "code",
   "execution_count": null,
   "metadata": {},
   "outputs": [],
   "source": []
  }
 ],
 "metadata": {
  "kernelspec": {
   "display_name": "Python 3",
   "language": "python",
   "name": "python3"
  },
  "language_info": {
   "codemirror_mode": {
    "name": "ipython",
    "version": 3
   },
   "file_extension": ".py",
   "mimetype": "text/x-python",
   "name": "python",
   "nbconvert_exporter": "python",
   "pygments_lexer": "ipython3",
   "version": "3.7.6"
  }
 },
 "nbformat": 4,
 "nbformat_minor": 4
}
