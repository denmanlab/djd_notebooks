{
 "cells": [
  {
   "cell_type": "code",
   "execution_count": 1,
   "metadata": {},
   "outputs": [],
   "source": [
    "import sys\n",
    "sys.path.append('/Applications/NEURON-7.7/nrn/lib/python')"
   ]
  },
  {
   "cell_type": "code",
   "execution_count": 2,
   "metadata": {},
   "outputs": [],
   "source": [
    "import numpy as np\n",
    "from bmtk.builder.networks import NetworkBuilder\n",
    "from bmtk.builder.auxi.node_params import positions_columinar, xiter_random"
   ]
  },
  {
   "cell_type": "code",
   "execution_count": 3,
   "metadata": {},
   "outputs": [],
   "source": [
    "import bmtk"
   ]
  },
  {
   "cell_type": "code",
   "execution_count": 4,
   "metadata": {},
   "outputs": [
    {
     "data": {
      "text/plain": [
       "'0.0.8'"
      ]
     },
     "execution_count": 4,
     "metadata": {},
     "output_type": "execute_result"
    }
   ],
   "source": [
    "bmtk.__version__"
   ]
  },
  {
   "cell_type": "code",
   "execution_count": 5,
   "metadata": {},
   "outputs": [],
   "source": [
    "from bmtk.builder.networks import NetworkBuilder"
   ]
  },
  {
   "cell_type": "code",
   "execution_count": 6,
   "metadata": {},
   "outputs": [],
   "source": [
    "from bmtk.utils.sim_setup import build_env_bionet"
   ]
  },
  {
   "cell_type": "code",
   "execution_count": 7,
   "metadata": {},
   "outputs": [],
   "source": [
    "from mpi4py import MPI\n",
    "comm = MPI.COMM_WORLD\n",
    "MPI_RANK = comm.Get_rank()"
   ]
  },
  {
   "cell_type": "code",
   "execution_count": null,
   "metadata": {},
   "outputs": [],
   "source": []
  },
  {
   "cell_type": "markdown",
   "metadata": {},
   "source": [
    "## example tutorial"
   ]
  },
  {
   "cell_type": "code",
   "execution_count": 7,
   "metadata": {},
   "outputs": [],
   "source": [
    "cortex = NetworkBuilder('mcortex')\n",
    "cortex.add_nodes(N=100,\n",
    "                 pop_name='Scnn1a',\n",
    "                 positions=positions_columinar(N=100, center=[0, 50.0, 0], max_radius=30.0, height=100.0),\n",
    "                 rotation_angle_yaxis=xiter_random(N=100, min_x=0.0, max_x=2*np.pi),\n",
    "                 rotation_angle_zaxis=3.646878266,\n",
    "                 potental='exc',\n",
    "                 model_type='biophysical',\n",
    "                 model_template='ctdb:Biophys1.hoc',\n",
    "                 model_processing='aibs_perisomatic',\n",
    "                 dynamics_params='472363762_fit.json',\n",
    "                 morphology='Scnn1a_473845048_m.swc')"
   ]
  },
  {
   "cell_type": "code",
   "execution_count": 8,
   "metadata": {},
   "outputs": [
    {
     "data": {
      "text/plain": [
       "<bmtk.builder.connection_map.ConnectionMap at 0x7f8778228f90>"
      ]
     },
     "execution_count": 8,
     "metadata": {},
     "output_type": "execute_result"
    }
   ],
   "source": [
    "from bmtk.builder.auxi.edge_connectors import distance_connector\n",
    "\n",
    "cortex.add_edges(source={'pop_name': 'Scnn1a'}, target={'pop_name': 'Scnn1a'},\n",
    "                 connection_rule=distance_connector,\n",
    "                 connection_params={'d_weight_min': 0.0, 'd_weight_max': 0.34, 'd_max': 50.0, 'nsyn_min': 0, 'nsyn_max': 10},\n",
    "                 syn_weight=2.0e-04,\n",
    "                 distance_range=[30.0, 150.0],\n",
    "                 target_sections=['basal', 'apical', 'soma'],\n",
    "                 delay=2.0,\n",
    "                 dynamics_params='AMPA_ExcToExc.json',\n",
    "                 model_template='exp2syn')"
   ]
  },
  {
   "cell_type": "code",
   "execution_count": 9,
   "metadata": {},
   "outputs": [],
   "source": [
    "cortex.build()\n",
    "cortex.save_nodes(output_dir='sim_ch03b/network')\n",
    "cortex.save_edges(output_dir='sim_ch03b/network')"
   ]
  },
  {
   "cell_type": "code",
   "execution_count": 10,
   "metadata": {},
   "outputs": [],
   "source": [
    "\n",
    "thalamus = NetworkBuilder('mthalamus')\n",
    "thalamus.add_nodes(N=10,\n",
    "                   pop_name='tON',\n",
    "                   potential='exc',\n",
    "                   model_type='virtual')"
   ]
  },
  {
   "cell_type": "code",
   "execution_count": 11,
   "metadata": {},
   "outputs": [],
   "source": [
    "from bmtk.builder.auxi.edge_connectors import connect_random\n",
    "\n",
    "thalamus.add_edges(source=thalamus.nodes(), target=cortex.nodes(),\n",
    "                   connection_rule=connect_random,\n",
    "                   connection_params={'nsyn_min': 0, 'nsyn_max': 12},\n",
    "                   syn_weight=1.0e-04,\n",
    "                   distance_range=[0.0, 150.0],\n",
    "                   target_sections=['basal', 'apical'],\n",
    "                   delay=2.0,\n",
    "                   dynamics_params='AMPA_ExcToExc.json',\n",
    "                   model_template='exp2syn')\n",
    "\n",
    "thalamus.build()\n",
    "thalamus.save_nodes(output_dir='sim_ch03b/network')\n",
    "thalamus.save_edges(output_dir='sim_ch03b/network')"
   ]
  },
  {
   "cell_type": "code",
   "execution_count": 12,
   "metadata": {},
   "outputs": [],
   "source": [
    "thalamus.build()\n",
    "thalamus.save_nodes(output_dir='sim_ch03b/network')\n",
    "thalamus.save_edges(output_dir='sim_ch03b/network')"
   ]
  },
  {
   "cell_type": "code",
   "execution_count": 13,
   "metadata": {},
   "outputs": [
    {
     "data": {
      "text/html": [
       "<div>\n",
       "<style scoped>\n",
       "    .dataframe tbody tr th:only-of-type {\n",
       "        vertical-align: middle;\n",
       "    }\n",
       "\n",
       "    .dataframe tbody tr th {\n",
       "        vertical-align: top;\n",
       "    }\n",
       "\n",
       "    .dataframe thead th {\n",
       "        text-align: right;\n",
       "    }\n",
       "</style>\n",
       "<table border=\"1\" class=\"dataframe\">\n",
       "  <thead>\n",
       "    <tr style=\"text-align: right;\">\n",
       "      <th></th>\n",
       "      <th>node_ids</th>\n",
       "      <th>timestamps</th>\n",
       "      <th>population</th>\n",
       "    </tr>\n",
       "  </thead>\n",
       "  <tbody>\n",
       "    <tr>\n",
       "      <th>0</th>\n",
       "      <td>0</td>\n",
       "      <td>0.043627</td>\n",
       "      <td>mthalamus</td>\n",
       "    </tr>\n",
       "    <tr>\n",
       "      <th>1</th>\n",
       "      <td>0</td>\n",
       "      <td>0.081996</td>\n",
       "      <td>mthalamus</td>\n",
       "    </tr>\n",
       "    <tr>\n",
       "      <th>2</th>\n",
       "      <td>0</td>\n",
       "      <td>0.172986</td>\n",
       "      <td>mthalamus</td>\n",
       "    </tr>\n",
       "    <tr>\n",
       "      <th>3</th>\n",
       "      <td>0</td>\n",
       "      <td>0.191200</td>\n",
       "      <td>mthalamus</td>\n",
       "    </tr>\n",
       "    <tr>\n",
       "      <th>4</th>\n",
       "      <td>0</td>\n",
       "      <td>0.207965</td>\n",
       "      <td>mthalamus</td>\n",
       "    </tr>\n",
       "    <tr>\n",
       "      <th>...</th>\n",
       "      <td>...</td>\n",
       "      <td>...</td>\n",
       "      <td>...</td>\n",
       "    </tr>\n",
       "    <tr>\n",
       "      <th>8950</th>\n",
       "      <td>99</td>\n",
       "      <td>2.879825</td>\n",
       "      <td>mthalamus</td>\n",
       "    </tr>\n",
       "    <tr>\n",
       "      <th>8951</th>\n",
       "      <td>99</td>\n",
       "      <td>2.879996</td>\n",
       "      <td>mthalamus</td>\n",
       "    </tr>\n",
       "    <tr>\n",
       "      <th>8952</th>\n",
       "      <td>99</td>\n",
       "      <td>2.920838</td>\n",
       "      <td>mthalamus</td>\n",
       "    </tr>\n",
       "    <tr>\n",
       "      <th>8953</th>\n",
       "      <td>99</td>\n",
       "      <td>2.923929</td>\n",
       "      <td>mthalamus</td>\n",
       "    </tr>\n",
       "    <tr>\n",
       "      <th>8954</th>\n",
       "      <td>99</td>\n",
       "      <td>2.929515</td>\n",
       "      <td>mthalamus</td>\n",
       "    </tr>\n",
       "  </tbody>\n",
       "</table>\n",
       "<p>8955 rows × 3 columns</p>\n",
       "</div>"
      ],
      "text/plain": [
       "      node_ids  timestamps population\n",
       "0            0    0.043627  mthalamus\n",
       "1            0    0.081996  mthalamus\n",
       "2            0    0.172986  mthalamus\n",
       "3            0    0.191200  mthalamus\n",
       "4            0    0.207965  mthalamus\n",
       "...        ...         ...        ...\n",
       "8950        99    2.879825  mthalamus\n",
       "8951        99    2.879996  mthalamus\n",
       "8952        99    2.920838  mthalamus\n",
       "8953        99    2.923929  mthalamus\n",
       "8954        99    2.929515  mthalamus\n",
       "\n",
       "[8955 rows x 3 columns]"
      ]
     },
     "execution_count": 13,
     "metadata": {},
     "output_type": "execute_result"
    }
   ],
   "source": [
    "from bmtk.utils.reports.spike_trains import PoissonSpikeGenerator\n",
    "\n",
    "psg = PoissonSpikeGenerator(population='mthalamus')\n",
    "psg.add(node_ids=range(100),  # Have 10 nodes to match mthalamus\n",
    "        firing_rate=30.0,    # 15 Hz, we can also pass in a nonhomoegenous function/array\n",
    "        times=(0.0, 3.0))    # Firing starts at 0 s up to 3 s\n",
    "psg.to_sonata('sim_ch03b/inputs/mthalamus_spikes.h5')\n",
    "\n",
    "# Let's do a quick check that we have reasonable results. Should see somewhere on the order of 15*3*100 = 4500\n",
    "# spikes\n",
    "psg.to_dataframe()"
   ]
  },
  {
   "cell_type": "raw",
   "metadata": {},
   "source": [
    "python -m bmtk.utils.sim_setup  \\\n",
    "   --report-vars v,cai            \\                             \n",
    "   --network sim_ch03b/network     \\                              \n",
    "   --spikes-inputs mthalamus:sim_ch03b/inputs/mthalamus_spikes.h5 \\\n",
    "   --dt 0.1             \\\n",
    "   --tstop 3000.0       \\  \n",
    "   --include-examples   \\\n",
    "   --compile-mechanisms \\ \n",
    "   bionet sim_ch03b"
   ]
  },
  {
   "cell_type": "code",
   "execution_count": 8,
   "metadata": {},
   "outputs": [],
   "source": [
    "from bmtk.utils.sim_setup import build_env_bionet\n",
    "\n",
    "build_env_bionet(base_dir='sim_ch03b',      \n",
    "                 network_dir='sim_ch03b/network',\n",
    "                 tstop=3000.0, dt=0.1,\n",
    "                 report_vars=['v', 'cai'],     # Record membrane potential and calcium (default soma)\n",
    "                 spikes_inputs=[('mthalamus',   # Name of population which spikes will be generated for\n",
    "                                'sim_ch03b/inputs/mthalamus_spikes.h5')],\n",
    "                 include_examples=True,    # Copies components files\n",
    "                 compile_mechanisms=True   # Will try to compile NEURON mechanisms\n",
    "                )"
   ]
  },
  {
   "cell_type": "code",
   "execution_count": 9,
   "metadata": {},
   "outputs": [
    {
     "name": "stdout",
     "output_type": "stream",
     "text": [
      "2020-04-30 00:53:55,029 [INFO] Created log file\n"
     ]
    },
    {
     "name": "stderr",
     "output_type": "stream",
     "text": [
      "INFO:NEURONIOUtils:Created log file\n"
     ]
    },
    {
     "name": "stdout",
     "output_type": "stream",
     "text": [
      "2020-04-30 00:53:55,326 [INFO] Building cells.\n"
     ]
    },
    {
     "name": "stderr",
     "output_type": "stream",
     "text": [
      "INFO:NEURONIOUtils:Building cells.\n"
     ]
    },
    {
     "name": "stdout",
     "output_type": "stream",
     "text": [
      "2020-04-30 00:54:03,802 [INFO] Building recurrent connections\n"
     ]
    },
    {
     "name": "stderr",
     "output_type": "stream",
     "text": [
      "INFO:NEURONIOUtils:Building recurrent connections\n"
     ]
    },
    {
     "name": "stdout",
     "output_type": "stream",
     "text": [
      "2020-04-30 00:54:04,371 [INFO] Building virtual cell stimulations for mthalamus_spikes\n"
     ]
    },
    {
     "name": "stderr",
     "output_type": "stream",
     "text": [
      "INFO:NEURONIOUtils:Building virtual cell stimulations for mthalamus_spikes\n"
     ]
    },
    {
     "name": "stdout",
     "output_type": "stream",
     "text": [
      "2020-04-30 00:54:07,066 [INFO] Running simulation for 3000.000 ms with the time step 0.100 ms\n"
     ]
    },
    {
     "name": "stderr",
     "output_type": "stream",
     "text": [
      "INFO:NEURONIOUtils:Running simulation for 3000.000 ms with the time step 0.100 ms\n"
     ]
    },
    {
     "name": "stdout",
     "output_type": "stream",
     "text": [
      "2020-04-30 00:54:07,067 [INFO] Starting timestep: 0 at t_sim: 0.000 ms\n"
     ]
    },
    {
     "name": "stderr",
     "output_type": "stream",
     "text": [
      "INFO:NEURONIOUtils:Starting timestep: 0 at t_sim: 0.000 ms\n"
     ]
    },
    {
     "name": "stdout",
     "output_type": "stream",
     "text": [
      "2020-04-30 00:54:07,069 [INFO] Block save every 5000 steps\n"
     ]
    },
    {
     "name": "stderr",
     "output_type": "stream",
     "text": [
      "INFO:NEURONIOUtils:Block save every 5000 steps\n"
     ]
    },
    {
     "name": "stdout",
     "output_type": "stream",
     "text": [
      "2020-04-30 00:54:25,375 [INFO]     step:5000 t_sim:500.00 ms\n"
     ]
    },
    {
     "name": "stderr",
     "output_type": "stream",
     "text": [
      "INFO:NEURONIOUtils:    step:5000 t_sim:500.00 ms\n"
     ]
    },
    {
     "name": "stdout",
     "output_type": "stream",
     "text": [
      "2020-04-30 00:54:46,793 [INFO]     step:10000 t_sim:1000.00 ms\n"
     ]
    },
    {
     "name": "stderr",
     "output_type": "stream",
     "text": [
      "INFO:NEURONIOUtils:    step:10000 t_sim:1000.00 ms\n"
     ]
    },
    {
     "name": "stdout",
     "output_type": "stream",
     "text": [
      "2020-04-30 00:55:09,358 [INFO]     step:15000 t_sim:1500.00 ms\n"
     ]
    },
    {
     "name": "stderr",
     "output_type": "stream",
     "text": [
      "INFO:NEURONIOUtils:    step:15000 t_sim:1500.00 ms\n"
     ]
    },
    {
     "name": "stdout",
     "output_type": "stream",
     "text": [
      "2020-04-30 00:55:32,140 [INFO]     step:20000 t_sim:2000.00 ms\n"
     ]
    },
    {
     "name": "stderr",
     "output_type": "stream",
     "text": [
      "INFO:NEURONIOUtils:    step:20000 t_sim:2000.00 ms\n"
     ]
    },
    {
     "name": "stdout",
     "output_type": "stream",
     "text": [
      "2020-04-30 00:56:06,121 [INFO]     step:25000 t_sim:2500.00 ms\n"
     ]
    },
    {
     "name": "stderr",
     "output_type": "stream",
     "text": [
      "INFO:NEURONIOUtils:    step:25000 t_sim:2500.00 ms\n"
     ]
    },
    {
     "name": "stdout",
     "output_type": "stream",
     "text": [
      "2020-04-30 00:56:40,623 [INFO]     step:30000 t_sim:3000.00 ms\n"
     ]
    },
    {
     "name": "stderr",
     "output_type": "stream",
     "text": [
      "INFO:NEURONIOUtils:    step:30000 t_sim:3000.00 ms\n"
     ]
    },
    {
     "name": "stdout",
     "output_type": "stream",
     "text": [
      "2020-04-30 00:56:40,642 [INFO] Simulation completed in 2.0 minutes, 33.58 seconds \n"
     ]
    },
    {
     "name": "stderr",
     "output_type": "stream",
     "text": [
      "INFO:NEURONIOUtils:Simulation completed in 2.0 minutes, 33.58 seconds \n"
     ]
    }
   ],
   "source": [
    "from bmtk.simulator import bionet\n",
    "\n",
    "\n",
    "conf = bionet.Config.from_json('sim_ch03b/simulation_config.json')\n",
    "conf.build_env()\n",
    "net = bionet.BioNetwork.from_config(conf)\n",
    "sim = bionet.BioSimulator.from_config(conf, network=net)\n",
    "sim.run()"
   ]
  },
  {
   "cell_type": "code",
   "execution_count": 16,
   "metadata": {},
   "outputs": [],
   "source": [
    "# from bmtk.analyzer.spike_trains import plot_raster\n",
    "\n",
    "# plot_raster(config_file='sim_ch03b/output/simulation_config.json')"
   ]
  },
  {
   "cell_type": "code",
   "execution_count": 17,
   "metadata": {},
   "outputs": [
    {
     "name": "stderr",
     "output_type": "stream",
     "text": [
      "/Users/danieljdenman/opt/anaconda3/envs/nest/lib/python3.7/site-packages/bmtk-0.0.8-py3.7.egg/bmtk/simulator/utils/config.py:4: UserWarning: Please use bmtk.simulator.core.simulation_config instead.\n",
      "  warnings.warn('Please use bmtk.simulator.core.simulation_config instead.')\n"
     ]
    },
    {
     "data": {
      "image/png": "[encoded data removed]",
      "text/plain": [
       "<Figure size 432x288 with 1 Axes>"
      ]
     },
     "metadata": {
      "needs_background": "light"
     },
     "output_type": "display_data"
    },
    {
     "data": {
      "image/png": "[encoded data removed]",
      "text/plain": [
       "<Figure size 432x288 with 1 Axes>"
      ]
     },
     "metadata": {
      "needs_background": "light"
     },
     "output_type": "display_data"
    }
   ],
   "source": [
    "from bmtk.analyzer.cell_vars import plot_report\n",
    "\n",
    "plot_report(config_file='sim_ch03b/output/simulation_config.json', node_ids=[0, 49, 99])"
   ]
  },
  {
   "cell_type": "code",
   "execution_count": null,
   "metadata": {},
   "outputs": [],
   "source": []
  },
  {
   "cell_type": "markdown",
   "metadata": {},
   "source": [
    "# use yazan's big mouse v1 model"
   ]
  },
  {
   "cell_type": "markdown",
   "metadata": {},
   "source": [
    "a raw cell, for executing the below from the command line to set up the json to call to run the simulation"
   ]
  },
  {
   "cell_type": "raw",
   "metadata": {},
   "source": [
    "python -m bmtk.utils.sim_setup  \\\n",
    "   --report-vars v            \\                             \n",
    "   --network /Users/danieljdenman/Academics/cu/_science/models/V1\\ Network\\ Models\\ from\\ the\\ Allen\\ Institute/Biophysical_network/network     \\                              \n",
    "   --dt 0.01            \\\n",
    "   --tstop 500.0       \\  \n",
    "   --include-examples   \\\n",
    "   --compile-mechanisms \\ \n",
    "   bionet sim_v1_dbs"
   ]
  },
  {
   "cell_type": "markdown",
   "metadata": {},
   "source": [
    "remake the full network into a tiny one for debugging"
   ]
  },
  {
   "cell_type": "code",
   "execution_count": 23,
   "metadata": {},
   "outputs": [],
   "source": [
    "network_dir='/Users/danieljdenman/Academics/cu/_science/models/V1\\ Network\\ Models\\ from\\ the\\ Allen\\ Institute/Biophysical_network/network'\n",
    "n_v1_cells = 2309"
   ]
  },
  {
   "cell_type": "code",
   "execution_count": 12,
   "metadata": {},
   "outputs": [],
   "source": [
    "import h5py as h5\n",
    "import glob,os,sys\n",
    "import matplotlib.pyplot as plt"
   ]
  },
  {
   "cell_type": "code",
   "execution_count": 13,
   "metadata": {},
   "outputs": [],
   "source": [
    "config_h5s = {}\n",
    "for f in glob.glob(network_dir+'/*.h5'):\n",
    "    config_h5s[os.path.basename(f).strip('.h5')] = h5.File(f)\n"
   ]
  },
  {
   "cell_type": "code",
   "execution_count": 18,
   "metadata": {},
   "outputs": [
    {
     "name": "stderr",
     "output_type": "stream",
     "text": [
      "/Users/danieljdenman/opt/anaconda3/envs/nest/lib/python3.7/site-packages/ipykernel_launcher.py:1: H5pyDeprecationWarning: The default file mode will change to 'r' (read-only) in h5py 3.0. To suppress this warning, pass the mode you need to h5py.File(), or set the global default h5.get_config().default_file_mode, or set the environment variable H5PY_DEFAULT_READONLY=1. Available modes are: 'r', 'r+', 'w', 'w-'/'x', 'a'. See the docs for details.\n",
      "  \"\"\"Entry point for launching an IPython kernel.\n"
     ]
    }
   ],
   "source": [
    "f = h5.File('/Users/danieljdenman/Desktop/v1_nodes.h5')"
   ]
  },
  {
   "cell_type": "code",
   "execution_count": 32,
   "metadata": {},
   "outputs": [
    {
     "name": "stdout",
     "output_type": "stream",
     "text": [
      "[1, 19, 56, 150, 298, 315, 484, 742, 810, 841, 1103, 1159, 1235, 1295, 1307, 1414, 1417, 1585, 1638, 2070, 2425, 2527, 2629, 2836, 2969, 3030, 3158, 3262, 3292, 3534, 3627, 3686, 3714, 3852, 4089, 4091, 4225, 4295, 4323, 4582, 4701, 4975, 4999, 5064, 5086, 5394, 5408, 5747, 5953, 6071, 6386, 6756, 6965, 7136, 7290, 7308, 7355, 7623, 7753, 7765, 8043, 8072, 8159, 8441, 8628, 8708, 8815, 8865, 8966, 9058, 9096, 9102, 9171, 9333, 9491, 9613, 9775, 9923, 9937, 10137, 10166, 10195, 10392, 10467, 10561, 10604, 10670, 10741, 10782, 10813, 10919, 10953, 11092, 11113, 11150, 11211, 11299, 11319, 11492, 11509, 11665, 11753, 11774, 11811, 11824, 11973, 12359, 12432, 12505, 12623, 12625, 12677, 12738, 13306, 13434, 13537, 13590, 13643, 13668, 13684, 13982, 14051, 14250, 14283, 14314, 14557, 14656, 14680, 14719, 14731, 15016, 15179, 15204, 15223, 15262, 15678, 15746, 15802, 15943, 15944, 16143, 16205, 16420, 16571, 16621, 16754, 16960, 17007, 17012, 17175, 17283, 17311, 17327, 17352, 17460, 17519, 17698, 17749, 17772, 17849, 17909, 17951, 18045, 18047, 18200, 18267, 18371, 18464, 18520, 18687, 18691, 18750, 18772, 19003, 19305, 19349, 19393, 19495, 19633, 19690, 19711, 19728, 19999, 20159, 20252, 20252, 20303, 20467, 20622, 20634, 20987, 20993, 20994, 21020, 21463, 21483, 21539, 21669, 21708, 21729, 22060, 22096, 22488, 22488, 22511, 22521, 22599, 22832, 22850, 22875, 22936, 23064, 23298, 23305, 23309, 23318, 23328, 23354, 23718, 23749, 24239, 24354, 24458, 24492, 24688, 24737, 24790, 24863, 24908, 25055, 25228, 25274, 25282, 25286, 25394, 25417, 25441, 25511, 25573, 25725, 25806, 26011, 26144, 26154, 26174, 26268, 26490, 26605, 26606, 27070, 27283, 27303, 27308, 27393, 27652, 27725, 27733, 27890, 28062, 28310, 28314, 28573, 28738, 28811, 28889, 28939, 29225, 29288, 29372, 29459, 29532, 29564, 29805, 29857, 30133, 30190, 30317, 30327, 30363, 30458, 30535, 30688, 30840, 30844, 30943, 30980, 31276, 31367, 31417, 31417, 31444, 31697, 31721, 32006, 32135, 32250, 32305, 32319, 32329, 32447, 32541, 32618, 32723, 32923, 33018, 33024, 33104, 33253, 33408, 33413, 33509, 33547, 33609, 33799, 33913, 33978, 34086, 34103, 34137, 34172, 34174, 34254, 34484, 34514, 34615, 34683, 35005, 35168, 35173, 35198, 35341, 35398, 35417, 35678, 35705, 35720, 35824, 35853, 35885, 36362, 36399, 36413, 36659, 36758, 36762, 36789, 36820, 36851, 36952, 36993, 37166, 37221, 37275, 37371, 37525, 37849, 37867, 37874, 38047, 38071, 38309, 38346, 38379, 38412, 38424, 38426, 38719, 38834, 38847, 38866, 39017, 39021, 39067, 39206, 39213, 39279, 39318, 39333, 39372, 39594, 39711, 39716, 39944, 40020, 40395, 40479, 40486, 40682, 40887, 40896, 40910, 40915, 41063, 41163, 41191, 41358, 41372, 41487, 41561, 41936, 42118, 42196, 42247, 42453, 42459, 42598, 42776, 42835, 42956, 43010, 43112, 43196, 43204, 43214, 43301, 43438, 43468, 43497, 43568, 43718, 43759, 43767, 43810, 43968, 44035, 44049, 44057, 44083, 44153, 44227, 44272, 44388, 44401, 44511, 44573, 44577, 44588, 44599, 44666, 44724, 44831, 44860, 44899, 44951, 45005, 45055, 45163, 45253, 45276, 45289, 45404, 45418, 45491, 45611, 45728, 45850, 45873, 46020, 46026, 46036, 46046, 46284, 46460, 46467, 46625, 46764, 47070, 47093, 47152, 47193, 47278, 47405, 47538, 47615, 47631, 47666, 47755, 47934, 47984, 48029, 48109, 48136, 48161, 48257, 48263, 48312, 48562, 48763, 48790, 48919, 48950, 49009, 49142, 49220, 49227, 49344, 49374, 49416, 49518, 49634, 49962, 50112, 50158, 50166, 50562, 50750, 50817, 50887, 51213, 51400, 51517, 51779, 51816, 51871, 52085, 52117, 52248, 52258, 52276, 52488, 52689, 52775, 52789, 52943, 52948, 52976, 52980, 53043, 53096, 53203, 53256, 53376, 53530, 53552, 53590, 53752, 53776, 53800, 53905, 53951, 53986, 54059, 54086, 54152, 54291, 54367, 54388, 54394, 54606, 54798, 54856, 54920, 54975, 55113, 55260, 55282, 55525, 55920, 55988, 56161, 56211, 56259, 56334, 56342, 56345, 56368, 56605, 56765, 57025, 57055, 57060, 57118, 57246, 57387, 57502, 57534, 57559, 57602, 57994, 58278, 58366, 58595, 58778, 58901, 58988, 59029, 59071, 59135, 59208, 59251, 59348, 59607, 59621, 59666, 59731, 59854, 59975, 60056, 60063, 60116, 60164, 60356, 60370, 60470, 60558, 60643, 60832, 60911, 60944, 60989, 60997, 61014, 61043, 61092, 61160, 61477, 61758, 61790, 61824, 61825, 61895, 61935, 61968, 61983, 62002, 62116, 62491, 62507, 62621, 62639, 62736, 62828, 63036, 63037, 63052, 63275, 63387, 63409, 63409, 63569, 63683, 63688, 63756, 63886, 64117, 64190, 64295, 64317, 64488, 64517, 64581, 64665, 64676, 64676, 64900, 65133, 65181, 65195, 65199, 65306, 65380, 65421, 65447, 65536, 65635, 65685, 65934, 66068, 66191, 66303, 66450, 66705, 66725, 66806, 66881, 66897, 67028, 67036, 67069, 67146, 67147, 67198, 67254, 67440, 67516, 67576, 67702, 67861, 67960, 68084, 68097, 68590, 68719, 68763, 68764, 68787, 68801, 68811, 68860, 69184, 69259, 69321, 69335, 69549, 69601, 69685, 69707, 69753, 69864, 69999, 70000, 70011, 70194, 70218, 70233, 70474, 70532, 70665, 70693, 70775, 70818, 70833, 71307, 71345, 71473, 71599, 71639, 71688, 71720, 71763, 71763, 72008, 72216, 72318, 72480, 72507, 72509, 72697, 72796, 72841, 73008, 73133, 73454, 73491, 73536, 73670, 73738, 73871, 73889, 73985, 74067, 74146, 74398, 74407, 74519, 74522, 74550, 74657, 74667, 74717, 74721, 74820, 74822, 75250, 75257, 75287, 75316, 75560, 75640, 75735, 75825, 75845, 75904, 75975, 76156, 76281, 76357, 76436, 76834, 76896, 77152, 77169, 77282, 77349, 77401, 77402, 77456, 77492, 77508, 77576, 77685, 77731, 77925, 77940, 78006, 78237, 78413, 78433, 78517, 78569, 78650, 78688, 78760, 78843, 78941, 78955, 79015, 79200, 79246, 79272, 79297, 79311, 79378, 79597, 79950, 79979, 80208, 80243, 80392, 80417, 80433, 80462, 80475, 80588, 81026, 81038, 81051, 81128, 81142, 81325, 81326, 81344, 81344, 81740, 81890, 81971, 82161, 82276, 82524, 82720, 82735, 82741, 82764, 82889, 82924, 83034, 83051, 83234, 83326, 83349, 83411, 84007, 84114, 84220, 84288, 84466, 84489, 84653, 84752, 84788, 84848, 84944, 85041, 85042, 85065, 85107, 85133, 85162, 85171, 85209, 85412, 85458, 85497, 85518, 85803, 85853, 85871, 85888, 85979, 86127, 86153, 86228, 86341, 86354, 86380, 86416, 86418, 86632, 86678, 86811, 87020, 87196, 87214, 87225, 87260, 87329, 87331, 87399, 87634, 87785, 87805, 87813, 87848, 87855, 88489, 88585, 88700, 88908, 89059, 89092, 89206, 89308, 89396, 89479, 89484, 89493, 89619, 89930, 90045, 90064, 90099, 90179, 90258, 90302, 90503, 90529, 90531, 90592, 90757, 90851, 90921, 91097, 91166, 91371, 91504, 91524, 91625, 91674, 91727, 91765, 91956, 92002, 92123, 92171, 92230, 92244, 92444, 92631, 92656, 92752, 92866, 92964, 93037, 93049, 93261, 93520, 93520, 93613, 93708, 93933, 93965, 93991, 94013, 94153, 94312, 94683, 94902, 95018, 95090, 95134, 95142, 95162, 95686, 95861, 96000, 96030, 96083, 96114, 96357, 96425, 96442, 96548, 96694, 96792, 96816, 96864, 96948, 97069, 97082, 97177, 97178, 97185, 97288, 97296, 97517, 97660, 97676, 97901, 97936, 98101, 98185, 98227, 98251, 98295, 98500, 98820, 98867, 99010, 99111, 99137, 99173, 99259, 99287, 99289, 99294, 99350, 99542, 99545, 99587, 99685, 99841, 99994, 100069, 100206, 100249, 100647, 100656, 100774, 100785, 100940, 101053, 101076, 101089, 101154, 101387, 101475, 101749, 101861, 101880, 101911, 101944, 101954, 102053, 102114, 102243, 102250, 102304, 102384, 102397, 102612, 102729, 102822, 102940, 103314, 103327, 103445, 103910, 104081, 104177, 104232, 104296, 104317, 104442, 104651, 104732, 104782, 104795, 104921, 104958, 105054, 105275, 105366, 105408, 105463, 105806, 105825, 106097, 106179, 106382, 106386, 106529, 106553, 106591, 106713, 106730, 106799, 106923, 107040, 107158, 107168, 107316, 107564, 107657, 107760, 107808, 108062, 108074, 108078, 108079, 108144, 108236, 108619, 108669, 108686, 108853, 108989, 109135, 109223, 109322, 109327, 109427, 109428, 109545, 109623, 109675, 109779, 109829, 109830, 109857, 109919, 110034, 110042, 110280, 110434, 110668, 110708, 110740, 110780, 110863, 110922, 110980, 111007, 111020, 111125, 111154, 111304, 111629, 111818, 111855, 111935, 112176, 112228, 112258, 112313, 112348, 112385, 112470, 112824, 112894, 112897, 113016, 113063, 113130, 113272, 113398, 113425, 113564, 113678, 113778, 113822, 114091, 114221, 114297, 114346, 114441, 114473, 114676, 114768, 114793, 114811, 114849, 115349, 115432, 115479, 115495, 115554, 115555, 115712, 115823, 116015, 116138, 116166, 116218, 116287, 116404, 116438, 116534, 116575, 116700, 116799, 116811, 116836, 116837, 116851, 116854, 116873, 117190, 117297, 117383, 117565, 117650, 117712, 117760, 117975, 118139, 118369, 118414, 118435, 118475, 118542, 118695, 118780, 118918, 118946, 119289, 119345, 119362, 119434, 119529, 119534, 119583, 119609, 119615, 119646, 119739, 119756, 119816, 119867, 120026, 120123, 120436, 120548, 120724, 120965, 121144, 121149, 121154, 121328, 121436, 121482, 121581, 121601, 121727, 121754, 121787, 121979, 122019, 122078, 122207, 122358, 122427, 122549, 122592, 122608, 122618, 122834, 122895, 123045, 123055, 123071, 123152, 123256, 123271, 123322, 123381, 123386, 123430, 123497, 123502, 123627, 123649, 123876, 124080, 124111, 124120, 124139, 124173, 124294, 124298, 124336, 124477, 124575, 124982, 124989, 125030, 125452, 125484, 125598, 125600, 125669, 125691, 125706, 125750, 125770, 125781, 125920, 126057, 126326, 126474, 126491, 126562, 126706, 126816, 126837, 126918, 127387, 127486, 127523, 127530, 127537, 127549, 127637, 127727, 127734, 127781, 127828, 128369, 128491, 128847, 128958, 128975, 129048, 129056, 129058, 129173, 129239, 129341, 129697, 129699, 129854, 130003, 130017, 130213, 130301, 130331, 130400, 130445, 130491, 130587, 130753, 130828, 130955, 131263, 131294, 131354, 131496, 131618, 131789, 132039, 132041, 132155, 132182, 132384, 132440, 132507, 132583, 132671, 132721, 132848, 132934, 132993, 133042, 133046, 133321, 133334, 133460, 133511, 133515, 133925, 134169, 134209, 134384, 134402, 134622, 134689, 134769, 134979, 135131, 135217, 135595, 135802, 135842, 136025, 136028, 136159, 136203, 136327, 136534, 136568, 136594, 136638, 136674, 136744, 136799, 136801, 137126, 137262, 137263, 137387, 137397, 137470, 137524, 137590, 137775, 137847, 137974, 138128, 138590, 138781, 139024, 139344, 139528, 139547, 139563, 139671, 139693, 139725, 139725, 139815, 140008, 140111, 140159, 140260, 140354, 140358, 140525, 140554, 140733, 140839, 140960, 141020, 141069, 141090, 141146, 141321, 141371, 141437, 141579, 141636, 141664, 141672, 141845, 141848, 142012, 142286, 142383, 142567, 142765, 142812, 142880, 142898, 143008, 143040, 143107, 143119, 143225, 143268, 143536, 143880, 144022, 144159, 144210, 144320, 144391, 144505, 144515, 144542, 144607, 144627, 144639, 144718, 144813, 144952, 145046, 145159, 145271, 145361, 145695, 145738, 145754, 145763, 145827, 145904, 146012, 146098, 146174, 146227, 146290, 146444, 146537, 146577, 146728, 146837, 146851, 146873, 147042, 147095, 147131, 147163, 147261, 147289, 147368, 147431, 147474, 147558, 147761, 147914, 148128, 148134, 148277, 148311, 148331, 148503, 148552, 148746, 148954, 149009, 149039, 149147, 149149, 149162, 149188, 149467, 149501, 149530, 149584, 149799, 150216, 150291, 150397, 150475, 150485, 150610, 150626, 150981, 151051, 151062, 151065, 151101, 151190, 151213, 151214, 151302, 151501, 151529, 151734, 151739, 151968, 152046, 152086, 152144, 152731, 152732, 152815, 152817, 153432, 153457, 153535, 153945, 154038, 154361, 154464, 154843, 154903, 155151, 155210, 155262, 155515, 155596, 155801, 155808, 155829, 155868, 155909, 155945, 156011, 156033, 156094, 156131, 156171, 156206, 156457, 156678, 156865, 156902, 156998, 157042, 157151, 157277, 157278, 157396, 157577, 157689, 158040, 158122, 158442, 158677, 159013, 159018, 159205, 159291, 159309, 159566, 159597, 159667, 159675, 159804, 159904, 160045, 160075, 160160, 160183, 160266, 160324, 160502, 160866, 160892, 160957, 161060, 161063, 161315, 161339, 161439, 161501, 161590, 161608, 161662, 161677, 161693, 161730, 161742, 161834, 162019, 162068, 162118, 162275, 162303, 162480, 162537, 162910, 162957, 162978, 163117, 163161, 163283, 163449, 163613, 163690, 163730, 163779, 163789, 163832, 163915, 163948, 164025, 164059, 164102, 164171, 164212, 164372, 164412, 164426, 164442, 164442, 164452, 164648, 164655, 165150, 165269, 165304, 165697, 165812, 166221, 166235, 166276, 166370, 166392, 166526, 166927, 166936, 166943, 166965, 166970, 166988, 167054, 167087, 167089, 167121, 167192, 167210, 167278, 167308, 167503, 167507, 167827, 167835, 168209, 168334, 168396, 168403, 168581, 168637, 168648, 168653, 168720, 168890, 168906, 169076, 169221, 169311, 169502, 169626, 169684, 169866, 169914, 169965, 170174, 170180, 170274, 170574, 170670, 170695, 170726, 170754, 170754, 170880, 171001, 171191, 171361, 171377, 171388, 171396, 171403, 171885, 171892, 171989, 172173, 172248, 172294, 172334, 172357, 172590, 172699, 172832, 172956, 173031, 173164, 173218, 173276, 173336, 173571, 173673, 173809, 173824, 173999, 174008, 174253, 174356, 174454, 174488, 174493, 174666, 174765, 174805, 174983, 175025, 175114, 175199, 175212, 175315, 175476, 175477, 175489, 175491, 175624, 175874, 175908, 175952, 175982, 176183, 176214, 176568, 176629, 176639, 176663, 176736, 176839, 176916, 177018, 177072, 177131, 177157, 177300, 177308, 177350, 177393, 177433, 177438, 177629, 177949, 177984, 178057, 178284, 178311, 178419, 178471, 178485, 178507, 178548, 178822, 178835, 178836, 178884, 179024, 179051, 179083, 179149, 179172, 179461, 179486, 179765, 179883, 179924, 179938, 179960, 180133, 180151, 180173, 180297, 180516, 180631, 180665, 180831, 180849, 181005, 181013, 181159, 181373, 181392, 181407, 181814, 181837, 181895, 181955, 182196, 182222, 182260, 182540, 182699, 182768, 182861, 183027, 183134, 183158, 183241, 183295, 183322, 183399, 183527, 183551, 183620, 183774, 183853, 184104, 184134, 184214, 184224, 184341, 184430, 184470, 184692, 184856, 184936, 185025, 185148, 185239, 185359, 185571, 185773, 185892, 185894, 186407, 186759, 186837, 186843, 186949, 187192, 187255, 187362, 187781, 187932, 187954, 187979, 188025, 188206, 188215, 188400, 188442, 188584, 188594, 188597, 188816, 188840, 189008, 189353, 189416, 189581, 189608, 189616, 189728, 189745, 189774, 189858, 189931, 190159, 190280, 190356, 190481, 190570, 190633, 190655, 190734, 191077, 191385, 191543, 191552, 191582, 191603, 191693, 191845, 191860, 191913, 192299, 192482, 192545, 192638, 192725, 192782, 192895, 193000, 193088, 193093, 193094, 193186, 193295, 193391, 193413, 193623, 193877, 193900, 193970, 194056, 194164, 194165, 194213, 194425, 194472, 194656, 194695, 194762, 194820, 194967, 194975, 195036, 195065, 195095, 195174, 195265, 195456, 195595, 195882, 195984, 195999, 196353, 196360, 196641, 196662, 196986, 197074, 197093, 197141, 197195, 197314, 197411, 197473, 197885, 198143, 198350, 198509, 198685, 198748, 199077, 199171, 199353, 199664, 199752, 199768, 199837, 199947, 200071, 200106, 200412, 200425, 200445, 200502, 200633, 200654, 200681, 200717, 200944, 201054, 201224, 201353, 201392, 201402, 201448, 201571, 201767, 201982, 202129, 202135, 202301, 202443, 202473, 202803, 202820, 202843, 203056, 203315, 203344, 203440, 203519, 203552, 203562, 203606, 203729, 203842, 203981, 203981, 204142, 204156, 204187, 204234, 204345, 204391, 204560, 204683, 204713, 204908, 204938, 204992, 205022, 205051, 205051, 205124, 205140, 205391, 205407, 205420, 205483, 205535, 205542, 205833, 206021, 206081, 206196, 206287, 206317, 206769, 207022, 207153, 207233, 207447, 207649, 207688, 207697, 207863, 208008, 208134, 208227, 208268, 208372, 208427, 208505, 208509, 208796, 208831, 208856, 208932, 208961, 208964, 209450, 209509, 209546, 209627, 209634, 209711, 209853, 209855, 209946, 210180, 210187, 210225, 210256, 210488, 210527, 210586, 210595, 211159, 211178, 211192, 211244, 211321, 211401, 211481, 211542, 211555, 211567, 211640, 211709, 211814, 211835, 211886, 211953, 212108, 212326, 212353, 212382, 212407, 212910, 213034, 213139, 213182, 213326, 213565, 213585, 213740, 213893, 214083, 214164, 214165, 214779, 214853, 214950, 215011, 215082, 215187, 215195, 215226, 215572, 215616, 215632, 215810, 215850, 215895, 215929, 216177, 216195, 216212, 216254, 216294, 216301, 216480, 216556, 216623, 216752, 216868, 217189, 217410, 217516, 217533, 217808, 217815, 217863, 217950, 217994, 218100, 218131, 218302, 218414, 218524, 218547, 218675, 218759, 218803, 219034, 219129, 219279, 219411, 219417, 219576, 219579, 219708, 219744, 219907, 219965, 219989, 220005, 220055, 220089, 220434, 220471, 220591, 220745, 220797, 220829, 220895, 220945, 220990, 221171, 221372, 221375, 221525, 221746, 221783, 221861, 221880, 221927, 221977, 221996, 222148, 222166, 222194, 222202, 222380, 222720, 222802, 222810, 222949, 223007, 223087, 223092, 223151, 223208, 223574, 223579, 223593, 223597, 223693, 223840, 223863, 224011, 224113, 224182, 224208, 224377, 224433, 224522, 224673, 224733, 224769, 224864, 224883, 224978, 224979, 224980, 225002, 225045, 225151, 225182, 225360, 225695, 225780, 225859, 225884, 225889, 225949, 226100, 226150, 226220, 226305, 226399, 226411, 226585, 226614, 226952, 227065, 227095, 227363, 227465, 227618, 227724, 227871, 227886, 228017, 228124, 228131, 228216, 228365, 228396, 228405, 228503, 228631, 228684, 228745, 229033, 229121, 229432, 229450, 229676, 229711, 229958, 230049, 230140, 230341, 230407, 230422, 230555, 230604]\n"
     ]
    }
   ],
   "source": [
    "print(d_v1_node_ids.tolist())"
   ]
  },
  {
   "cell_type": "code",
   "execution_count": 24,
   "metadata": {},
   "outputs": [],
   "source": [
    "d_v1_node_ids = np.sort(np.random.randint(0,230923,n_v1_cells))\n",
    "# d_v1_node_ids = np.arange(2000)"
   ]
  },
  {
   "cell_type": "code",
   "execution_count": 29,
   "metadata": {},
   "outputs": [],
   "source": [
    "d_v1_node_ids.tofile('/Users/danieljdenman/Desktop/random01percent.npy')"
   ]
  },
  {
   "cell_type": "code",
   "execution_count": 21,
   "metadata": {},
   "outputs": [],
   "source": [
    "import numpy as np"
   ]
  },
  {
   "cell_type": "code",
   "execution_count": 16,
   "metadata": {},
   "outputs": [
    {
     "ename": "OSError",
     "evalue": "Unable to create file (unable to open file: name = '/Users/danieljdenman/github/djd_notebooks/sim_v1_dbs/network_debug/v1_nodes_debug.h5', errno = 2, error message = 'No such file or directory', flags = 13, o_flags = 602)",
     "output_type": "error",
     "traceback": [
      "\u001b[0;31m---------------------------------------------------------------------------\u001b[0m",
      "\u001b[0;31mOSError\u001b[0m                                   Traceback (most recent call last)",
      "\u001b[0;32m<ipython-input-16-230f5ff2699c>\u001b[0m in \u001b[0;36m<module>\u001b[0;34m\u001b[0m\n\u001b[0;32m----> 1\u001b[0;31m \u001b[0mf2\u001b[0m \u001b[0;34m=\u001b[0m \u001b[0mh5\u001b[0m\u001b[0;34m.\u001b[0m\u001b[0mFile\u001b[0m\u001b[0;34m(\u001b[0m\u001b[0mos\u001b[0m\u001b[0;34m.\u001b[0m\u001b[0mpath\u001b[0m\u001b[0;34m.\u001b[0m\u001b[0mjoin\u001b[0m\u001b[0;34m(\u001b[0m\u001b[0mos\u001b[0m\u001b[0;34m.\u001b[0m\u001b[0mgetcwd\u001b[0m\u001b[0;34m(\u001b[0m\u001b[0;34m)\u001b[0m\u001b[0;34m,\u001b[0m\u001b[0mnetwork_dir\u001b[0m\u001b[0;34m)\u001b[0m\u001b[0;34m+\u001b[0m\u001b[0;34m'/v1_nodes_debug.h5'\u001b[0m\u001b[0;34m,\u001b[0m\u001b[0;34m'w'\u001b[0m\u001b[0;34m)\u001b[0m\u001b[0;34m\u001b[0m\u001b[0;34m\u001b[0m\u001b[0m\n\u001b[0m\u001b[1;32m      2\u001b[0m \u001b[0mg\u001b[0m \u001b[0;34m=\u001b[0m \u001b[0mf2\u001b[0m\u001b[0;34m.\u001b[0m\u001b[0mcreate_group\u001b[0m\u001b[0;34m(\u001b[0m\u001b[0;34m'nodes'\u001b[0m\u001b[0;34m)\u001b[0m\u001b[0;34m\u001b[0m\u001b[0;34m\u001b[0m\u001b[0m\n\u001b[1;32m      3\u001b[0m \u001b[0mgg\u001b[0m \u001b[0;34m=\u001b[0m \u001b[0mg\u001b[0m\u001b[0;34m.\u001b[0m\u001b[0mcreate_group\u001b[0m\u001b[0;34m(\u001b[0m\u001b[0;34m'v1'\u001b[0m\u001b[0;34m)\u001b[0m\u001b[0;34m\u001b[0m\u001b[0;34m\u001b[0m\u001b[0m\n\u001b[1;32m      4\u001b[0m \u001b[0mggg\u001b[0m \u001b[0;34m=\u001b[0m \u001b[0mgg\u001b[0m\u001b[0;34m.\u001b[0m\u001b[0mcreate_group\u001b[0m\u001b[0;34m(\u001b[0m\u001b[0;34m'0'\u001b[0m\u001b[0;34m)\u001b[0m\u001b[0;34m\u001b[0m\u001b[0;34m\u001b[0m\u001b[0m\n",
      "\u001b[0;32m~/opt/anaconda3/envs/nest/lib/python3.7/site-packages/h5py-2.10.0-py3.7-macosx-10.9-x86_64.egg/h5py/_hl/files.py\u001b[0m in \u001b[0;36m__init__\u001b[0;34m(self, name, mode, driver, libver, userblock_size, swmr, rdcc_nslots, rdcc_nbytes, rdcc_w0, track_order, **kwds)\u001b[0m\n\u001b[1;32m    406\u001b[0m                 fid = make_fid(name, mode, userblock_size,\n\u001b[1;32m    407\u001b[0m                                \u001b[0mfapl\u001b[0m\u001b[0;34m,\u001b[0m \u001b[0mfcpl\u001b[0m\u001b[0;34m=\u001b[0m\u001b[0mmake_fcpl\u001b[0m\u001b[0;34m(\u001b[0m\u001b[0mtrack_order\u001b[0m\u001b[0;34m=\u001b[0m\u001b[0mtrack_order\u001b[0m\u001b[0;34m)\u001b[0m\u001b[0;34m,\u001b[0m\u001b[0;34m\u001b[0m\u001b[0;34m\u001b[0m\u001b[0m\n\u001b[0;32m--> 408\u001b[0;31m                                swmr=swmr)\n\u001b[0m\u001b[1;32m    409\u001b[0m \u001b[0;34m\u001b[0m\u001b[0m\n\u001b[1;32m    410\u001b[0m             \u001b[0;32mif\u001b[0m \u001b[0misinstance\u001b[0m\u001b[0;34m(\u001b[0m\u001b[0mlibver\u001b[0m\u001b[0;34m,\u001b[0m \u001b[0mtuple\u001b[0m\u001b[0;34m)\u001b[0m\u001b[0;34m:\u001b[0m\u001b[0;34m\u001b[0m\u001b[0;34m\u001b[0m\u001b[0m\n",
      "\u001b[0;32m~/opt/anaconda3/envs/nest/lib/python3.7/site-packages/h5py-2.10.0-py3.7-macosx-10.9-x86_64.egg/h5py/_hl/files.py\u001b[0m in \u001b[0;36mmake_fid\u001b[0;34m(name, mode, userblock_size, fapl, fcpl, swmr)\u001b[0m\n\u001b[1;32m    177\u001b[0m         \u001b[0mfid\u001b[0m \u001b[0;34m=\u001b[0m \u001b[0mh5f\u001b[0m\u001b[0;34m.\u001b[0m\u001b[0mcreate\u001b[0m\u001b[0;34m(\u001b[0m\u001b[0mname\u001b[0m\u001b[0;34m,\u001b[0m \u001b[0mh5f\u001b[0m\u001b[0;34m.\u001b[0m\u001b[0mACC_EXCL\u001b[0m\u001b[0;34m,\u001b[0m \u001b[0mfapl\u001b[0m\u001b[0;34m=\u001b[0m\u001b[0mfapl\u001b[0m\u001b[0;34m,\u001b[0m \u001b[0mfcpl\u001b[0m\u001b[0;34m=\u001b[0m\u001b[0mfcpl\u001b[0m\u001b[0;34m)\u001b[0m\u001b[0;34m\u001b[0m\u001b[0;34m\u001b[0m\u001b[0m\n\u001b[1;32m    178\u001b[0m     \u001b[0;32melif\u001b[0m \u001b[0mmode\u001b[0m \u001b[0;34m==\u001b[0m \u001b[0;34m'w'\u001b[0m\u001b[0;34m:\u001b[0m\u001b[0;34m\u001b[0m\u001b[0;34m\u001b[0m\u001b[0m\n\u001b[0;32m--> 179\u001b[0;31m         \u001b[0mfid\u001b[0m \u001b[0;34m=\u001b[0m \u001b[0mh5f\u001b[0m\u001b[0;34m.\u001b[0m\u001b[0mcreate\u001b[0m\u001b[0;34m(\u001b[0m\u001b[0mname\u001b[0m\u001b[0;34m,\u001b[0m \u001b[0mh5f\u001b[0m\u001b[0;34m.\u001b[0m\u001b[0mACC_TRUNC\u001b[0m\u001b[0;34m,\u001b[0m \u001b[0mfapl\u001b[0m\u001b[0;34m=\u001b[0m\u001b[0mfapl\u001b[0m\u001b[0;34m,\u001b[0m \u001b[0mfcpl\u001b[0m\u001b[0;34m=\u001b[0m\u001b[0mfcpl\u001b[0m\u001b[0;34m)\u001b[0m\u001b[0;34m\u001b[0m\u001b[0;34m\u001b[0m\u001b[0m\n\u001b[0m\u001b[1;32m    180\u001b[0m     \u001b[0;32melif\u001b[0m \u001b[0mmode\u001b[0m \u001b[0;34m==\u001b[0m \u001b[0;34m'a'\u001b[0m\u001b[0;34m:\u001b[0m\u001b[0;34m\u001b[0m\u001b[0;34m\u001b[0m\u001b[0m\n\u001b[1;32m    181\u001b[0m         \u001b[0;31m# Open in append mode (read/write).\u001b[0m\u001b[0;34m\u001b[0m\u001b[0;34m\u001b[0m\u001b[0;34m\u001b[0m\u001b[0m\n",
      "\u001b[0;32mh5py/_objects.pyx\u001b[0m in \u001b[0;36mh5py._objects.with_phil.wrapper\u001b[0;34m()\u001b[0m\n",
      "\u001b[0;32mh5py/_objects.pyx\u001b[0m in \u001b[0;36mh5py._objects.with_phil.wrapper\u001b[0;34m()\u001b[0m\n",
      "\u001b[0;32mh5py/h5f.pyx\u001b[0m in \u001b[0;36mh5py.h5f.create\u001b[0;34m()\u001b[0m\n",
      "\u001b[0;31mOSError\u001b[0m: Unable to create file (unable to open file: name = '/Users/danieljdenman/github/djd_notebooks/sim_v1_dbs/network_debug/v1_nodes_debug.h5', errno = 2, error message = 'No such file or directory', flags = 13, o_flags = 602)"
     ]
    }
   ],
   "source": [
    "f2 = h5.File(os.path.join(os.getcwd(),network_dir)+'/v1_nodes_debug.h5','w')\n",
    "g = f2.create_group('nodes')\n",
    "gg = g.create_group('v1')\n",
    "ggg = gg.create_group('0')"
   ]
  },
  {
   "cell_type": "code",
   "execution_count": 17,
   "metadata": {},
   "outputs": [
    {
     "name": "stdout",
     "output_type": "stream",
     "text": [
      "0\n",
      "(5,)\n",
      "node_group_id\n",
      "(230924,)\n",
      "node_group_index\n",
      "(230924,)\n",
      "node_id\n",
      "(230924,)\n",
      "node_type_id\n",
      "(230924,)\n"
     ]
    }
   ],
   "source": [
    "for k in list (config_h5s['v1_nodes']['nodes']['v1'].keys()):\n",
    "    print(k)\n",
    "    print(np.shape(np.array(config_h5s['v1_nodes']['nodes']['v1'][k])))\n",
    "    if 'node' in k:\n",
    "        f2['nodes']['v1'].create_dataset(k, (d_v1_node_ids.shape[0],),  maxshape=( (None )),dtype=config_h5s['v1_nodes']['nodes']['v1'][k].dtype)\n",
    "        f2['nodes']['v1'][k][:] = config_h5s['v1_nodes']['nodes']['v1'][k][d_v1_node_ids]\n",
    "    else: \n",
    "        if k == '0':\n",
    "            for kk in list (config_h5s['v1_nodes']['nodes']['v1'][k].keys()):\n",
    "                f2['nodes']['v1']['0'].create_dataset(kk, (d_v1_node_ids.shape[0],),  maxshape=( (None )),dtype=config_h5s['v1_nodes']['nodes']['v1']['0'][kk].dtype)\n",
    "                f2['nodes']['v1']['0'][kk][:] = config_h5s['v1_nodes']['nodes']['v1']['0'][kk][d_v1_node_ids]\n",
    "        else:\n",
    "            config_h5s['v1_nodes']['nodes']['v1'].copy(k,f2['nodes']['v1'])\n",
    "        "
   ]
  },
  {
   "cell_type": "code",
   "execution_count": 18,
   "metadata": {},
   "outputs": [],
   "source": [
    "sources  = np.isin(np.array(config_h5s['v1_v1_edges']['edges']['v1_to_v1']['source_node_id']),d_v1_node_ids)\n",
    "targets  = np.isin(np.array(config_h5s['v1_v1_edges']['edges']['v1_to_v1']['target_node_id']),d_v1_node_ids)\n",
    "d_v1_edge_ids = np.argwhere(np.logical_and(sources,targets)==1).flatten()"
   ]
  },
  {
   "cell_type": "code",
   "execution_count": 19,
   "metadata": {},
   "outputs": [],
   "source": [
    "f2 = h5.File(os.path.join(os.getcwd(),network_dir)+'/v1_v1_edges_debug.h5','w')\n",
    "g = f2.create_group('edges')\n",
    "gg = g.create_group('v1_to_v1')\n",
    "gg1 = gg.create_group('0')\n",
    "gg2 = gg.create_group('indicies')\n",
    "gg21= gg2.create_group('source_to_target')\n",
    "gg22= gg2.create_group('target_to_source')"
   ]
  },
  {
   "cell_type": "code",
   "execution_count": 20,
   "metadata": {},
   "outputs": [
    {
     "name": "stdout",
     "output_type": "stream",
     "text": [
      "0\n",
      "edge_group_id\n",
      "(70139111,)\n",
      "edge_group_index\n",
      "(70139111,)\n",
      "edge_type_id\n",
      "(70139111,)\n",
      "indicies\n",
      "(2,)\n",
      "source_node_id\n",
      "(70139111,)\n",
      "target_node_id\n",
      "(70139111,)\n"
     ]
    }
   ],
   "source": [
    "for k in list (config_h5s['v1_v1_edges']['edges']['v1_to_v1'].keys()):\n",
    "    print(k)\n",
    "    try:    print(np.shape(np.array(config_h5s['v1_v1_edges']['edges']['v1_to_v1'][k])))\n",
    "    except: pass\n",
    "    if 'node' in k:\n",
    "        f2['edges']['v1_to_v1'].create_dataset(k, (d_v1_edge_ids.shape[0],),  maxshape=( (None )),dtype=config_h5s['v1_v1_edges']['edges']['v1_to_v1'][k].dtype)\n",
    "        f2['edges']['v1_to_v1'][k][:] = config_h5s['v1_v1_edges']['edges']['v1_to_v1'][k][d_v1_edge_ids]\n",
    "    else:\n",
    "        if 'edge' in k:\n",
    "            f2['edges']['v1_to_v1'].create_dataset(k, (d_v1_edge_ids.shape[0],),  maxshape=( (None )),dtype=config_h5s['v1_v1_edges']['edges']['v1_to_v1'][k].dtype)\n",
    "            f2['edges']['v1_to_v1'][k][:] = config_h5s['v1_v1_edges']['edges']['v1_to_v1'][k][d_v1_edge_ids]\n",
    "        else: \n",
    "            if k == '0':\n",
    "                for kk in list (config_h5s['v1_v1_edges']['edges']['v1_to_v1'][k].keys()):\n",
    "                    f2['edges']['v1_to_v1']['0'].create_dataset(kk, (d_v1_edge_ids.shape[0],),  maxshape=( (None )),dtype=config_h5s['v1_v1_edges']['edges']['v1_to_v1']['0'][kk].dtype)\n",
    "                    f2['edges']['v1_to_v1']['0'][kk][:] = config_h5s['v1_v1_edges']['edges']['v1_to_v1']['0'][kk][d_v1_edge_ids]\n",
    "\n",
    "k='source_to_target'\n",
    "kk='node_id_to_range'\n",
    "f2['edges']['v1_to_v1']['indicies'][k].create_dataset(kk, (d_v1_node_ids.shape[0],2),  maxshape=( (None )),dtype=config_h5s['v1_v1_edges']['edges']['v1_to_v1']['indicies'][k][kk].dtype)\n",
    "f2['edges']['v1_to_v1']['indicies'][k][kk][:] = config_h5s['v1_v1_edges']['edges']['v1_to_v1']['indicies'][k][kk][d_v1_node_ids,:]\n",
    "kk='range_to_edge_id'\n",
    "f2['edges']['v1_to_v1']['indicies'][k].create_dataset(kk, (d_v1_edge_ids.shape[0],2),  maxshape=( (None )),dtype=config_h5s['v1_v1_edges']['edges']['v1_to_v1']['indicies'][k][kk].dtype)\n",
    "f2['edges']['v1_to_v1']['indicies'][k][kk][:] = config_h5s['v1_v1_edges']['edges']['v1_to_v1']['indicies'][k][kk][d_v1_edge_ids,:]\n",
    "\n",
    "k='target_to_source'\n",
    "kk='node_id_to_range'\n",
    "f2['edges']['v1_to_v1']['indicies'][k].create_dataset(kk, (d_v1_node_ids.shape[0],2),  maxshape=( (None )),dtype=config_h5s['v1_v1_edges']['edges']['v1_to_v1']['indicies'][k][kk].dtype)\n",
    "f2['edges']['v1_to_v1']['indicies'][k][kk][:] = config_h5s['v1_v1_edges']['edges']['v1_to_v1']['indicies'][k][kk][d_v1_node_ids,:]\n",
    "kk='range_to_edge_id'\n",
    "f2['edges']['v1_to_v1']['indicies'][k].create_dataset(kk, (d_v1_node_ids.shape[0],2),  maxshape=( (None )),dtype=config_h5s['v1_v1_edges']['edges']['v1_to_v1']['indicies'][k][kk].dtype)\n",
    "f2['edges']['v1_to_v1']['indicies'][k][kk][:] = config_h5s['v1_v1_edges']['edges']['v1_to_v1']['indicies'][k][kk][d_v1_node_ids,:]\n"
   ]
  },
  {
   "cell_type": "code",
   "execution_count": 21,
   "metadata": {},
   "outputs": [],
   "source": [
    "f2.close()"
   ]
  },
  {
   "cell_type": "code",
   "execution_count": 30,
   "metadata": {},
   "outputs": [
    {
     "data": {
      "text/plain": [
       "<KeysViewHDF5 []>"
      ]
     },
     "execution_count": 30,
     "metadata": {},
     "output_type": "execute_result"
    }
   ],
   "source": [
    "f2['edges']['v1_to_v1']['indicies']['source_to_target'].keys()"
   ]
  },
  {
   "cell_type": "code",
   "execution_count": null,
   "metadata": {},
   "outputs": [],
   "source": [
    "config_h5s['bkg_v1_edges']['edges']['bkg_to_v1'].keys()"
   ]
  },
  {
   "cell_type": "code",
   "execution_count": 31,
   "metadata": {},
   "outputs": [],
   "source": [
    "targets  = np.isin(np.array(config_h5s['bkg_v1_edges']['edges']['bkg_to_v1']['target_node_id']),d_v1_node_ids)\n",
    "d_bkg_edge_ids = np.argwhere(targets==1).flatten()"
   ]
  },
  {
   "cell_type": "code",
   "execution_count": 32,
   "metadata": {},
   "outputs": [],
   "source": [
    "f2 = h5.File(os.path.join(os.getcwd(),network_dir)+'/bkg_v1_edges_debug.h5','w')\n",
    "g = f2.create_group('edges')\n",
    "gg = g.create_group('bkg_to_v1')"
   ]
  },
  {
   "cell_type": "code",
   "execution_count": 33,
   "metadata": {},
   "outputs": [
    {
     "name": "stdout",
     "output_type": "stream",
     "text": [
      "0\n",
      "edge_group_id\n",
      "(230924,)\n",
      "edge_group_index\n",
      "(230924,)\n",
      "edge_type_id\n",
      "(230924,)\n",
      "indicies\n",
      "(2,)\n",
      "source_node_id\n",
      "(230924,)\n",
      "target_node_id\n",
      "(230924,)\n"
     ]
    }
   ],
   "source": [
    "for k in list (config_h5s['bkg_v1_edges']['edges']['bkg_to_v1'].keys()):\n",
    "    print(k)\n",
    "    try:    print(np.shape(np.array(config_h5s['bkg_v1_edges']['edges']['bkg_to_v1'][k])))\n",
    "    except: pass\n",
    "    if 'node' in k:\n",
    "        f2['edges']['bkg_to_v1'].create_dataset(k, (d_bkg_edge_ids.shape[0],),  maxshape=( (None )),dtype=config_h5s['bkg_v1_edges']['edges']['bkg_to_v1'][k].dtype)\n",
    "        f2['edges']['bkg_to_v1'][k][:] = config_h5s['bkg_v1_edges']['edges']['bkg_to_v1'][k][d_bkg_edge_ids]\n",
    "    else:\n",
    "        if 'edge' in k:\n",
    "            f2['edges']['bkg_to_v1'].create_dataset(k, (d_bkg_edge_ids.shape[0],),  maxshape=( (None )),dtype=config_h5s['bkg_v1_edges']['edges']['bkg_to_v1'][k].dtype)\n",
    "            f2['edges']['bkg_to_v1'][k][:] = config_h5s['bkg_v1_edges']['edges']['bkg_to_v1'][k][d_bkg_edge_ids]\n",
    "        else: \n",
    "            config_h5s['bkg_v1_edges']['edges']['bkg_to_v1'].copy(k,f2['edges']['bkg_to_v1'])"
   ]
  },
  {
   "cell_type": "code",
   "execution_count": 44,
   "metadata": {},
   "outputs": [],
   "source": [
    "f2.close()"
   ]
  },
  {
   "cell_type": "code",
   "execution_count": 34,
   "metadata": {},
   "outputs": [],
   "source": [
    "targets  = np.isin(np.array(config_h5s['lgn_v1_edges']['edges']['lgn_to_v1']['target_node_id']),d_v1_node_ids)\n",
    "d_lgn_edge_ids = np.argwhere(targets==1).flatten()"
   ]
  },
  {
   "cell_type": "code",
   "execution_count": 35,
   "metadata": {},
   "outputs": [],
   "source": [
    "f2 = h5.File(os.path.join(os.getcwd(),network_dir)+'/lgn_v1_edges_debug.h5','w')\n",
    "g = f2.create_group('edges')\n",
    "gg = g.create_group('lgn_to_v1')"
   ]
  },
  {
   "cell_type": "code",
   "execution_count": 36,
   "metadata": {},
   "outputs": [
    {
     "name": "stdout",
     "output_type": "stream",
     "text": [
      "0\n",
      "edge_group_id\n",
      "edge_group_index\n",
      "edge_type_id\n",
      "indicies\n",
      "source_node_id\n",
      "target_node_id\n"
     ]
    }
   ],
   "source": [
    "for k in list (config_h5s['lgn_v1_edges']['edges']['lgn_to_v1'].keys()):\n",
    "    print(k)\n",
    "    try:    print(np.shape(np.array(config_h5s['lgn_v1_edges']['edges']['bkg_to_v1'][k])))\n",
    "    except: pass\n",
    "    if 'node' in k:\n",
    "        f2['edges']['lgn_to_v1'].create_dataset(k, (d_lgn_edge_ids.shape[0],),  maxshape=( (None )),dtype=config_h5s['lgn_v1_edges']['edges']['lgn_to_v1'][k].dtype)\n",
    "        f2['edges']['lgn_to_v1'][k][:] = config_h5s['lgn_v1_edges']['edges']['lgn_to_v1'][k][d_lgn_edge_ids]\n",
    "    else:\n",
    "        if 'edge' in k:\n",
    "            f2['edges']['lgn_to_v1'].create_dataset(k, (d_lgn_edge_ids.shape[0],),  maxshape=( (None )),dtype=config_h5s['lgn_v1_edges']['edges']['lgn_to_v1'][k].dtype)\n",
    "            f2['edges']['lgn_to_v1'][k][:] = config_h5s['lgn_v1_edges']['edges']['lgn_to_v1'][k][d_lgn_edge_ids]\n",
    "        else: \n",
    "            config_h5s['lgn_v1_edges']['edges']['lgn_to_v1'].copy(k,f2['edges']['lgn_to_v1'])"
   ]
  },
  {
   "cell_type": "code",
   "execution_count": 37,
   "metadata": {},
   "outputs": [],
   "source": [
    "d_lgn_node_ids = np.sort(np.array(config_h5s['lgn_v1_edges']['edges']['lgn_to_v1']['source_node_id'])[d_lgn_edge_ids])"
   ]
  },
  {
   "cell_type": "code",
   "execution_count": 38,
   "metadata": {},
   "outputs": [],
   "source": [
    "f2 = h5.File(os.path.join(os.getcwd(),network_dir)+'/lgn_nodes_debug.h5','w')\n",
    "g = f2.create_group('nodes')\n",
    "gg = g.create_group('lgn')"
   ]
  },
  {
   "cell_type": "code",
   "execution_count": 39,
   "metadata": {},
   "outputs": [
    {
     "name": "stdout",
     "output_type": "stream",
     "text": [
      "0\n",
      "(9,)\n",
      "1\n",
      "(17,)\n",
      "node_group_id\n",
      "(17400,)\n"
     ]
    },
    {
     "ename": "TypeError",
     "evalue": "Indexing elements must be in increasing order",
     "output_type": "error",
     "traceback": [
      "\u001b[0;31m---------------------------------------------------------------------------\u001b[0m",
      "\u001b[0;31mTypeError\u001b[0m                                 Traceback (most recent call last)",
      "\u001b[0;32m~/opt/anaconda3/envs/nest/lib/python3.7/site-packages/h5py-2.10.0-py3.7-macosx-10.9-x86_64.egg/h5py/_hl/selections.py\u001b[0m in \u001b[0;36mselect\u001b[0;34m(shape, args, dsid)\u001b[0m\n\u001b[1;32m     84\u001b[0m             \u001b[0;32mtry\u001b[0m\u001b[0;34m:\u001b[0m\u001b[0;34m\u001b[0m\u001b[0;34m\u001b[0m\u001b[0m\n\u001b[0;32m---> 85\u001b[0;31m                 \u001b[0mint\u001b[0m\u001b[0;34m(\u001b[0m\u001b[0ma\u001b[0m\u001b[0;34m)\u001b[0m\u001b[0;34m\u001b[0m\u001b[0;34m\u001b[0m\u001b[0m\n\u001b[0m\u001b[1;32m     86\u001b[0m                 \u001b[0;32mif\u001b[0m \u001b[0misinstance\u001b[0m\u001b[0;34m(\u001b[0m\u001b[0ma\u001b[0m\u001b[0;34m,\u001b[0m \u001b[0mnp\u001b[0m\u001b[0;34m.\u001b[0m\u001b[0mndarray\u001b[0m\u001b[0;34m)\u001b[0m \u001b[0;32mand\u001b[0m \u001b[0ma\u001b[0m\u001b[0;34m.\u001b[0m\u001b[0mshape\u001b[0m \u001b[0;34m==\u001b[0m \u001b[0;34m(\u001b[0m\u001b[0;36m1\u001b[0m\u001b[0;34m,\u001b[0m\u001b[0;34m)\u001b[0m\u001b[0;34m:\u001b[0m\u001b[0;34m\u001b[0m\u001b[0;34m\u001b[0m\u001b[0m\n",
      "\u001b[0;31mTypeError\u001b[0m: only size-1 arrays can be converted to Python scalars",
      "\nDuring handling of the above exception, another exception occurred:\n",
      "\u001b[0;31mTypeError\u001b[0m                                 Traceback (most recent call last)",
      "\u001b[0;32m<ipython-input-39-1de54f5d8792>\u001b[0m in \u001b[0;36m<module>\u001b[0;34m\u001b[0m\n\u001b[1;32m      4\u001b[0m     \u001b[0;32mif\u001b[0m \u001b[0;34m'node'\u001b[0m \u001b[0;32min\u001b[0m \u001b[0mk\u001b[0m\u001b[0;34m:\u001b[0m\u001b[0;34m\u001b[0m\u001b[0;34m\u001b[0m\u001b[0m\n\u001b[1;32m      5\u001b[0m         \u001b[0mf2\u001b[0m\u001b[0;34m[\u001b[0m\u001b[0;34m'nodes'\u001b[0m\u001b[0;34m]\u001b[0m\u001b[0;34m[\u001b[0m\u001b[0;34m'lgn'\u001b[0m\u001b[0;34m]\u001b[0m\u001b[0;34m.\u001b[0m\u001b[0mcreate_dataset\u001b[0m\u001b[0;34m(\u001b[0m\u001b[0mk\u001b[0m\u001b[0;34m,\u001b[0m \u001b[0;34m(\u001b[0m\u001b[0md_lgn_node_ids\u001b[0m\u001b[0;34m.\u001b[0m\u001b[0mshape\u001b[0m\u001b[0;34m[\u001b[0m\u001b[0;36m0\u001b[0m\u001b[0;34m]\u001b[0m\u001b[0;34m,\u001b[0m\u001b[0;34m)\u001b[0m\u001b[0;34m,\u001b[0m  \u001b[0mmaxshape\u001b[0m\u001b[0;34m=\u001b[0m\u001b[0;34m(\u001b[0m \u001b[0;34m(\u001b[0m\u001b[0;32mNone\u001b[0m \u001b[0;34m)\u001b[0m\u001b[0;34m)\u001b[0m\u001b[0;34m,\u001b[0m\u001b[0mdtype\u001b[0m\u001b[0;34m=\u001b[0m\u001b[0mconfig_h5s\u001b[0m\u001b[0;34m[\u001b[0m\u001b[0;34m'lgn_nodes'\u001b[0m\u001b[0;34m]\u001b[0m\u001b[0;34m[\u001b[0m\u001b[0;34m'nodes'\u001b[0m\u001b[0;34m]\u001b[0m\u001b[0;34m[\u001b[0m\u001b[0;34m'lgn'\u001b[0m\u001b[0;34m]\u001b[0m\u001b[0;34m[\u001b[0m\u001b[0mk\u001b[0m\u001b[0;34m]\u001b[0m\u001b[0;34m.\u001b[0m\u001b[0mdtype\u001b[0m\u001b[0;34m)\u001b[0m\u001b[0;34m\u001b[0m\u001b[0;34m\u001b[0m\u001b[0m\n\u001b[0;32m----> 6\u001b[0;31m         \u001b[0mf2\u001b[0m\u001b[0;34m[\u001b[0m\u001b[0;34m'nodes'\u001b[0m\u001b[0;34m]\u001b[0m\u001b[0;34m[\u001b[0m\u001b[0;34m'lgn'\u001b[0m\u001b[0;34m]\u001b[0m\u001b[0;34m[\u001b[0m\u001b[0mk\u001b[0m\u001b[0;34m]\u001b[0m\u001b[0;34m[\u001b[0m\u001b[0;34m:\u001b[0m\u001b[0;34m]\u001b[0m \u001b[0;34m=\u001b[0m \u001b[0mconfig_h5s\u001b[0m\u001b[0;34m[\u001b[0m\u001b[0;34m'lgn_nodes'\u001b[0m\u001b[0;34m]\u001b[0m\u001b[0;34m[\u001b[0m\u001b[0;34m'nodes'\u001b[0m\u001b[0;34m]\u001b[0m\u001b[0;34m[\u001b[0m\u001b[0;34m'lgn'\u001b[0m\u001b[0;34m]\u001b[0m\u001b[0;34m[\u001b[0m\u001b[0mk\u001b[0m\u001b[0;34m]\u001b[0m\u001b[0;34m[\u001b[0m\u001b[0md_lgn_node_ids\u001b[0m\u001b[0;34m]\u001b[0m\u001b[0;34m\u001b[0m\u001b[0;34m\u001b[0m\u001b[0m\n\u001b[0m\u001b[1;32m      7\u001b[0m     \u001b[0;32melse\u001b[0m\u001b[0;34m:\u001b[0m\u001b[0;34m\u001b[0m\u001b[0;34m\u001b[0m\u001b[0m\n\u001b[1;32m      8\u001b[0m         \u001b[0mconfig_h5s\u001b[0m\u001b[0;34m[\u001b[0m\u001b[0;34m'lgn_nodes'\u001b[0m\u001b[0;34m]\u001b[0m\u001b[0;34m[\u001b[0m\u001b[0;34m'nodes'\u001b[0m\u001b[0;34m]\u001b[0m\u001b[0;34m[\u001b[0m\u001b[0;34m'lgn'\u001b[0m\u001b[0;34m]\u001b[0m\u001b[0;34m.\u001b[0m\u001b[0mcopy\u001b[0m\u001b[0;34m(\u001b[0m\u001b[0mk\u001b[0m\u001b[0;34m,\u001b[0m\u001b[0mf2\u001b[0m\u001b[0;34m[\u001b[0m\u001b[0;34m'nodes'\u001b[0m\u001b[0;34m]\u001b[0m\u001b[0;34m[\u001b[0m\u001b[0;34m'lgn'\u001b[0m\u001b[0;34m]\u001b[0m\u001b[0;34m)\u001b[0m\u001b[0;34m\u001b[0m\u001b[0;34m\u001b[0m\u001b[0m\n",
      "\u001b[0;32mh5py/_objects.pyx\u001b[0m in \u001b[0;36mh5py._objects.with_phil.wrapper\u001b[0;34m()\u001b[0m\n",
      "\u001b[0;32mh5py/_objects.pyx\u001b[0m in \u001b[0;36mh5py._objects.with_phil.wrapper\u001b[0;34m()\u001b[0m\n",
      "\u001b[0;32m~/opt/anaconda3/envs/nest/lib/python3.7/site-packages/h5py-2.10.0-py3.7-macosx-10.9-x86_64.egg/h5py/_hl/dataset.py\u001b[0m in \u001b[0;36m__getitem__\u001b[0;34m(self, args)\u001b[0m\n\u001b[1;32m    551\u001b[0m \u001b[0;34m\u001b[0m\u001b[0m\n\u001b[1;32m    552\u001b[0m         \u001b[0;31m# Perform the dataspace selection.\u001b[0m\u001b[0;34m\u001b[0m\u001b[0;34m\u001b[0m\u001b[0;34m\u001b[0m\u001b[0m\n\u001b[0;32m--> 553\u001b[0;31m         \u001b[0mselection\u001b[0m \u001b[0;34m=\u001b[0m \u001b[0msel\u001b[0m\u001b[0;34m.\u001b[0m\u001b[0mselect\u001b[0m\u001b[0;34m(\u001b[0m\u001b[0mself\u001b[0m\u001b[0;34m.\u001b[0m\u001b[0mshape\u001b[0m\u001b[0;34m,\u001b[0m \u001b[0margs\u001b[0m\u001b[0;34m,\u001b[0m \u001b[0mdsid\u001b[0m\u001b[0;34m=\u001b[0m\u001b[0mself\u001b[0m\u001b[0;34m.\u001b[0m\u001b[0mid\u001b[0m\u001b[0;34m)\u001b[0m\u001b[0;34m\u001b[0m\u001b[0;34m\u001b[0m\u001b[0m\n\u001b[0m\u001b[1;32m    554\u001b[0m \u001b[0;34m\u001b[0m\u001b[0m\n\u001b[1;32m    555\u001b[0m         \u001b[0;32mif\u001b[0m \u001b[0mselection\u001b[0m\u001b[0;34m.\u001b[0m\u001b[0mnselect\u001b[0m \u001b[0;34m==\u001b[0m \u001b[0;36m0\u001b[0m\u001b[0;34m:\u001b[0m\u001b[0;34m\u001b[0m\u001b[0;34m\u001b[0m\u001b[0m\n",
      "\u001b[0;32m~/opt/anaconda3/envs/nest/lib/python3.7/site-packages/h5py-2.10.0-py3.7-macosx-10.9-x86_64.egg/h5py/_hl/selections.py\u001b[0m in \u001b[0;36mselect\u001b[0;34m(shape, args, dsid)\u001b[0m\n\u001b[1;32m     88\u001b[0m             \u001b[0;32mexcept\u001b[0m \u001b[0mException\u001b[0m\u001b[0;34m:\u001b[0m\u001b[0;34m\u001b[0m\u001b[0;34m\u001b[0m\u001b[0m\n\u001b[1;32m     89\u001b[0m                 \u001b[0msel\u001b[0m \u001b[0;34m=\u001b[0m \u001b[0mFancySelection\u001b[0m\u001b[0;34m(\u001b[0m\u001b[0mshape\u001b[0m\u001b[0;34m)\u001b[0m\u001b[0;34m\u001b[0m\u001b[0;34m\u001b[0m\u001b[0m\n\u001b[0;32m---> 90\u001b[0;31m                 \u001b[0msel\u001b[0m\u001b[0;34m[\u001b[0m\u001b[0margs\u001b[0m\u001b[0;34m]\u001b[0m\u001b[0;34m\u001b[0m\u001b[0;34m\u001b[0m\u001b[0m\n\u001b[0m\u001b[1;32m     91\u001b[0m                 \u001b[0;32mreturn\u001b[0m \u001b[0msel\u001b[0m\u001b[0;34m\u001b[0m\u001b[0;34m\u001b[0m\u001b[0m\n\u001b[1;32m     92\u001b[0m \u001b[0;34m\u001b[0m\u001b[0m\n",
      "\u001b[0;32m~/opt/anaconda3/envs/nest/lib/python3.7/site-packages/h5py-2.10.0-py3.7-macosx-10.9-x86_64.egg/h5py/_hl/selections.py\u001b[0m in \u001b[0;36m__getitem__\u001b[0;34m(self, args)\u001b[0m\n\u001b[1;32m    365\u001b[0m                     \u001b[0madjacent\u001b[0m \u001b[0;34m=\u001b[0m \u001b[0mzip\u001b[0m\u001b[0;34m(\u001b[0m\u001b[0mlist_arg\u001b[0m\u001b[0;34m[\u001b[0m\u001b[0;34m:\u001b[0m\u001b[0;34m-\u001b[0m\u001b[0;36m1\u001b[0m\u001b[0;34m]\u001b[0m\u001b[0;34m,\u001b[0m \u001b[0mlist_arg\u001b[0m\u001b[0;34m[\u001b[0m\u001b[0;36m1\u001b[0m\u001b[0;34m:\u001b[0m\u001b[0;34m]\u001b[0m\u001b[0;34m)\u001b[0m\u001b[0;34m\u001b[0m\u001b[0;34m\u001b[0m\u001b[0m\n\u001b[1;32m    366\u001b[0m                     \u001b[0;32mif\u001b[0m \u001b[0many\u001b[0m\u001b[0;34m(\u001b[0m\u001b[0mfst\u001b[0m \u001b[0;34m>=\u001b[0m \u001b[0msnd\u001b[0m \u001b[0;32mfor\u001b[0m \u001b[0mfst\u001b[0m\u001b[0;34m,\u001b[0m \u001b[0msnd\u001b[0m \u001b[0;32min\u001b[0m \u001b[0madjacent\u001b[0m\u001b[0;34m)\u001b[0m\u001b[0;34m:\u001b[0m\u001b[0;34m\u001b[0m\u001b[0;34m\u001b[0m\u001b[0m\n\u001b[0;32m--> 367\u001b[0;31m                         \u001b[0;32mraise\u001b[0m \u001b[0mTypeError\u001b[0m\u001b[0;34m(\u001b[0m\u001b[0;34m\"Indexing elements must be in increasing order\"\u001b[0m\u001b[0;34m)\u001b[0m\u001b[0;34m\u001b[0m\u001b[0;34m\u001b[0m\u001b[0m\n\u001b[0m\u001b[1;32m    368\u001b[0m \u001b[0;34m\u001b[0m\u001b[0m\n\u001b[1;32m    369\u001b[0m         \u001b[0;32mif\u001b[0m \u001b[0mlen\u001b[0m\u001b[0;34m(\u001b[0m\u001b[0msequenceargs\u001b[0m\u001b[0;34m)\u001b[0m \u001b[0;34m>\u001b[0m \u001b[0;36m1\u001b[0m\u001b[0;34m:\u001b[0m\u001b[0;34m\u001b[0m\u001b[0;34m\u001b[0m\u001b[0m\n",
      "\u001b[0;31mTypeError\u001b[0m: Indexing elements must be in increasing order"
     ]
    }
   ],
   "source": [
    "for k in list (config_h5s['lgn_nodes']['nodes']['lgn'].keys()):\n",
    "    print(k)\n",
    "    print(np.shape(np.array(config_h5s['lgn_nodes']['nodes']['lgn'][k])))\n",
    "    if 'node' in k:\n",
    "        f2['nodes']['lgn'].create_dataset(k, (d_lgn_node_ids.shape[0],),  maxshape=( (None )),dtype=config_h5s['lgn_nodes']['nodes']['lgn'][k].dtype)\n",
    "        f2['nodes']['lgn'][k][:] = config_h5s['lgn_nodes']['nodes']['lgn'][k][d_lgn_node_ids]\n",
    "    else: \n",
    "        config_h5s['lgn_nodes']['nodes']['lgn'].copy(k,f2['nodes']['lgn'])"
   ]
  },
  {
   "cell_type": "code",
   "execution_count": 40,
   "metadata": {},
   "outputs": [],
   "source": [
    "f2.close()"
   ]
  },
  {
   "cell_type": "markdown",
   "metadata": {},
   "source": [
    "run the simulation"
   ]
  },
  {
   "cell_type": "code",
   "execution_count": 12,
   "metadata": {},
   "outputs": [],
   "source": [
    "from bmtk.utils.sim_setup import build_env_bionet\n",
    "build_env_bionet(base_dir='sim_v1_dbs',      \n",
    "                 network_dir=network_dir,\n",
    "                 tstop=500.0, dt=0.1,\n",
    "                 report_vars=['v','spikes'],     # Record membrane potential and spikes\n",
    "                 include_examples=True,    # Copies components files\n",
    "                 compile_mechanisms=True   # Will try to compile NEURON mechanisms\n",
    "                )"
   ]
  },
  {
   "cell_type": "markdown",
   "metadata": {},
   "source": [
    "manually added the extracellular input to stimulation_config.json"
   ]
  },
  {
   "cell_type": "code",
   "execution_count": 8,
   "metadata": {},
   "outputs": [],
   "source": [
    "from bmtk.simulator.bionet.pyfunction_cache import synaptic_weight"
   ]
  },
  {
   "cell_type": "code",
   "execution_count": 9,
   "metadata": {},
   "outputs": [],
   "source": [
    "@synaptic_weight\n",
    "def DirectionRule_others(edge_props, src_node, trg_node):\n",
    "    nsyn = 1 # edge_props['nsyns']\n",
    "    sigma = edge_props['weight_sigma']\n",
    "    src_tuning = src_node['tuning_angle']\n",
    "    tar_tuning = trg_node['tuning_angle']\n",
    "\n",
    "    delta_tuning_180 = abs(abs((abs(tar_tuning - src_tuning) % 360.0) - 180.0) - 180.0)\n",
    "    w_multiplier_180 = np.exp(-(delta_tuning_180 / sigma) ** 2)\n",
    "    return w_multiplier_180 * edge_props['syn_weight']\n",
    "\n",
    "\n",
    "@synaptic_weight\n",
    "def DirectionRule_EE(edge_props, src_node, trg_node):\n",
    "    nsyn = 1 # edge_props['nsyns']\n",
    "    sigma = edge_props['weight_sigma']\n",
    "\n",
    "    src_tuning = src_node['tuning_angle']\n",
    "    x_src = src_node['x']\n",
    "    z_src = src_node['z']\n",
    "\n",
    "    tar_tuning = trg_node['tuning_angle']\n",
    "    x_tar = trg_node['x']\n",
    "    z_tar = trg_node['z']\n",
    "\n",
    "    delta_tuning_180 = abs(abs((abs(tar_tuning - src_tuning) % 360.0) - 180.0) - 180.0)\n",
    "    w_multiplier_180 = np.exp(-(delta_tuning_180 / sigma) ** 2)\n",
    "\n",
    "    delta_x = (x_tar - x_src) * 0.07\n",
    "    delta_z = (z_tar - z_src) * 0.04\n",
    "\n",
    "    theta_pref = tar_tuning * (np.pi / 180.)\n",
    "    xz = delta_x * np.cos(theta_pref) + delta_z * np.sin(theta_pref)\n",
    "    sigma_phase = 1.0\n",
    "    phase_scale_ratio = np.exp(- (xz ** 2 / (2 * sigma_phase ** 2)))\n",
    "\n",
    "    # To account for the 0.07 vs 0.04 dimensions. This ensures\n",
    "    # the horizontal neurons are scaled by 5.5/4 (from the midpoint\n",
    "    # of 4 & 7). Also, ensures the vertical is scaled by 5.5/7. This\n",
    "    # was a basic linear estimate to get the numbers (y = ax + b).\n",
    "    theta_tar_scale = abs(abs(abs(180.0 - abs(tar_tuning) % 360.0) - 90.0) - 90.0)\n",
    "    phase_scale_ratio = phase_scale_ratio * (5.5 / 4 - 11. / 1680 * theta_tar_scale)\n",
    "\n",
    "    return w_multiplier_180 * phase_scale_ratio * edge_props['syn_weight']\n"
   ]
  },
  {
   "cell_type": "raw",
   "metadata": {},
   "source": [
    "python -m bmtk.utils.sim_setup  \\\n",
    "   --report-vars v,spikes           \\                             \n",
    "   --network sim_v1_dbs/network_debug     \\                              \n",
    "   --dt 0.05             \\\n",
    "   --tstop 500.0       \\  \n",
    "   --include-examples   \\\n",
    "   --compile-mechanisms \\ \n",
    "   bionet sim_v1_dbs"
   ]
  },
  {
   "cell_type": "code",
   "execution_count": 10,
   "metadata": {},
   "outputs": [
    {
     "ename": "FileNotFoundError",
     "evalue": "[Errno 2] No such file or directory: 'sim_v1_dbs/simulation_config_debug.json'",
     "output_type": "error",
     "traceback": [
      "\u001b[0;31m---------------------------------------------------------------------------\u001b[0m",
      "\u001b[0;31mFileNotFoundError\u001b[0m                         Traceback (most recent call last)",
      "\u001b[0;32m<ipython-input-10-1d5cecf94307>\u001b[0m in \u001b[0;36m<module>\u001b[0;34m\u001b[0m\n\u001b[1;32m      2\u001b[0m \u001b[0;34m\u001b[0m\u001b[0m\n\u001b[1;32m      3\u001b[0m \u001b[0;34m\u001b[0m\u001b[0m\n\u001b[0;32m----> 4\u001b[0;31m \u001b[0mconf\u001b[0m \u001b[0;34m=\u001b[0m \u001b[0mbionet\u001b[0m\u001b[0;34m.\u001b[0m\u001b[0mConfig\u001b[0m\u001b[0;34m.\u001b[0m\u001b[0mfrom_json\u001b[0m\u001b[0;34m(\u001b[0m\u001b[0;34m'sim_v1_dbs/simulation_config_debug.json'\u001b[0m\u001b[0;34m)\u001b[0m\u001b[0;34m\u001b[0m\u001b[0;34m\u001b[0m\u001b[0m\n\u001b[0m\u001b[1;32m      5\u001b[0m \u001b[0mconf\u001b[0m\u001b[0;34m.\u001b[0m\u001b[0mbuild_env\u001b[0m\u001b[0;34m(\u001b[0m\u001b[0;34m)\u001b[0m\u001b[0;34m\u001b[0m\u001b[0;34m\u001b[0m\u001b[0m\n\u001b[1;32m      6\u001b[0m \u001b[0mnet\u001b[0m \u001b[0;34m=\u001b[0m \u001b[0mbionet\u001b[0m\u001b[0;34m.\u001b[0m\u001b[0mBioNetwork\u001b[0m\u001b[0;34m.\u001b[0m\u001b[0mfrom_config\u001b[0m\u001b[0;34m(\u001b[0m\u001b[0mconf\u001b[0m\u001b[0;34m)\u001b[0m\u001b[0;34m\u001b[0m\u001b[0;34m\u001b[0m\u001b[0m\n",
      "\u001b[0;32m~/opt/anaconda3/envs/nest/lib/python3.7/site-packages/bmtk-0.0.8-py3.7.egg/bmtk/utils/sonata/config/sonata_config.py\u001b[0m in \u001b[0;36mfrom_json\u001b[0;34m(cls, config_file, validator, **opts)\u001b[0m\n\u001b[1;32m    136\u001b[0m     \u001b[0;34m@\u001b[0m\u001b[0mclassmethod\u001b[0m\u001b[0;34m\u001b[0m\u001b[0;34m\u001b[0m\u001b[0m\n\u001b[1;32m    137\u001b[0m     \u001b[0;32mdef\u001b[0m \u001b[0mfrom_json\u001b[0m\u001b[0;34m(\u001b[0m\u001b[0mcls\u001b[0m\u001b[0;34m,\u001b[0m \u001b[0mconfig_file\u001b[0m\u001b[0;34m,\u001b[0m \u001b[0mvalidator\u001b[0m\u001b[0;34m=\u001b[0m\u001b[0;32mNone\u001b[0m\u001b[0;34m,\u001b[0m \u001b[0;34m**\u001b[0m\u001b[0mopts\u001b[0m\u001b[0;34m)\u001b[0m\u001b[0;34m:\u001b[0m\u001b[0;34m\u001b[0m\u001b[0;34m\u001b[0m\u001b[0m\n\u001b[0;32m--> 138\u001b[0;31m         \u001b[0;32mreturn\u001b[0m \u001b[0mcls\u001b[0m\u001b[0;34m(\u001b[0m\u001b[0mConfigParser\u001b[0m\u001b[0;34m(\u001b[0m\u001b[0;34m**\u001b[0m\u001b[0mopts\u001b[0m\u001b[0;34m)\u001b[0m\u001b[0;34m.\u001b[0m\u001b[0mparse\u001b[0m\u001b[0;34m(\u001b[0m\u001b[0mconfig_file\u001b[0m\u001b[0;34m)\u001b[0m\u001b[0;34m)\u001b[0m\u001b[0;34m\u001b[0m\u001b[0;34m\u001b[0m\u001b[0m\n\u001b[0m\u001b[1;32m    139\u001b[0m \u001b[0;34m\u001b[0m\u001b[0m\n\u001b[1;32m    140\u001b[0m     \u001b[0;34m@\u001b[0m\u001b[0mclassmethod\u001b[0m\u001b[0;34m\u001b[0m\u001b[0;34m\u001b[0m\u001b[0m\n",
      "\u001b[0;32m~/opt/anaconda3/envs/nest/lib/python3.7/site-packages/bmtk-0.0.8-py3.7.egg/bmtk/utils/sonata/config/sonata_config.py\u001b[0m in \u001b[0;36mparse\u001b[0;34m(self, cfg_obj)\u001b[0m\n\u001b[1;32m    261\u001b[0m         \"\"\"\n\u001b[1;32m    262\u001b[0m         \u001b[0;32mif\u001b[0m \u001b[0misinstance\u001b[0m\u001b[0;34m(\u001b[0m\u001b[0mcfg_obj\u001b[0m\u001b[0;34m,\u001b[0m \u001b[0mstring_types\u001b[0m\u001b[0;34m)\u001b[0m\u001b[0;34m:\u001b[0m\u001b[0;34m\u001b[0m\u001b[0;34m\u001b[0m\u001b[0m\n\u001b[0;32m--> 263\u001b[0;31m             \u001b[0mconf\u001b[0m \u001b[0;34m=\u001b[0m \u001b[0mjson\u001b[0m\u001b[0;34m.\u001b[0m\u001b[0mload\u001b[0m\u001b[0;34m(\u001b[0m\u001b[0mopen\u001b[0m\u001b[0;34m(\u001b[0m\u001b[0mcfg_obj\u001b[0m\u001b[0;34m,\u001b[0m \u001b[0;34m'r'\u001b[0m\u001b[0;34m)\u001b[0m\u001b[0;34m)\u001b[0m\u001b[0;34m\u001b[0m\u001b[0;34m\u001b[0m\u001b[0m\n\u001b[0m\u001b[1;32m    264\u001b[0m             \u001b[0mconf\u001b[0m\u001b[0;34m[\u001b[0m\u001b[0;34m'config_path'\u001b[0m\u001b[0;34m]\u001b[0m \u001b[0;34m=\u001b[0m \u001b[0mos\u001b[0m\u001b[0;34m.\u001b[0m\u001b[0mpath\u001b[0m\u001b[0;34m.\u001b[0m\u001b[0mabspath\u001b[0m\u001b[0;34m(\u001b[0m\u001b[0mcfg_obj\u001b[0m\u001b[0;34m)\u001b[0m\u001b[0;34m\u001b[0m\u001b[0;34m\u001b[0m\u001b[0m\n\u001b[1;32m    265\u001b[0m             \u001b[0mconf\u001b[0m\u001b[0;34m[\u001b[0m\u001b[0;34m'config_dir'\u001b[0m\u001b[0;34m]\u001b[0m \u001b[0;34m=\u001b[0m \u001b[0mos\u001b[0m\u001b[0;34m.\u001b[0m\u001b[0mpath\u001b[0m\u001b[0;34m.\u001b[0m\u001b[0mdirname\u001b[0m\u001b[0;34m(\u001b[0m\u001b[0mconf\u001b[0m\u001b[0;34m[\u001b[0m\u001b[0;34m'config_path'\u001b[0m\u001b[0;34m]\u001b[0m\u001b[0;34m)\u001b[0m\u001b[0;34m\u001b[0m\u001b[0;34m\u001b[0m\u001b[0m\n",
      "\u001b[0;31mFileNotFoundError\u001b[0m: [Errno 2] No such file or directory: 'sim_v1_dbs/simulation_config_debug.json'"
     ]
    }
   ],
   "source": [
    "from bmtk.simulator import bionet\n",
    "\n",
    "\n",
    "conf = bionet.Config.from_json('sim_v1_dbs/simulation_config_debug.json')\n",
    "conf.build_env()\n",
    "net = bionet.BioNetwork.from_config(conf)\n",
    "sim = bionet.BioSimulator.from_config(conf, network=net)\n",
    "sim.run()"
   ]
  },
  {
   "cell_type": "code",
   "execution_count": null,
   "metadata": {},
   "outputs": [],
   "source": []
  }
 ],
 "metadata": {
  "kernelspec": {
   "display_name": "Python 3",
   "language": "python",
   "name": "python3"
  },
  "language_info": {
   "codemirror_mode": {
    "name": "ipython",
    "version": 3
   },
   "file_extension": ".py",
   "mimetype": "text/x-python",
   "name": "python",
   "nbconvert_exporter": "python",
   "pygments_lexer": "ipython3",
   "version": "3.7.6"
  }
 },
 "nbformat": 4,
 "nbformat_minor": 4
}
